{
  "nbformat": 4,
  "nbformat_minor": 0,
  "metadata": {
    "colab": {
      "name": "Model_Evaluation_Text_Summarization.ipynb",
      "provenance": [],
      "collapsed_sections": []
    },
    "kernelspec": {
      "name": "python3",
      "display_name": "Python 3"
    },
    "language_info": {
      "name": "python"
    }
  },
  "cells": [
    {
      "cell_type": "markdown",
      "metadata": {
        "id": "RVcyaGDPth8_"
      },
      "source": [
        "# Importing Libraries"
      ]
    },
    {
      "cell_type": "code",
      "metadata": {
        "id": "5DmEd3S9x6C6",
        "colab": {
          "base_uri": "https://localhost:8080/"
        },
        "outputId": "fa920665-ee3e-4871-8ae9-7ac34924fe89"
      },
      "source": [
        "from nltk.tokenize import sent_tokenize\n",
        "from nltk.corpus import stopwords\n",
        "from nltk.tokenize import RegexpTokenizer\n",
        "from nltk.stem import WordNetLemmatizer \n",
        "import math\n",
        "import nltk\n",
        "import re\n",
        "import requests\n",
        "import bs4\n",
        "!pip install contractions\n",
        "import contractions\n",
        "nltk.download('punkt')\n",
        "nltk.download('stopwords')\n",
        "nltk.download('wordnet')"
      ],
      "execution_count": null,
      "outputs": [
        {
          "output_type": "stream",
          "text": [
            "Collecting contractions\n",
            "  Downloading https://files.pythonhosted.org/packages/0a/04/d5e0bb9f2cef5d15616ebf68087a725c5dbdd71bd422bcfb35d709f98ce7/contractions-0.0.48-py2.py3-none-any.whl\n",
            "Collecting textsearch>=0.0.21\n",
            "  Downloading https://files.pythonhosted.org/packages/d3/fe/021d7d76961b5ceb9f8d022c4138461d83beff36c3938dc424586085e559/textsearch-0.0.21-py2.py3-none-any.whl\n",
            "Collecting pyahocorasick\n",
            "\u001b[?25l  Downloading https://files.pythonhosted.org/packages/7f/c2/eae730037ae1cbbfaa229d27030d1d5e34a1e41114b21447d1202ae9c220/pyahocorasick-1.4.2.tar.gz (321kB)\n",
            "\u001b[K     |████████████████████████████████| 327kB 16.3MB/s \n",
            "\u001b[?25hCollecting anyascii\n",
            "\u001b[?25l  Downloading https://files.pythonhosted.org/packages/a3/14/666cd44bf53f36a961544af592cb5c5c800013f9c51a4745af8d7c17362a/anyascii-0.2.0-py3-none-any.whl (283kB)\n",
            "\u001b[K     |████████████████████████████████| 286kB 31.4MB/s \n",
            "\u001b[?25hBuilding wheels for collected packages: pyahocorasick\n",
            "  Building wheel for pyahocorasick (setup.py) ... \u001b[?25l\u001b[?25hdone\n",
            "  Created wheel for pyahocorasick: filename=pyahocorasick-1.4.2-cp37-cp37m-linux_x86_64.whl size=85397 sha256=f36a474ce2fc630c25c1d750335314b6d856f187245324b5a4501f823837d497\n",
            "  Stored in directory: /root/.cache/pip/wheels/3a/03/34/77e3ece0bba8b86bfac88a79f923b36d805cad63caeba38842\n",
            "Successfully built pyahocorasick\n",
            "Installing collected packages: pyahocorasick, anyascii, textsearch, contractions\n",
            "Successfully installed anyascii-0.2.0 contractions-0.0.48 pyahocorasick-1.4.2 textsearch-0.0.21\n",
            "[nltk_data] Downloading package punkt to /root/nltk_data...\n",
            "[nltk_data]   Unzipping tokenizers/punkt.zip.\n",
            "[nltk_data] Downloading package stopwords to /root/nltk_data...\n",
            "[nltk_data]   Unzipping corpora/stopwords.zip.\n",
            "[nltk_data] Downloading package wordnet to /root/nltk_data...\n",
            "[nltk_data]   Unzipping corpora/wordnet.zip.\n"
          ],
          "name": "stdout"
        },
        {
          "output_type": "execute_result",
          "data": {
            "text/plain": [
              "True"
            ]
          },
          "metadata": {
            "tags": []
          },
          "execution_count": 1
        }
      ]
    },
    {
      "cell_type": "markdown",
      "metadata": {
        "id": "NeAZbfqxyaG2"
      },
      "source": [
        "#1. Text Summarization Using TF-IDF\n",
        "\n",
        "\n",
        "\n",
        "We used Extracted Summarization Method. In this keyphrases are selected which occurs in the document."
      ]
    },
    {
      "cell_type": "markdown",
      "metadata": {
        "id": "kY1IG5Iiy0Ne"
      },
      "source": [
        "### Converting The Paragraph into Sentences"
      ]
    },
    {
      "cell_type": "code",
      "metadata": {
        "id": "VDw8CWhGye_w"
      },
      "source": [
        "def paragraphToSentence(paragraph):\n",
        "\n",
        "    sentencesDict = {}\n",
        "    sentencesList = sent_tokenize(paragraph)\n",
        "    \n",
        "    for i in range(len(sentencesList)):\n",
        "        sentencesDict[i] = sentencesList[i].strip()\n",
        "    \n",
        "    return sentencesDict"
      ],
      "execution_count": null,
      "outputs": []
    },
    {
      "cell_type": "code",
      "metadata": {
        "id": "9xCqZijTYJ-H"
      },
      "source": [
        "\n",
        "def cleaning(file):\n",
        "  documentsDict = {}\n",
        "  for key in file:\n",
        "    clean_S = contractions.fix(file[key])\n",
        "    clean_S = re.sub(r'[\\!@#$%^&\\*()\\_+={}\\:\\;<>\\?/\\|\\-/\"\\']*',\"\", clean_S)  #junk symbols\n",
        "    clean_S = re.sub('\\s+', ' ', clean_S)    \n",
        "    clean_S=re.sub(\"[^a-zA-Z\\s\\n\\.]\", \" \",clean_S)  #used to eliminate non-ascii and numeric symbols \n",
        "    clean_S = re.sub(r\"(.)\\1{2}\",\"\",clean_S)  #for elongated words\n",
        "    clean_S = clean_S.strip()\n",
        "    documentsDict[key]=clean_S\n",
        "  \n",
        "  return documentsDict"
      ],
      "execution_count": null,
      "outputs": []
    },
    {
      "cell_type": "code",
      "metadata": {
        "id": "QpcoEBqKxlKR"
      },
      "source": [
        "def clean(file):\n",
        "  clean_S = contractions.fix(file)\n",
        "  clean_S = re.sub(\"\\[\\d+\\]\",\"\",clean_S).strip()\n",
        "  clean_S = re.sub(r'[\\!@#$%^&\\*()\\_+={}\\,\\:\\;<>\\?/\\|\\-/\"\\']*',\"\", clean_S)\n",
        "  clean_S = re.sub('\\s+', ' ', clean_S)    \n",
        "  clean_S=re.sub(\"[^a-zA-Z0-9\\s\\n\\.]\", \" \",clean_S)  #used to eliminate non-ascii and numeric symbols \n",
        "  clean_S = clean_S.strip()\n",
        "  return clean_S"
      ],
      "execution_count": null,
      "outputs": []
    },
    {
      "cell_type": "code",
      "metadata": {
        "id": "mcFHqOE7_C6_"
      },
      "source": [
        "res = requests.get(\"https://en.wikipedia.org/wiki/Car\")\n",
        "wiki = bs4.BeautifulSoup(res.text, \"lxml\")\n",
        "para = [''.join([i.getText() for i in wiki.select('p')])]"
      ],
      "execution_count": null,
      "outputs": []
    },
    {
      "cell_type": "code",
      "metadata": {
        "id": "DarI8m1Lx57g",
        "colab": {
          "base_uri": "https://localhost:8080/",
          "height": 205
        },
        "outputId": "68ec841c-a2af-461a-a1d6-5c8f600ce22c"
      },
      "source": [
        "clean(para[0])"
      ],
      "execution_count": null,
      "outputs": [
        {
          "output_type": "execute_result",
          "data": {
            "application/vnd.google.colaboratory.intrinsic+json": {
              "type": "string"
            },
            "text/plain": [
              "'A car or automobile is a wheeled motor vehicle used for transportation. Most definitions of cars say that they run primarily on roads seat one to eight people have four wheels and mainly transport people rather than goods. Cars came into global use during the 20th century and developed economies depend on them. The year 1886 is regarded as the birth year of the modern car when German inventor Karl Benz patented his Benz PatentMotorwagen. Cars became widely available in the early 20th century. One of the first cars accessible to the masses was the 1908 Model T an American car manufactured by the Ford Motor Company. Cars were rapidly adopted in the US where they replaced animaldrawn carriages and carts but took much longer to be accepted in Western Europe and other parts of the world. citation needed  Cars have controls for driving parking passenger comfort and a variety of lights. Over the decades additional features and controls have been added to vehicles making them progressively more complex but also more reliable and easier to operate. citation needed  These include rearreversing cameras air conditioning navigation systems and incar entertainment. Most cars in use in the 2010s are propelled by an internal combustion engine fueled by the combustion of fossil fuels. Electric cars which were invented early in the history of the car became commercially available in the 2000s and are predicted to cost less to buy than gasoline cars before 2025. The transition from fossil fuels to electric cars features prominently in most climate change mitigation scenarios such as Project Drawdowns 100 actionable solutions for climate change. There are costs and benefits to car use. The costs to the individual include acquiring the vehicle interest payments if the car is financed repairs and maintenance fuel depreciation driving time parking fees taxes and insurance. The costs to society include maintaining roads land use road congestion air pollution public health healthcare and disposing of the vehicle at the end of its life. Traffic collisions are the largest because of injuryrelated deaths worldwide. The personal benefits include ondemand transportation mobility independence and convenience. The societal benefits include economic benefits such as job and wealth creation from the automotive industry transportation provision societal wellbeing from leisure and travel opportunities and revenue generation from the taxes. Peoples ability to move flexibly from place to place has farreaching implications for the nature of societies. There are around 1 billion cars in use worldwide. The numbers are increasing rapidly especially in China India and other newly industrialized countries. The English word car is believed to originate from Latin carruscarrum wheeled vehicle or via Old North French Middle English carre twowheeled cart both of which in turn derive from Gaulish karros chariot. It originally referred to any wheeled horsedrawn vehicle such as a cart carriage or wagon. Motor car attested from 1895 is the usual formal term in British English. Autocar a variant likewise attested from 1895 and literally meaning selfpropelled car is now considered archaic. Horseless carriage is attested from 1895. Automobile a classical compound derived from Ancient Greek aut s       self and Latin mobilis movable entered English from French and was first adopted by the Automobile Club of Great Britain in 1897. It fell out of favour in Britain and is now used chiefly in North America where the abbreviated form auto commonly appears as an adjective in compound formations like auto industry and auto mechanic. Both forms are still used in everyday Dutch autoautomobiel and German AutoAutomobil. citation needed  The first working steampowered vehicle was designed and quite possibly built by Ferdinand Verbiest a Flemish member of a Jesuit mission in China around 1672. It was a 65centimetre 26 inlong scalemodel toy for the Kangxi Emperor that was unable to carry a driver or a passenger. It is not known with certainty if Verbiests model was successfully built or run. NicolasJoseph Cugnot is widely credited with building the first fullscale selfpropelled mechanical vehicle or car in about 1769 he created a steampowered tricycle. He also constructed two steam tractors for the French Army one of which is preserved in the French National Conservatory of Arts and Crafts. His inventions were however handicapped by problems with water supply and maintaining steam pressure. In 1801 Richard Trevithick built and demonstrated his Puffing Devil road locomotive believed by many to be the first demonstration of a steampowered road vehicle. It was unable to maintain sufficient steam pressure for long periods and was of little practical use. The development of external combustion engines is detailed as part of the history of the car but often treated separately from the development of true cars. A variety of steampowered road vehicles were used during the first part of the 19th century including steam cars steam buses phaetons and steam rollers. Sentiment against them led to the Locomotive Acts of 1865. In 1807 Nic phore Ni pce and his brother Claude created what was probably the worlds first internal combustion engine which they called a Pyr olophore but they chose to install it in a boat on the river Saone in France. Coincidentally in 1807 the Swiss inventor Fran ois Isaac de Rivaz designed his own de Rivaz internal combustion engine and used it to develop the worlds first vehicle to be powered by such an engine. The Ni pces Pyr olophore was fuelled by a mixture of Lycopodium powder dried spores of the Lycopodium plant finely crushed coal dust and resin that were mixed with oil whereas de Rivaz used a mixture of hydrogen and oxygen. Neither design was very successful as was the case with others such as Samuel Brown Samuel Morey and Etienne Lenoir with his hippomobile who each produced vehicles usually adapted carriages or carts powered by internal combustion engines. In November 1881 French inventor Gustave Trouv  demonstrated the first working threewheeled car powered by electricity at the International Exposition of Electricity Paris. Although several other German engineers including Gottlieb Daimler Wilhelm Maybach and Siegfried Marcus were working on the problem at about the same time Karl Benz generally is acknowledged as the inventor of the modern car. In 1879 Benz was granted a patent for his first engine which had been designed in 1878. Many of his other inventions made the use of the internal combustion engine feasible for powering a vehicle. His first Motorwagen was built in 1885 in Mannheim Germany. He was awarded the patent for its invention as of his application on 29 January 1886 under the auspices of his major company Benz Cie. which was founded in 1883. Benz began promotion of the vehicle on 3 July 1886 and about 25 Benz vehicles were sold between 1888 and 1893 when his first fourwheeler was introduced along with a cheaper model. They also were powered with fourstroke engines of his own design. Emile Roger of France already producing Benz engines under license now added the Benz car to his line of products. Because France was more open to the early cars initially more were built and sold in France through Roger than Benz sold in Germany. In August 1888 Bertha Benz the wife of Karl Benz undertook the first road trip by car to prove the roadworthiness of her husbands invention. In 1896 Benz designed and patented the first internalcombustion flat engine called boxermotor. During the last years of the nineteenth century Benz was the largest car company in the world with 572 units produced in 1899 and because of its size Benz Cie. became a jointstock company. The first motor car in central Europe and one of the first factorymade cars in the world was produced by Czech company Nesselsdorfer Wagenbau later renamed to Tatra in 1897 the Pr sident automobil. Daimler and Maybach founded Daimler Motoren Gesellschaft DMG in Cannstatt in 1890 and sold their first car in 1892 under the brand name Daimler. It was a horsedrawn stagecoach built by another manufacturer which they retrofitted with an engine of their design. By 1895 about 30 vehicles had been built by Daimler and Maybach either at the Daimler works or in the Hotel Hermann where they set up shop after disputes with their backers. Benz Maybach and the Daimler team seem to have been unaware of each others early work. They never worked together by the time of the merger of the two companies Daimler and Maybach were no longer part of DMG. Daimler died in 1900 and later that year Maybach designed an engine named DaimlerMercedes that was placed in a specially ordered model built to specifications set by Emil Jellinek. This was a production of a small number of vehicles for Jellinek to race and market in his country. Two years later in 1902 a new model DMG car was produced and the model was named Mercedes after the Maybach engine which generated 35 hp. Maybach quit DMG shortly thereafter and opened a business of his own. Rights to the Daimler brand name were sold to other manufacturers. Karl Benz proposed cooperation between DMG and Benz Cie. when economic conditions began to deteriorate in Germany following the First World War but the directors of DMG refused to consider it initially. Negotiations between the two companies resumed several years later when these conditions worsened and in 1924 they signed an Agreement of Mutual Interest valid until the year 2000. Both enterprises standardized design production purchasing and sales and they advertised or marketed their car models jointly although keeping their respective brands. On 28 June 1926 Benz Cie. and DMG finally merged as the DaimlerBenz company baptizing all of its cars Mercedes Benz as a brand honoring the most important model of the DMG cars the Maybach design later referred to as the 1902 Mercedes35 hp along with the Benz name. Karl Benz remained a member of the board of directors of DaimlerBenz until his death in 1929 and at times his two sons also participated in the management of the company. In 1890  mile Levassor and Armand Peugeot of France began producing vehicles with Daimler engines and so laid the foundation of the automotive industry in France. In 1891 Auguste Doriot and his Peugeot colleague Louis Rigoulot completed the longest trip by a gasolinepowered vehicle when their selfdesigned and built Daimler powered Peugeot Type 3 completed 2100 km 1300 miles from Valentigney to Paris and Brest and back again. They were attached to the first Paris Brest Paris bicycle race but finished 6 days after the winning cyclist Charles Terront. The first design for an American car with a gasoline internal combustion engine was made in 1877 by George Selden of Rochester New York. Selden applied for a patent for a car in 1879 but the patent application expired because the vehicle was never built. After a delay of sixteen years and a series of attachments to his application on 5 November 1895 Selden was granted a United States patent you.S. Patent 549160 for a twostroke car engine which hindered more than encouraged development of cars in the United States. His patent was challenged by Henry Ford and others and overturned in 1911. In 1893 the first running gasolinepowered American car was built and roadtested by the Duryea brothers of Springfield Massachusetts. The first public run of the Duryea Motor Wagon took place on 21 September 1893 on Taylor Street in Metro Center Springfield. The Studebaker Automobile Company subsidiary of a longestablished wagon and coach manufacturer started to build cars in 1897p.66 and commenced sales of electric vehicles in 1902 and gasoline vehicles in 1904. In Britain there had been several attempts to build steam cars with varying degrees of success with Thomas Rickett even attempting a production run in 1860. Santler from Malvern is recognized by the Veteran Car Club of Great Britain as having made the first gasolinepowered car in the country in 1894 followed by Frederick William Lanchester in 1895 but these were both oneoffs. The first production vehicles in Great Britain came from the Daimler Company a company founded by Harry J. Lawson in 1896 after purchasing the right to use the name of the engines. Lawsons company made its first car in 1897 and they bore the name Daimler. In 1892 German engineer Rudolf Diesel was granted a patent for a New Rational Combustion Engine. In 1897 he built the first diesel engine. Steam electric and gasolinepowered vehicles competed for decades with gasoline internal combustion engines achieving dominance in the 1910s. Although various pistonless rotary engine designs have attempted to compete with the conventional piston and crankshaft design only Mazdas version of the Wankel engine has had more than very limited success. All in all it is estimated that over 100000 patents created the modern automobile and motorcycle. Largescale productionline manufacturing of affordable cars was started by Ransom Olds in 1901 at his Oldsmobile factory in Lansing Michigan and based upon stationary assembly line techniques pioneered by Marc Isambard Brunel at the Portsmouth Block Mills England in 1802. The assembly line style of mass production and interchangeable parts had been pioneered in the you.S. by Thomas Blanchard in 1821 at the Springfield Armory in Springfield Massachusetts. This concept was greatly expanded by Henry Ford beginning in 1913 with the worlds first moving assembly line for cars at the Highland Park Ford Plant. As a result Fords cars came off the line in fifteenminute intervals much faster than previous methods increasing productivity eightfold while using less manpower from 12.5manhours to 1 hour 33 minutes. It was so successful paint became a bottleneck. Only Japan black would dry fast enough forcing the company to drop the variety of colors available before 1913 until fastdrying Duco lacquer was developed in 1926. This is the source of Fords apocryphal remark any color as long as it is black. In 1914 an assembly line worker could buy a Model T with four months pay. Fords complex safety procedures especially assigning each worker to a specific location instead of allowing them to roam about dramatically reduced the rate of injury. citation needed  The combination of high wages and high efficiency is called Fordism and was copied by most major industries. The efficiency gains from the assembly line also coincided with the economic rise of the United States. The assembly line forced workers to work at a certain pace with very repetitive motions which led to more output per worker while other countries were using less productive methods. In the automotive industry its success was dominating and quickly spread worldwide seeing the founding of Ford France and Ford Britain in 1911 Ford Denmark 1923 Ford Germany 1925 in 1921 Citroen was the first native European manufacturer to adopt the production method. Soon companies had to have assembly lines or risk going broke by 1930 250 companies which did not had disappeared. Development of automotive technology was rapid due in part to the hundreds of small manufacturers competing to gain the worlds attention. Key developments included electric ignition and the electric selfstarter both by Charles Kettering for the Cadillac Motor Company in 1910 1911 independent suspension and fourwheel brakes. Since the 1920s nearly all cars have been massproduced to meet market needs so marketing plans often have heavily influenced car design. It was Alfred P. Sloan who established the idea of different makes of cars produced by one company called the General Motors Companion Make Program so that buyers could move up as their fortunes improved. Reflecting the rapid pace of change makes shared parts with one another so larger production volume resulted in lower costs for each price range. For example in the 1930s LaSalles sold by Cadillac used cheaper mechanical parts made by Oldsmobile in the 1950s Chevrolet shared hood doors roof and windows with Pontiac by the 1990s corporate powertrains and shared platforms with interchangeable brakes suspension and other parts were common. Even so only major makers could afford high costs and even companies with decades of production such as Apperson Cole Dorris Haynes or Premier could not manage of some two hundred American car makers in existence in 1920 only 43 survived in 1930 and with the Great Depression by 1940 only 17 of those were left. In Europe much the same would happen. Morris set up its production line at Cowley in 1924 and soon outsold Ford while beginning in 1923 to follow Fords practice of vertical integration buying Hotchkiss engines Wrigley gearboxes and Osberton radiators for instance as well as competitors such as Wolseley in 1925 Morris had 41 of total British car production. Most British smallcar assemblers from Abbey to Xtra had gone under. Citroen did the same in France coming to cars in 1919 between them and other cheap cars in reply such as Renaults 10CV and Peugeots 5CV they produced 550000 cars in 1925 and Mors Hurtu and others could not compete. Germanys first massmanufactured car the Opel 4PS Laubfrosch Tree Frog came off the line at Russelsheim in 1924 soon making Opel the top car builder in Germany with 37.5 of the market. In Japan car production was very limited before World War II. Only a handful of companies were producing vehicles in limited numbers and these were small threewheeled for commercial uses like Daihatsu or were the result of partnering with European companies like Isuzu building the Wolseley A9 in 1922. Mitsubishi was also partnered with Fiat and built the Mitsubishi Model A based on a Fiat vehicle. Toyota Nissan Suzuki Mazda and Honda began as companies producing nonautomotive products before the war switching to car production during the 1950s. Kiichiro Toyodas decision to take Toyoda Loom Works into automobile manufacturing would create what would eventually become Toyota Motor Corporation the largest automobile manufacturer in the world. Subaru meanwhile was formed from a conglomerate of six companies who banded together as Fuji Heavy Industries as a result of having been broken up under keiretsu legislation. The transport sector is a major contributor to air pollution noise pollution and climate change. Most cars in use in the 2010s run on gasoline burnt in an internal combustion engine ICE. The International Organization of Motor Vehicle Manufacturers says that in countries that mandate low sulfur gasoline gasolinefuelled cars built to late 2010s standards such as Euro6 emit very little local air pollution. Some cities ban older gasolinefuelled cars and some countries plan to ban sales in future. However some environmental groups say this phaseout of fossil fuel vehicles must be brought forward to limit climate change. Production of gasoline fueled cars peaked in 2017. Other hydrocarbon fossil fuels also burnt by deflagration rather than detonation in ICE cars include diesel Autogas and CNG. Removal of fossil fuel subsidies concerns about oil dependence tightening environmental laws and restrictions on greenhouse gas emissions are propelling work on alternative power systems for cars. This includes hybrid vehicles plugin electric vehicles and hydrogen vehicles. 2.1 million light electric vehicles of all types but mainly cars were sold in 2018 over half in China this was an increase of 64 on the previous year giving a global total on the road of 5.4 million. Vehicles using alternative fuels such as ethanol flexiblefuel vehicles and natural gas vehicles clarification needed  are also gaining popularity in some countries. citation needed  Cars for racing or speed records have sometimes employed jet or rocket engines but these are impractical for common use. Oil consumption has increased rapidly in the 20th and 21st centuries because there are more cars the 1985 2003 oil glut even fuelled the sales of loweconomy vehicles in OECD countries. The BRIC countries are adding to this consumption. Cars are equipped with controls used for driving passenger comfort and safety normally operated by a combination of the use of feet and hands and occasionally by voice on 21stcentury cars. These controls include a steering wheel pedals for operating the brakes and controlling the cars speed and in a manual transmission car a clutch pedal a shift lever or stick for changing gears and a number of buttons and dials for turning on lights ventilation and other functions. Modern cars controls are now standardized such as the location for the accelerator and brake but this was not always the case. Controls are evolving in response to new technologies for example the electric car and the integration of mobile communications. Some of the original controls are no longer required. For example all cars once had controls for the choke valve clutch ignition timing and a crank instead of an electric starter. However new controls have also been added to vehicles making them more complex. These include air conditioning navigation systems and in car entertainment. Another trend is the replacement of physical knobs and switches by secondary controls with touchscreen controls such as BMWs iDrive and Fords MyFord Touch. Another change is that while early cars pedals were physically linked to the brake mechanism and throttle in the 2010s cars have increasingly replaced these physical linkages with electronic controls. Cars are typically fitted with multiple types of lights. These include headlights which are used to illuminate the way ahead and make the car visible to other users so that the vehicle can be used at night in some jurisdictions daytime running lights red brake lights to indicate when the brakes are applied amber turn signal lights to indicate the turn intentions of the driver whitecolored reverse lights to illuminate the area behind the car and indicate that the driver will be or is reversing and on some vehicles additional lights e.g. side marker lights to increase the visibility of the car. Interior lights on the ceiling of the car are usually fitted for the driver and passengers. Some vehicles also have a trunk light and more rarely an engine compartment light. During the late 20th and early 21st century cars increased in weight due to batteries modern steel safety cages antilock brakes airbags and morepowerful if moreefficient engines and as of 2019 update  typically weigh between 1 and 3 tonnes. Heavier cars are safer for the driver from a crash perspective but more dangerous for other vehicles and road users. The weight of a car influences fuel consumption and performance with more weight resulting in increased fuel consumption and decreased performance. The SmartFortwo a small city car weighs 750 795 kg 1655 1755 lb. Heavier cars include fullsize cars SUVs and extendedlength SUVs like the Suburban. According to research conducted by Julian Allwood of the University of Cambridge global energy use could be greatly reduced by using lighter cars and an average weight of 500 kg 1100 lb has been said to be well achievable. better source needed  In some competitions such as the she will Eco Marathon average car weights of 45 kg 99 lb have also been achieved. These cars are only singleseaters still falling within the definition of a car although 4seater cars are more common but they nevertheless demonstrate the amount by which car weights could still be reduced and the subsequent lower fuel use i.e. up to a fuel use of 2560 kml. Most cars are designed to carry multiple occupants often with four or five seats. Cars with five seats typically seat two passengers in the front and three in the rear. Fullsize cars and large sport utility vehicles can often carry six seven or more occupants depending on the arrangement of the seats. On the other hand sports cars are most often designed with only two seats. The differing needs for passenger capacity and their luggage or cargo space has resulted in the availability of a large variety of body styles to meet individual consumer requirements that include among others the sedansaloon hatchback station wagonestate and minivan. Traffic collisions are the largest because of injuryrelated deaths worldwide. Mary Ward became one of the first documented car fatalities in 1869 in Parsonstown Ireland and Henry Bliss one of the United States first pedestrian car casualties in 1899 in New York City. There are now standard tests for safety in new cars such as the EuroNCAP and the US NCAP tests and insuranceindustrybacked tests by the Insurance Institute for Highway Safety IIHS. The costs of car usage which may include the cost of acquiring the vehicle repairs and auto maintenance fuel depreciation driving time parking fees taxes and insurance are weighed against the cost of the alternatives and the value of the benefits   perceived and real   of vehicle usage. The benefits may include ondemand transportation mobility independence and convenience. During the 1920s cars had another benefit  c ouples finally had a way to head off on unchaperoned dates plus they had a private space to snuggle up close at the end of the night. Similarly the costs to society of car use may include maintaining roads land use air pollution road congestion public health health care and of disposing of the vehicle at the end of its life and can be balanced against the value of the benefits to society that car use generates. Societal benefits may include economy benefits such as job and wealth creation of car production and maintenance transportation provision society wellbeing derived from leisure and travel opportunities and revenue generation from the tax opportunities. The ability of humans to move flexibly from place to place has farreaching implications for the nature of societies. Cars are a major because of urban air pollution with all types of cars producing dust from brakes tyres and road wear. As of 2018 update  the average diesel car has a worse effect on air quality than the average gasoline car But both gasoline and diesel cars pollute more than electric cars. While there are different ways to power cars most rely on gasoline or diesel and they consume almost a quarter of world oil production as of 2019 update . In 2018 passenger road vehicles emitted 3.6 gigatonnes of carbon dioxide. As of 2019 update  due to greenhouse gases emitted during battery production electric cars must be driven tens of thousands of kilometers before their lifecycle carbon emissions are less than fossil fuel cars but this is expected to improve in future due to longer lasting batteries being produced in larger factories and lower carbon electricity. Many governments are using fiscal policies such as road tax to discourage the purchase and use of more polluting cars and many cities are doing the same with lowemission zones. Fuel taxes may act as an incentive for the production of more efficient hence less polluting car designs e.g. hybrid vehicles and the development of alternative fuels. High fuel taxes or cultural change may provide a strong incentive for consumers to purchase lighter smaller more fuelefficient cars or to not drive. The lifetime of a car built in the 2020s is expected to be about 16 years or about 2 million kilometres 1.2 million miles if driven a lot. According to the International Energy Agency fuel economy improved 0.7 in 2017 but an annual improvement of 3.7 is needed to meet the Global Fuel Economy Initiative 2030 target. The increase in sales of SUVs is bad for fuel economy. Many cities in Europe have banned older fossil fuel cars and all fossil fuel vehicles will be banned in Amsterdam from 2030. Many Chinese cities limit licensing of fossil fuel cars and many countries plan to stop selling them between 2025 and 2050. The manufacture of vehicles is resource intensive and many manufacturers now report on the environmental performance of their factories including energy usage waste and water consumption. Manufacturing each kWh of battery emits a similar amount of carbon as burning through one full tank of gasoline. The growth in popularity of the car allowed cities to sprawl therefore encouraging more travel by car resulting in inactivity and obesity which in turn can lead to increased risk of a variety of diseases. Animals and plants are often negatively impacted by cars via habitat destruction and pollution. Over the lifetime of the average car the loss of habitat potential may be over 50000 m2 540000 sq ft based on primary production correlations. Animals are also killed every year on roads by cars referred to as roadkill. More recent road developments are including significant environmental mitigation in their designs such as green bridges designed to allow wildlife crossings and creating wildlife corridors. Growth in the popularity of vehicles and commuting has led to traffic congestion. Moscow Istanbul Bogota Mexico City and Sao Paulo were the worlds most congested cities in 2018 according to INRIX a data analytics company. Although intensive development of conventional battery electric vehicles is continuing into the 2020s other car propulsion technologies that are under development include wheel hub motors wireless charging hydrogen cars and hydrogenelectric hybrids. Research into alternative forms of power includes using ammonia instead of hydrogen in fuel cells. New materials which may replace steel car bodies include duralumin fiberglass carbon fiber biocomposites and carbon nanotubes. Telematics technology is allowing more and more people to share cars on a payasyougo basis through car share and carpool schemes. Communication is also evolving due to connected car systems. Fully autonomous vehicles also known as driverless cars already exist in prototype such as the Google driverless car but have a long way to go before they are in general use. There have been several projects aiming to develop a car on the principles of open design an approach to designing in which the plans for the machinery and systems are publicly shared often without monetary compensation. The projects include OScar Riversimple through 40fires.org and cmmn. None of the projects have reached significant success in terms of developing a car as a whole both from hardware and software perspective and no mass production ready opensource based design have been introduced as of late 2009. Some car hacking through onboard diagnostics OBD has been done so far. Carshare arrangements and carpooling are also increasingly popular in the US and Europe. For example in the US some carsharing services have experienced doubledigit growth in revenue and membership growth between 2006 and 2007. Services like car sharing offering a residents to share a vehicle rather than own a car in already congested neighborhoods. The automotive industry designs develops manufactures markets and sells the worlds motor vehicles more than threequarters of which are cars. In 2018 there were 70 million cars manufactured worldwide down 2 million from the previous year. The automotive industry in China produces by far the most 24 million in 2018 followed by Japan 8 million Germany 5 million and India 4 million. The largest market is China followed by the USA. Around the world there are about a billion cars on the road they burn over a trillion liters of gasoline and diesel fuel yearly consuming about 50 EJ nearly 300 terawatthours of energy. The numbers of cars are increasing rapidly in China and India. In the opinion of some urban transport systems based around the car have proved unsustainable consuming excessive energy affecting the health of populations and delivering a declining level of service despite increasing investment. Many of these negative impacts fall disproportionately on those social groups who are also least likely to own and drive cars. The sustainable transport movement focuses on solutions to these problems. The car industry is also facing increasing competition from the public transport sector as some people reevaluate their private vehicle usage. Established alternatives for some aspects of car use include public transport such as buses trolleybuses trains subways tramways light rail cycling and walking. Bicycle sharing systems have been established in China and many European cities including Copenhagen and Amsterdam. Similar programs have been developed in large US cities. Additional individual modes of transport such as personal rapid transit could serve as an alternative to cars if they prove to be socially accepted. The term motorcar was formerly also used in the context of electrified rail systems to denote a car which functions as a small locomotive but also provides space for passengers and baggage. These locomotive cars were often used on suburban routes by both interurban and intercity railroad systems. General Effects Mitigation'"
            ]
          },
          "metadata": {
            "tags": []
          },
          "execution_count": 6
        }
      ]
    },
    {
      "cell_type": "code",
      "metadata": {
        "id": "xwOqILmRX3ke"
      },
      "source": [
        "toclean = paragraphToSentence(para[0])"
      ],
      "execution_count": null,
      "outputs": []
    },
    {
      "cell_type": "code",
      "metadata": {
        "colab": {
          "base_uri": "https://localhost:8080/"
        },
        "id": "6XmAobOYZamJ",
        "outputId": "042f19c6-bcd8-482d-bdce-7e2de593b475"
      },
      "source": [
        "toclean"
      ],
      "execution_count": null,
      "outputs": [
        {
          "output_type": "execute_result",
          "data": {
            "text/plain": [
              "{0: 'A car (or automobile) is a wheeled motor vehicle used for transportation.',\n",
              " 1: 'Most definitions of cars say that they run primarily on roads, seat one to eight people, have four wheels, and mainly transport people rather than goods.',\n",
              " 2: '[2][3]\\nCars came into global use during the 20th century, and developed economies depend on them.',\n",
              " 3: 'The year 1886 is regarded as the birth year of the modern car when German inventor Karl Benz patented his Benz Patent-Motorwagen.',\n",
              " 4: 'Cars became widely available in the early 20th century.',\n",
              " 5: 'One of the first cars accessible to the masses was the 1908 Model T, an American car manufactured by the Ford Motor Company.',\n",
              " 6: 'Cars were rapidly adopted in the US, where they replaced animal-drawn carriages and carts, but took much longer to be accepted in Western Europe and other parts of the world.',\n",
              " 7: '[citation needed]\\nCars have controls for driving, parking, passenger comfort, and a variety of lights.',\n",
              " 8: 'Over the decades, additional features and controls have been added to vehicles, making them progressively more complex, but also more reliable and easier to operate.',\n",
              " 9: '[citation needed] These include rear-reversing cameras, air conditioning, navigation systems, and in-car entertainment.',\n",
              " 10: 'Most cars in use in the 2010s are propelled by an internal combustion engine, fueled by the combustion of fossil fuels.',\n",
              " 11: 'Electric cars, which were invented early in the history of the car, became commercially available in the 2000s and are predicted to cost less to buy than gasoline cars before 2025.',\n",
              " 12: \"[4][5] The transition from fossil fuels to electric cars features prominently in most climate change mitigation scenarios,[6] such as Project Drawdown's 100 actionable solutions for climate change.\",\n",
              " 13: '[7]\\nThere are costs and benefits to car use.',\n",
              " 14: 'The costs to the individual include acquiring the vehicle, interest payments (if the car is financed), repairs and maintenance, fuel, depreciation, driving time, parking fees, taxes, and insurance.',\n",
              " 15: '[8] The costs to society include maintaining roads, land use, road congestion, air pollution, public health, healthcare, and disposing of the vehicle at the end of its life.',\n",
              " 16: 'Traffic collisions are the largest cause of injury-related deaths worldwide.',\n",
              " 17: '[9]\\nThe personal benefits include on-demand transportation, mobility, independence, and convenience.',\n",
              " 18: '[10] The societal benefits include economic benefits, such as job and wealth creation from the automotive industry, transportation provision, societal well-being from leisure and travel opportunities, and revenue generation from the taxes.',\n",
              " 19: \"People's ability to move flexibly from place to place has far-reaching implications for the nature of societies.\",\n",
              " 20: '[11] There are around 1 billion cars in use worldwide.',\n",
              " 21: 'The numbers are increasing rapidly, especially in China, India and other newly industrialized countries.',\n",
              " 22: '[12]\\nThe English word car is believed to originate from Latin carrus/carrum \"wheeled vehicle\" or (via Old North French) Middle English carre \"two-wheeled cart,\" both of which in turn derive from Gaulish karros \"chariot.',\n",
              " 23: '\"[13][14] It originally referred to any wheeled horse-drawn vehicle, such as a cart, carriage, or wagon.',\n",
              " 24: '[15][16]\\n\"Motor car,\" attested from 1895, is the usual formal term in British English.',\n",
              " 25: '[3] \"Autocar,\" a variant likewise attested from 1895 and literally meaning \"self-propelled car,\" is now considered archaic.',\n",
              " 26: '[17] \"Horseless carriage\" is attested from 1895.',\n",
              " 27: '[18]\\n\"Automobile,\" a classical compound derived from Ancient Greek autós (αὐτός) \"self\" and Latin mobilis \"movable,\" entered English from French and was first adopted by the Automobile Club of Great Britain in 1897.',\n",
              " 28: '[19] It fell out of favour in Britain and is now used chiefly in North America,[20] where the abbreviated form \"auto\" commonly appears as an adjective in compound formations like \"auto industry\" and \"auto mechanic\".',\n",
              " 29: '[21][22] Both forms are still used in everyday Dutch (auto/automobiel) and German (Auto/Automobil).',\n",
              " 30: '[citation needed]\\nThe first working steam-powered vehicle was designed—and quite possibly built—by Ferdinand Verbiest, a Flemish member of a Jesuit mission in China around 1672.',\n",
              " 31: 'It was a 65-centimetre (26\\xa0in)-long scale-model toy for the Kangxi Emperor that was unable to carry a driver or a passenger.',\n",
              " 32: \"[10][23][24] It is not known with certainty if Verbiest's model was successfully built or run.\",\n",
              " 33: '[24]\\nNicolas-Joseph Cugnot is widely credited with building the first full-scale, self-propelled mechanical vehicle or car in about 1769; he created a steam-powered tricycle.',\n",
              " 34: '[25]  He also constructed two steam tractors for the French Army, one of which is preserved in the French National Conservatory of Arts and Crafts.',\n",
              " 35: '[26] His inventions were, however, handicapped by problems with water supply and maintaining steam pressure.',\n",
              " 36: '[26] In 1801, Richard Trevithick built and demonstrated his Puffing Devil road locomotive, believed by many to be the first demonstration of a steam-powered road vehicle.',\n",
              " 37: 'It was unable to maintain sufficient steam pressure for long periods and was of little practical use.',\n",
              " 38: 'The development of external combustion engines is detailed as part of the history of the car but often treated separately from the development of true cars.',\n",
              " 39: 'A variety of steam-powered road vehicles were used during the first part of the 19th century, including steam cars, steam buses, phaetons, and steam rollers.',\n",
              " 40: 'Sentiment against them led to the Locomotive Acts of 1865.',\n",
              " 41: \"In 1807, Nicéphore Niépce and his brother Claude created what was probably the world's first internal combustion engine (which they called a Pyréolophore), but they chose to install it in a boat on the river Saone in France.\",\n",
              " 42: \"[27] Coincidentally, in 1807 the Swiss inventor François Isaac de Rivaz designed his own 'de Rivaz internal combustion engine' and used it to develop the world's first vehicle to be powered by such an engine.\",\n",
              " 43: \"The Niépces' Pyréolophore was fuelled by a mixture of Lycopodium powder (dried spores of the Lycopodium plant), finely crushed coal dust and resin that were mixed with oil, whereas de Rivaz used a mixture of hydrogen and oxygen.\",\n",
              " 44: '[27] Neither design was very successful, as was the case with others, such as Samuel Brown, Samuel Morey, and Etienne Lenoir with his hippomobile, who each produced vehicles (usually adapted carriages or carts) powered by internal combustion engines.',\n",
              " 45: '[1]\\nIn November 1881, French inventor Gustave Trouvé demonstrated the first working (three-wheeled) car powered by electricity at the International Exposition of Electricity, Paris.',\n",
              " 46: '[28] Although several other German engineers (including Gottlieb Daimler, Wilhelm Maybach, and Siegfried Marcus) were working on the problem at about the same time, Karl Benz generally is acknowledged as the inventor of the modern car.',\n",
              " 47: '[1]\\nIn 1879, Benz was granted a patent for his first engine, which had been designed in 1878.',\n",
              " 48: 'Many of his other inventions made the use of the internal combustion engine feasible for powering a vehicle.',\n",
              " 49: 'His first Motorwagen was built in 1885 in Mannheim, Germany.',\n",
              " 50: 'He was awarded the patent for its invention as of his application on 29 January 1886 (under the auspices of his major company, Benz & Cie., which was founded in 1883).',\n",
              " 51: 'Benz began promotion of the vehicle on 3 July 1886, and about 25 Benz vehicles were sold between 1888 and 1893, when his first four-wheeler was introduced along with a cheaper model.',\n",
              " 52: 'They also were powered with four-stroke engines of his own design.',\n",
              " 53: 'Emile Roger of France, already producing Benz engines under license, now added the Benz car to his line of products.',\n",
              " 54: 'Because France was more open to the early cars, initially more were built and sold in France through Roger than Benz sold in Germany.',\n",
              " 55: \"In August 1888 Bertha Benz, the wife of Karl Benz, undertook the first road trip by car, to prove the road-worthiness of her husband's invention.\",\n",
              " 56: 'In 1896, Benz designed and patented the first internal-combustion flat engine, called boxermotor.',\n",
              " 57: 'During the last years of the nineteenth century, Benz was the largest car company in the world with 572 units produced in 1899 and, because of its size, Benz & Cie., became a joint-stock company.',\n",
              " 58: 'The first motor car in central Europe and one of the first factory-made cars in the world, was produced by Czech company Nesselsdorfer Wagenbau (later renamed to Tatra) in 1897, the Präsident automobil.',\n",
              " 59: 'Daimler and Maybach founded Daimler Motoren Gesellschaft (DMG) in Cannstatt in 1890, and sold their first car in 1892 under the brand name Daimler.',\n",
              " 60: 'It was a horse-drawn stagecoach built by another manufacturer, which they retrofitted with an engine of their design.',\n",
              " 61: 'By 1895 about 30 vehicles had been built by Daimler and Maybach, either at the Daimler works or in the Hotel Hermann, where they set up shop after disputes with their backers.',\n",
              " 62: \"Benz, Maybach and the Daimler team seem to have been unaware of each other's early work.\",\n",
              " 63: 'They never worked together; by the time of the merger of the two companies, Daimler and Maybach were no longer part of DMG.',\n",
              " 64: 'Daimler died in 1900 and later that year, Maybach designed an engine named Daimler-Mercedes that was placed in a specially ordered model built to specifications set by Emil Jellinek.',\n",
              " 65: 'This was a production of a small number of vehicles for Jellinek to race and market in his country.',\n",
              " 66: 'Two years later, in 1902, a new model DMG car was produced and the model was named Mercedes after the Maybach engine, which generated 35\\xa0hp.',\n",
              " 67: 'Maybach quit DMG shortly thereafter and opened a business of his own.',\n",
              " 68: 'Rights to the Daimler brand name were sold to other manufacturers.',\n",
              " 69: 'Karl Benz proposed co-operation between DMG and Benz & Cie. when economic conditions began to deteriorate in Germany following the First World War, but the directors of DMG refused to consider it initially.',\n",
              " 70: 'Negotiations between the two companies resumed several years later when these conditions worsened, and in 1924, they signed an Agreement of Mutual Interest, valid until the year 2000.',\n",
              " 71: 'Both enterprises standardized design, production, purchasing, and sales and they advertised or marketed their car models jointly, although keeping their respective brands.',\n",
              " 72: 'On 28 June 1926, Benz & Cie. and DMG finally merged as the Daimler-Benz company, baptizing all of its cars Mercedes Benz, as a brand honoring the most important model of the DMG cars, the Maybach design later referred to as the 1902 Mercedes-35\\xa0hp, along with the Benz name.',\n",
              " 73: 'Karl Benz remained a member of the board of directors of Daimler-Benz until his death in 1929, and at times, his two sons also participated in the management of the company.',\n",
              " 74: 'In 1890, Émile Levassor and Armand Peugeot of France began producing vehicles with Daimler engines, and so laid the foundation of the automotive industry in France.',\n",
              " 75: 'In 1891, Auguste Doriot and his Peugeot colleague Louis Rigoulot completed the longest trip by a gasoline-powered vehicle when their self-designed and built Daimler powered Peugeot Type 3 completed 2,100\\xa0km (1,300 miles) from Valentigney to Paris and Brest and back again.',\n",
              " 76: 'They were attached to the first Paris–Brest–Paris bicycle race, but finished 6 days after the winning cyclist, Charles Terront.',\n",
              " 77: 'The first design for an American car with a gasoline internal combustion engine was made in 1877 by George Selden of Rochester, New York.',\n",
              " 78: 'Selden applied for a patent for a car in 1879, but the patent application expired because the vehicle was never built.',\n",
              " 79: 'After a delay of sixteen years and a series of attachments to his application, on 5 November 1895, Selden was granted a United States patent (U.S. Patent 549,160) for a two-stroke car engine, which hindered, more than encouraged, development of cars in the United States.',\n",
              " 80: 'His patent was challenged by Henry Ford and others, and overturned in 1911.',\n",
              " 81: 'In 1893, the first running, gasoline-powered American car was built and road-tested by the Duryea brothers of Springfield, Massachusetts.',\n",
              " 82: 'The first public run of the Duryea Motor Wagon took place on 21 September 1893, on Taylor Street in Metro Center Springfield.',\n",
              " 83: '[29][30] The Studebaker Automobile Company, subsidiary of a long-established wagon and coach manufacturer, started to build cars in 1897[31]:p.66 and commenced sales of electric vehicles in 1902 and gasoline vehicles in 1904.',\n",
              " 84: '[32]\\nIn Britain, there had been several attempts to build steam cars with varying degrees of success, with Thomas Rickett even attempting a production run in 1860.',\n",
              " 85: '[33] Santler from Malvern is recognized by the Veteran Car Club of Great Britain as having made the first gasoline-powered car in the country in 1894,[34] followed by Frederick William Lanchester in 1895, but these were both one-offs.',\n",
              " 86: '[34] The first production vehicles in Great Britain came from the Daimler Company, a company founded by Harry J. Lawson in 1896, after purchasing the right to use the name of the engines.',\n",
              " 87: \"Lawson's company made its first car in 1897, and they bore the name Daimler.\",\n",
              " 88: '[34]\\nIn 1892, German engineer Rudolf Diesel was granted a patent for a \"New Rational Combustion Engine\".',\n",
              " 89: 'In 1897, he built the first diesel engine.',\n",
              " 90: '[1] Steam-, electric-, and gasoline-powered vehicles competed for decades, with gasoline internal combustion engines achieving dominance in the 1910s.',\n",
              " 91: \"Although various pistonless rotary engine designs have attempted to compete with the conventional piston and crankshaft design, only Mazda's version of the Wankel engine has had more than very limited success.\",\n",
              " 92: 'All in all, it is estimated that over 100,000 patents created the modern automobile and motorcycle.',\n",
              " 93: '[35]\\nLarge-scale, production-line manufacturing of affordable cars was started by Ransom Olds in 1901 at his Oldsmobile factory in Lansing, Michigan and based upon stationary assembly line techniques pioneered by Marc Isambard Brunel at the Portsmouth Block Mills, England, in 1802.',\n",
              " 94: 'The assembly line style of mass production and interchangeable parts had been pioneered in the U.S. by Thomas Blanchard in 1821, at the Springfield Armory in Springfield, Massachusetts.',\n",
              " 95: \"[36] This concept was greatly expanded by Henry Ford, beginning in 1913 with the world's first moving assembly line for cars at the Highland Park Ford Plant.\",\n",
              " 96: \"As a result, Ford's cars came off the line in fifteen-minute intervals, much faster than previous methods, increasing productivity eightfold, while using less manpower (from 12.5-man-hours to 1 hour 33 minutes).\",\n",
              " 97: '[37] It was so successful, paint became a bottleneck.',\n",
              " 98: 'Only Japan black would dry fast enough, forcing the company to drop the variety of colors available before 1913, until fast-drying Duco lacquer was developed in 1926.',\n",
              " 99: 'This is the source of Ford\\'s apocryphal remark, \"any color as long as it\\'s black\".',\n",
              " 100: \"[37] In 1914, an assembly line worker could buy a Model T with four months' pay.\",\n",
              " 101: \"[37]\\nFord's complex safety procedures—especially assigning each worker to a specific location instead of allowing them to roam about—dramatically reduced the rate of injury.\",\n",
              " 102: '[citation needed] The combination of high wages and high efficiency is called \"Fordism,\" and was copied by most major industries.',\n",
              " 103: 'The efficiency gains from the assembly line also coincided with the economic rise of the United States.',\n",
              " 104: 'The assembly line forced workers to work at a certain pace with very repetitive motions which led to more output per worker while other countries were using less productive methods.',\n",
              " 105: 'In the automotive industry, its success was dominating, and quickly spread worldwide seeing the founding of Ford France and Ford Britain in 1911, Ford Denmark 1923, Ford Germany 1925; in 1921, Citroen was the first native European manufacturer to adopt the production method.',\n",
              " 106: 'Soon, companies had to have assembly lines, or risk going broke; by 1930, 250 companies which did not, had disappeared.',\n",
              " 107: \"[37]\\nDevelopment of automotive technology was rapid, due in part to the hundreds of small manufacturers competing to gain the world's attention.\",\n",
              " 108: 'Key developments included electric ignition and the electric self-starter (both by Charles Kettering, for the Cadillac Motor Company in 1910–1911), independent suspension, and four-wheel brakes.',\n",
              " 109: 'Since the 1920s, nearly all cars have been mass-produced to meet market needs, so marketing plans often have heavily influenced car design.',\n",
              " 110: 'It was Alfred P. Sloan who established the idea of different makes of cars produced by one company, called the General Motors Companion Make Program, so that buyers could \"move up\" as their fortunes improved.',\n",
              " 111: 'Reflecting the rapid pace of change, makes shared parts with one another so larger production volume resulted in lower costs for each price range.',\n",
              " 112: 'For example, in the 1930s, LaSalles, sold by Cadillac, used cheaper mechanical parts made by Oldsmobile; in the 1950s, Chevrolet shared hood, doors, roof, and windows with Pontiac; by the 1990s, corporate powertrains and shared platforms (with interchangeable brakes, suspension, and other parts) were common.',\n",
              " 113: 'Even so, only major makers could afford high costs, and even companies with decades of production, such as Apperson, Cole, Dorris, Haynes, or Premier, could not manage: of some two hundred American car makers in existence in 1920, only 43 survived in 1930, and with the Great Depression, by 1940, only 17 of those were left.',\n",
              " 114: '[37]\\nIn Europe, much the same would happen.',\n",
              " 115: \"Morris set up its production line at Cowley in 1924, and soon outsold Ford, while beginning in 1923 to follow Ford's practice of vertical integration, buying Hotchkiss (engines), Wrigley (gearboxes), and Osberton (radiators), for instance, as well as competitors, such as Wolseley: in 1925, Morris had 41% of total British car production.\",\n",
              " 116: 'Most British small-car assemblers, from Abbey to Xtra, had gone under.',\n",
              " 117: \"Citroen did the same in France, coming to cars in 1919; between them and other cheap cars in reply such as Renault's 10CV and Peugeot's 5CV, they produced 550,000 cars in 1925, and Mors, Hurtu, and others could not compete.\",\n",
              " 118: \"[37] Germany's first mass-manufactured car, the Opel 4PS Laubfrosch (Tree Frog), came off the line at Russelsheim in 1924, soon making Opel the top car builder in Germany, with 37.5% of the market.\",\n",
              " 119: '[37]\\nIn Japan, car production was very limited before World War II.',\n",
              " 120: 'Only a handful of companies were producing vehicles in limited numbers, and these were small, three-wheeled for commercial uses, like Daihatsu, or were the result of partnering with European companies, like Isuzu building the Wolseley A-9 in 1922.',\n",
              " 121: 'Mitsubishi was also partnered with Fiat and built the Mitsubishi Model A based on a Fiat vehicle.',\n",
              " 122: 'Toyota, Nissan, Suzuki, Mazda, and Honda began as companies producing non-automotive products before the war, switching to car production during the 1950s.',\n",
              " 123: \"Kiichiro Toyoda's decision to take Toyoda Loom Works into automobile manufacturing would create what would eventually become Toyota Motor Corporation, the largest automobile manufacturer in the world.\",\n",
              " 124: 'Subaru, meanwhile, was formed from a conglomerate of six companies who banded together as Fuji Heavy Industries, as a result of having been broken up under keiretsu legislation.',\n",
              " 125: 'The transport sector is a major contributor to air pollution, noise pollution and climate change.',\n",
              " 126: '[38]\\nMost cars in use in the 2010s run on gasoline burnt in an internal combustion engine (ICE).',\n",
              " 127: 'The International Organization of Motor Vehicle Manufacturers says that, in countries that mandate low sulfur gasoline, gasoline-fuelled cars built to late 2010s standards (such as Euro-6) emit very little local air pollution.',\n",
              " 128: '[39][40]  Some cities ban older gasoline-fuelled cars and some countries plan to ban sales in future.',\n",
              " 129: 'However some environmental groups say this phase-out of fossil fuel vehicles must be brought forward to limit climate change.',\n",
              " 130: 'Production of gasoline fueled cars peaked in 2017.',\n",
              " 131: '[41][42]\\nOther hydrocarbon fossil fuels also burnt by deflagration (rather than detonation) in ICE cars include diesel, Autogas and CNG.',\n",
              " 132: 'Removal of fossil fuel subsidies,[43][44] concerns about oil dependence, tightening environmental laws and restrictions on greenhouse gas emissions are propelling work on alternative power systems for cars.',\n",
              " 133: 'This includes hybrid vehicles, plug-in electric vehicles and hydrogen vehicles.',\n",
              " 134: '2.1 million light electric vehicles (of all types but mainly cars) were sold in 2018, over half in China: this was an increase of 64% on the previous year, giving a global total on the road of 5.4 million.',\n",
              " 135: '[45]  Vehicles using alternative fuels such as ethanol flexible-fuel vehicles and natural gas vehicles[clarification needed] are also gaining popularity in some countries.',\n",
              " 136: '[citation needed] Cars for racing or speed records have sometimes employed jet or rocket engines, but these are impractical for common use.',\n",
              " 137: 'Oil consumption has increased rapidly in the 20th and 21st centuries because there are more cars; the 1985–2003 oil glut even fuelled the sales of low-economy vehicles in OECD countries.',\n",
              " 138: 'The BRIC countries are adding to this consumption.',\n",
              " 139: 'Cars are equipped with controls used for driving, passenger comfort, and safety, normally operated by a combination of the use of feet and hands, and occasionally by voice on 21st-century cars.',\n",
              " 140: \"These controls include a steering wheel, pedals for operating the brakes and controlling the car's speed (and, in a manual transmission car, a clutch pedal), a shift lever or stick for changing gears, and a number of buttons and dials for turning on lights, ventilation, and other functions.\",\n",
              " 141: \"Modern cars' controls are now standardized, such as the location for the accelerator and brake, but this was not always the case.\",\n",
              " 142: 'Controls are evolving in response to new technologies, for example, the electric car and the integration of mobile communications.',\n",
              " 143: 'Some of the original controls are no longer required.',\n",
              " 144: 'For example, all cars once had controls for the choke valve, clutch, ignition timing, and a crank instead of an electric starter.',\n",
              " 145: 'However new controls have also been added to vehicles, making them more complex.',\n",
              " 146: 'These include air conditioning, navigation systems, and in car entertainment.',\n",
              " 147: \"Another trend is the replacement of physical knobs and switches by secondary controls with touchscreen controls such as BMW's iDrive and Ford's MyFord Touch.\",\n",
              " 148: \"Another change is that while early cars' pedals were physically linked to the brake mechanism and throttle, in the 2010s, cars have increasingly replaced these physical linkages with electronic controls.\",\n",
              " 149: 'Cars are typically fitted with multiple types of lights.',\n",
              " 150: 'These include headlights, which are used to illuminate the way ahead and make the car visible to other users, so that the vehicle can be used at night; in some jurisdictions, daytime running lights; red brake lights to indicate when the brakes are applied; amber turn signal lights to indicate the turn intentions of the driver; white-colored reverse lights to illuminate the area behind the car (and indicate that the driver will be or is reversing); and on some vehicles, additional lights (e.g., side marker lights) to increase the visibility of the car.',\n",
              " 151: 'Interior lights on the ceiling of the car are usually fitted for the driver and passengers.',\n",
              " 152: 'Some vehicles also have a trunk light and, more rarely, an engine compartment light.',\n",
              " 153: 'During the late 20th and early 21st century cars increased in weight due to batteries,[47] modern steel safety cages, anti-lock brakes, airbags, and \"more-powerful—if more-efficient—engines\"[48] and, as of 2019[update], typically weigh between 1 and 3 tonnes.',\n",
              " 154: '[49] Heavier cars are safer for the driver from a crash perspective, but more dangerous for other vehicles and road users.',\n",
              " 155: '[48] The weight of a car influences fuel consumption and performance, with more weight resulting in increased fuel consumption and decreased performance.',\n",
              " 156: 'The SmartFortwo, a small city car, weighs 750–795\\xa0kg (1,655–1,755\\xa0lb).',\n",
              " 157: 'Heavier cars include full-size cars, SUVs and extended-length SUVs like the Suburban.',\n",
              " 158: 'According to research conducted by Julian Allwood of the University of Cambridge, global energy use could be greatly reduced by using lighter cars, and an average weight of 500\\xa0kg (1,100\\xa0lb) has been said to be well achievable.',\n",
              " 159: '[50][better\\xa0source\\xa0needed] In some competitions such as the Shell Eco Marathon, average car weights of 45\\xa0kg (99\\xa0lb) have also been achieved.',\n",
              " 160: '[51] These cars are only single-seaters (still falling within the definition of a car, although 4-seater cars are more common), but they nevertheless demonstrate the amount by which car weights could still be reduced, and the subsequent lower fuel use (i.e.',\n",
              " 161: 'up to a fuel use of 2560\\xa0km/l).',\n",
              " 162: '[52]\\nMost cars are designed to carry multiple occupants, often with four or five seats.',\n",
              " 163: 'Cars with five seats typically seat two passengers in the front and three in the rear.',\n",
              " 164: 'Full-size cars and large sport utility vehicles can often carry six, seven, or more occupants depending on the arrangement of the seats.',\n",
              " 165: 'On the other hand, sports cars are most often designed with only two seats.',\n",
              " 166: 'The differing needs for passenger capacity and their luggage or cargo space has resulted in the availability of a large variety of body styles to meet individual consumer requirements that include, among others, the sedan/saloon, hatchback, station wagon/estate, and minivan.',\n",
              " 167: 'Traffic collisions are the largest cause of injury-related deaths worldwide.',\n",
              " 168: \"[9] Mary Ward became one of the first documented car fatalities in 1869 in Parsonstown, Ireland,[53] and Henry Bliss one of the United States' first pedestrian car casualties in 1899 in New York City.\",\n",
              " 169: '[54]\\nThere are now standard tests for safety in new cars, such as the EuroNCAP and the US NCAP tests,[55] and insurance-industry-backed tests by the Insurance Institute for Highway Safety (IIHS).',\n",
              " 170: '[56]\\nThe costs of car usage, which may include the cost of: acquiring the vehicle, repairs and auto maintenance, fuel, depreciation, driving time, parking fees, taxes, and insurance,[8] are weighed against the cost of the alternatives, and the value of the benefits\\xa0– perceived and real\\xa0– of vehicle usage.',\n",
              " 171: 'The benefits may include on-demand transportation, mobility, independence and convenience.',\n",
              " 172: '[10] During the 1920s, cars had another benefit: \"[c]ouples finally had a way to head off on unchaperoned dates, plus they had a private space to snuggle up close at the end of the night.',\n",
              " 173: '\"[58]\\nSimilarly the costs to society of car use may include; maintaining roads, land use, air pollution, road congestion, public health, health care, and of disposing of the vehicle at the end of its life; and can be balanced against the value of the benefits to society that car use generates.',\n",
              " 174: 'Societal benefits may include: economy benefits, such as job and wealth creation, of car production and maintenance, transportation provision, society wellbeing derived from leisure and travel opportunities, and revenue generation from the tax opportunities.',\n",
              " 175: 'The ability of humans to move flexibly from place to place has far-reaching implications for the nature of societies.',\n",
              " 176: '[11]\\nCars are a major cause of urban air pollution,[59] with all types of cars producing dust from brakes, tyres and road wear.',\n",
              " 177: '[60]  As of 2018[update] the average diesel car has a worse effect on air quality than the average gasoline car[61] But both gasoline and diesel cars pollute more than electric cars.',\n",
              " 178: '[62] While there are different ways to power cars most rely on gasoline or diesel, and they consume almost a quarter of world oil production as of 2019[update].',\n",
              " 179: '[41] In 2018 passenger road vehicles emitted 3.6 gigatonnes of carbon dioxide.',\n",
              " 180: '[63] As of 2019[update], due to greenhouse gases emitted during battery production, electric cars must be driven tens of thousands of kilometers before their lifecycle carbon emissions are less than fossil fuel cars:[64] but this is expected to improve in future due to longer lasting[65] batteries being produced in larger factories,[66] and lower carbon electricity.',\n",
              " 181: 'Many governments are using fiscal policies, such as road tax, to discourage the purchase and use of more polluting cars;[67] and many cities are doing the same with low-emission zones.',\n",
              " 182: '[68] Fuel taxes may act as an incentive for the production of more efficient, hence less polluting, car designs (e.g.',\n",
              " 183: 'hybrid vehicles) and the development of alternative fuels.',\n",
              " 184: 'High fuel taxes or cultural change may provide a strong incentive for consumers to purchase lighter, smaller, more fuel-efficient cars, or to not drive.',\n",
              " 185: '[68]\\nThe lifetime of a car built in the 2020s is expected to be about 16 years, or about 2 million kilometres (1.2 million miles) if driven a lot.',\n",
              " 186: '[69] According to the International Energy Agency fuel economy improved 0.7% in 2017, but an annual improvement of 3.7% is needed to meet the Global Fuel Economy Initiative 2030 target.',\n",
              " 187: '[70] The increase in sales of SUVs is bad for fuel economy.',\n",
              " 188: '[41] Many cities in Europe, have banned older fossil fuel cars and all fossil fuel vehicles will be banned in Amsterdam from 2030.',\n",
              " 189: '[71] Many Chinese cities limit licensing of fossil fuel cars,[72] and many countries plan to stop selling them between 2025 and 2050.',\n",
              " 190: '[73]\\nThe manufacture of vehicles is resource intensive, and many manufacturers now report on the environmental performance of their factories, including energy usage, waste and water consumption.',\n",
              " 191: '[74] Manufacturing each kWh of battery emits a similar amount of carbon as burning through one full tank of gasoline.',\n",
              " 192: '[75] The growth in popularity of the car allowed cities to sprawl, therefore encouraging more travel by car resulting in inactivity and obesity, which in turn can lead to increased risk of a variety of diseases.',\n",
              " 193: '[76]\\nAnimals and plants are often negatively impacted by cars via habitat destruction and pollution.',\n",
              " 194: 'Over the lifetime of the average car the \"loss of habitat potential\" may be over 50,000\\xa0m2 (540,000\\xa0sq\\xa0ft) based on primary production correlations.',\n",
              " 195: '[77] Animals are also killed every year on roads by cars, referred to as roadkill.',\n",
              " 196: 'More recent road developments are including significant environmental mitigation in their designs, such as green bridges (designed to allow wildlife crossings) and creating wildlife corridors.',\n",
              " 197: 'Growth in the popularity of vehicles and commuting has led to traffic congestion.',\n",
              " 198: \"Moscow, Istanbul, Bogota, Mexico City and Sao Paulo were the world's most congested cities in 2018 according to INRIX, a data analytics company.\",\n",
              " 199: '[78]\\nAlthough intensive development of  conventional battery electric vehicles is continuing into the 2020s,[79] other car propulsion technologies that are under development include wheel hub motors,[80] wireless charging,[81] hydrogen cars,[82] and hydrogen/electric hybrids.',\n",
              " 200: '[83] Research into alternative forms of power includes using ammonia instead of hydrogen in fuel cells.',\n",
              " 201: '[84]\\nNew materials[85] which may replace steel car bodies include duralumin, fiberglass, carbon fiber, biocomposites, and carbon nanotubes.',\n",
              " 202: 'Telematics technology is allowing more and more people to share cars, on a pay-as-you-go basis, through car share and carpool schemes.',\n",
              " 203: 'Communication is also evolving due to connected car systems.',\n",
              " 204: '[86]\\nFully autonomous vehicles, also known as driverless cars, already exist in prototype (such as the Google driverless car), but have a long way to go before they are in general use.',\n",
              " 205: 'There have been several projects aiming to develop a car on the principles of open design, an approach to designing in which the plans for the machinery and systems are publicly shared, often without monetary compensation.',\n",
              " 206: 'The projects include OScar, Riversimple (through 40fires.org)[87] and c,mm,n.',\n",
              " 207: '[88] None of the projects have reached significant success in terms of developing a car as a whole both from hardware and software perspective and no mass production ready open-source based design have been introduced as of late 2009.',\n",
              " 208: 'Some car hacking through on-board diagnostics (OBD) has been done so far.',\n",
              " 209: '[89]\\nCar-share arrangements and carpooling are also increasingly popular, in the US and Europe.',\n",
              " 210: '[90] For example, in the US, some car-sharing services have experienced double-digit growth in revenue and membership growth between 2006 and 2007.',\n",
              " 211: 'Services like car sharing offering a residents to \"share\" a vehicle rather than own a car in already congested neighborhoods.',\n",
              " 212: \"[91]\\nThe automotive industry designs, develops, manufactures, markets, and sells the world's motor vehicles, more than three-quarters of which are cars.\",\n",
              " 213: 'In 2018 there were 70 million cars manufactured worldwide,[92] down 2 million from the previous year.',\n",
              " 214: '[93]\\nThe automotive industry in China produces by far the most (24 million in 2018), followed by Japan (8 million), Germany (5 million) and India (4 million).',\n",
              " 215: '[92] The largest market is China, followed by the USA.',\n",
              " 216: 'Around the world there are about a billion cars on the road;[94] they burn over a trillion liters of gasoline and diesel fuel yearly, consuming about 50 EJ (nearly 300 terawatt-hours) of energy.',\n",
              " 217: '[95] The numbers of cars are increasing rapidly in China and India.',\n",
              " 218: '[12] In the opinion of some, urban transport systems based around the car have proved unsustainable, consuming excessive energy, affecting the health of populations, and delivering a declining level of service despite increasing investment.',\n",
              " 219: 'Many of these negative impacts fall disproportionately on those social groups who are also least likely to own and drive cars.',\n",
              " 220: '[96][97] The sustainable transport movement focuses on solutions to these problems.',\n",
              " 221: 'The car industry is also facing increasing competition from the public transport sector, as some people re-evaluate their private vehicle usage.',\n",
              " 222: 'Established alternatives for some aspects of car use include public transport such as buses, trolleybuses, trains, subways, tramways, light rail, cycling, and walking.',\n",
              " 223: 'Bicycle sharing systems have been established in China and many European cities, including Copenhagen and Amsterdam.',\n",
              " 224: 'Similar programs have been developed in large US cities.',\n",
              " 225: '[99][100] Additional individual modes of transport, such as personal rapid transit could serve as an alternative to cars if they prove to be socially accepted.',\n",
              " 226: '[101]\\nThe term motorcar was formerly also used in the context of electrified rail systems to denote a car which functions as a small locomotive but also provides space for passengers and baggage.',\n",
              " 227: 'These locomotive cars were often used on suburban routes by both interurban and intercity railroad systems.',\n",
              " 228: '[102]\\nGeneral:\\n\\nEffects:\\n\\nMitigation:'}"
            ]
          },
          "metadata": {
            "tags": []
          },
          "execution_count": 8
        }
      ]
    },
    {
      "cell_type": "code",
      "metadata": {
        "colab": {
          "base_uri": "https://localhost:8080/"
        },
        "id": "Qr85kWWIZTVZ",
        "outputId": "5195d459-af7d-4cca-a5dc-bfc9366231e1"
      },
      "source": [
        "cleaning(toclean)\n",
        "# documentsDict"
      ],
      "execution_count": null,
      "outputs": [
        {
          "output_type": "execute_result",
          "data": {
            "text/plain": [
              "{0: 'A car or automobile is a wheeled motor vehicle used for transportation.',\n",
              " 1: 'Most definitions of cars say that they run primarily on roads  seat one to eight people  have four wheels  and mainly transport people rather than goods.',\n",
              " 2: 'Cars came into global use during theth century  and developed economies depend on them.',\n",
              " 3: 'The yearis regarded as the birth year of the modern car when German inventor Karl Benz patented his Benz PatentMotorwagen.',\n",
              " 4: 'Cars became widely available in the earlyth century.',\n",
              " 5: 'One of the first cars accessible to the masses was theModel T  an American car manufactured by the Ford Motor Company.',\n",
              " 6: 'Cars were rapidly adopted in the US  where they replaced animaldrawn carriages and carts  but took much longer to be accepted in Western Europe and other parts of the world.',\n",
              " 7: 'citation needed  Cars have controls for driving  parking  passenger comfort  and a variety of lights.',\n",
              " 8: 'Over the decades  additional features and controls have been added to vehicles  making them progressively more complex  but also more reliable and easier to operate.',\n",
              " 9: 'citation needed  These include rearreversing cameras  air conditioning  navigation systems  and incar entertainment.',\n",
              " 10: 'Most cars in use in the  s are propelled by an internal combustion engine  fueled by the combustion of fossil fuels.',\n",
              " 11: 'Electric cars  which were invented early in the history of the car  became commercially available in the  s and are predicted to cost less to buy than gasoline cars before  .',\n",
              " 12: 'The transition from fossil fuels to electric cars features prominently in most climate change mitigation scenarios  such as Project Drawdowns  actionable solutions for climate change.',\n",
              " 13: 'There are costs and benefits to car use.',\n",
              " 14: 'The costs to the individual include acquiring the vehicle  interest payments if the car is financed  repairs and maintenance  fuel  depreciation  driving time  parking fees  taxes  and insurance.',\n",
              " 15: 'The costs to society include maintaining roads  land use  road congestion  air pollution  public health  healthcare  and disposing of the vehicle at the end of its life.',\n",
              " 16: 'Traffic collisions are the largest because of injuryrelated deaths worldwide.',\n",
              " 17: 'The personal benefits include ondemand transportation  mobility  independence  and convenience.',\n",
              " 18: 'The societal benefits include economic benefits  such as job and wealth creation from the automotive industry  transportation provision  societal wellbeing from leisure and travel opportunities  and revenue generation from the taxes.',\n",
              " 19: 'Peoples ability to move flexibly from place to place has farreaching implications for the nature of societies.',\n",
              " 20: 'There are aroundbillion cars in use worldwide.',\n",
              " 21: 'The numbers are increasing rapidly  especially in China  India and other newly industrialized countries.',\n",
              " 22: 'The English word car is believed to originate from Latin carruscarrum wheeled vehicle or via Old North French Middle English carre twowheeled cart  both of which in turn derive from Gaulish karros chariot.',\n",
              " 23: 'It originally referred to any wheeled horsedrawn vehicle  such as a cart  carriage  or wagon.',\n",
              " 24: 'Motor car  attested from is the usual formal term in British English.',\n",
              " 25: 'Autocar  a variant likewise attested fromand literally meaning selfpropelled car  is now considered archaic.',\n",
              " 26: 'Horseless carriage is attested from  .',\n",
              " 27: 'Automobile  a classical compound derived from Ancient Greek aut s self and Latin mobilis movable  entered English from French and was first adopted by the Automobile Club of Great Britain in  .',\n",
              " 28: 'It fell out of favour in Britain and is now used chiefly in North Americawhere the abbreviated form auto commonly appears as an adjective in compound formations like auto industry and auto mechanic.',\n",
              " 29: 'Both forms are still used in everyday Dutch autoautomobiel and German AutoAutomobil.',\n",
              " 30: 'citation needed  The first working steampowered vehicle was designed and quite possibly built by Ferdinand Verbiest  a Flemish member of a Jesuit mission in China around  .',\n",
              " 31: 'It was acentimetre inlong scalemodel toy for the Kangxi Emperor that was unable to carry a driver or a passenger.',\n",
              " 32: 'It is not known with certainty if Verbiests model was successfully built or run.',\n",
              " 33: 'NicolasJoseph Cugnot is widely credited with building the first fullscale  selfpropelled mechanical vehicle or car in abouthe created a steampowered tricycle.',\n",
              " 34: 'He also constructed two steam tractors for the French Army  one of which is preserved in the French National Conservatory of Arts and Crafts.',\n",
              " 35: 'His inventions were  however  handicapped by problems with water supply and maintaining steam pressure.',\n",
              " 36: 'In Richard Trevithick built and demonstrated his Puffing Devil road locomotive  believed by many to be the first demonstration of a steampowered road vehicle.',\n",
              " 37: 'It was unable to maintain sufficient steam pressure for long periods and was of little practical use.',\n",
              " 38: 'The development of external combustion engines is detailed as part of the history of the car but often treated separately from the development of true cars.',\n",
              " 39: 'A variety of steampowered road vehicles were used during the first part of theth century  including steam cars  steam buses  phaetons  and steam rollers.',\n",
              " 40: 'Sentiment against them led to the Locomotive Acts of  .',\n",
              " 41: 'In Nic phore Ni pce and his brother Claude created what was probably the worlds first internal combustion engine which they called a Pyr olophore  but they chose to install it in a boat on the river Saone in France.',\n",
              " 42: 'Coincidentally  inthe Swiss inventor Fran ois Isaac de Rivaz designed his own de Rivaz internal combustion engine and used it to develop the worlds first vehicle to be powered by such an engine.',\n",
              " 43: 'The Ni pces Pyr olophore was fuelled by a mixture of Lycopodium powder dried spores of the Lycopodium plant  finely crushed coal dust and resin that were mixed with oil  whereas de Rivaz used a mixture of hydrogen and oxygen.',\n",
              " 44: 'Neither design was very successful  as was the case with others  such as Samuel Brown  Samuel Morey  and Etienne Lenoir with his hippomobile  who each produced vehicles usually adapted carriages or carts powered by internal combustion engines.',\n",
              " 45: 'In November French inventor Gustave Trouv  demonstrated the first working threewheeled car powered by electricity at the International Exposition of Electricity  Paris.',\n",
              " 46: 'Although several other German engineers including Gottlieb Daimler  Wilhelm Maybach  and Siegfried Marcus were working on the problem at about the same time  Karl Benz generally is acknowledged as the inventor of the modern car.',\n",
              " 47: 'In Benz was granted a patent for his first engine  which had been designed in  .',\n",
              " 48: 'Many of his other inventions made the use of the internal combustion engine feasible for powering a vehicle.',\n",
              " 49: 'His first Motorwagen was built inin Mannheim  Germany.',\n",
              " 50: 'He was awarded the patent for its invention as of his application on Januaryunder the auspices of his major company  Benz Cie.  which was founded in  .',\n",
              " 51: 'Benz began promotion of the vehicle onJuly and about Benz vehicles were sold betweenand when his first fourwheeler was introduced along with a cheaper model.',\n",
              " 52: 'They also were powered with fourstroke engines of his own design.',\n",
              " 53: 'Emile Roger of France  already producing Benz engines under license  now added the Benz car to his line of products.',\n",
              " 54: 'Because France was more open to the early cars  initially more were built and sold in France through Roger than Benz sold in Germany.',\n",
              " 55: 'In AugustBertha Benz  the wife of Karl Benz  undertook the first road trip by car  to prove the roadworthiness of her husbands invention.',\n",
              " 56: 'In Benz designed and patented the first internalcombustion flat engine  called boxermotor.',\n",
              " 57: 'During the last years of the nineteenth century  Benz was the largest car company in the world with  units produced inand  because of its size  Benz Cie.  became a jointstock company.',\n",
              " 58: 'The first motor car in central Europe and one of the first factorymade cars in the world  was produced by Czech company Nesselsdorfer Wagenbau later renamed to Tatra in the Pr sident automobil.',\n",
              " 59: 'Daimler and Maybach founded Daimler Motoren Gesellschaft DMG in Cannstatt in and sold their first car inunder the brand name Daimler.',\n",
              " 60: 'It was a horsedrawn stagecoach built by another manufacturer  which they retrofitted with an engine of their design.',\n",
              " 61: 'Byabout vehicles had been built by Daimler and Maybach  either at the Daimler works or in the Hotel Hermann  where they set up shop after disputes with their backers.',\n",
              " 62: 'Benz  Maybach and the Daimler team seem to have been unaware of each others early work.',\n",
              " 63: 'They never worked together by the time of the merger of the two companies  Daimler and Maybach were no longer part of DMG.',\n",
              " 64: 'Daimler died inand later that year  Maybach designed an engine named DaimlerMercedes that was placed in a specially ordered model built to specifications set by Emil Jellinek.',\n",
              " 65: 'This was a production of a small number of vehicles for Jellinek to race and market in his country.',\n",
              " 66: 'Two years later  in a new model DMG car was produced and the model was named Mercedes after the Maybach engine  which generated hp.',\n",
              " 67: 'Maybach quit DMG shortly thereafter and opened a business of his own.',\n",
              " 68: 'Rights to the Daimler brand name were sold to other manufacturers.',\n",
              " 69: 'Karl Benz proposed cooperation between DMG and Benz Cie. when economic conditions began to deteriorate in Germany following the First World War  but the directors of DMG refused to consider it initially.',\n",
              " 70: 'Negotiations between the two companies resumed several years later when these conditions worsened  and in they signed an Agreement of Mutual Interest  valid until the year  .',\n",
              " 71: 'Both enterprises standardized design  production  purchasing  and sales and they advertised or marketed their car models jointly  although keeping their respective brands.',\n",
              " 72: 'On June Benz Cie. and DMG finally merged as the DaimlerBenz company  baptizing all of its cars Mercedes Benz  as a brand honoring the most important model of the DMG cars  the Maybach design later referred to as theMercedeshp  along with the Benz name.',\n",
              " 73: 'Karl Benz remained a member of the board of directors of DaimlerBenz until his death in and at times  his two sons also participated in the management of the company.',\n",
              " 74: 'In  mile Levassor and Armand Peugeot of France began producing vehicles with Daimler engines  and so laid the foundation of the automotive industry in France.',\n",
              " 75: 'In Auguste Doriot and his Peugeot colleague Louis Rigoulot completed the longest trip by a gasolinepowered vehicle when their selfdesigned and built Daimler powered Peugeot Typecompleted km miles from Valentigney to Paris and Brest and back again.',\n",
              " 76: 'They were attached to the first Paris Brest Paris bicycle race  but finisheddays after the winning cyclist  Charles Terront.',\n",
              " 77: 'The first design for an American car with a gasoline internal combustion engine was made inby George Selden of Rochester  New York.',\n",
              " 78: 'Selden applied for a patent for a car in but the patent application expired because the vehicle was never built.',\n",
              " 79: 'After a delay of sixteen years and a series of attachments to his application  onNovember Selden was granted a United States patent you.S. Patentfor a twostroke car engine  which hindered  more than encouraged  development of cars in the United States.',\n",
              " 80: 'His patent was challenged by Henry Ford and others  and overturned in  .',\n",
              " 81: 'In the first running  gasolinepowered American car was built and roadtested by the Duryea brothers of Springfield  Massachusetts.',\n",
              " 82: 'The first public run of the Duryea Motor Wagon took place on September on Taylor Street in Metro Center Springfield.',\n",
              " 83: 'The Studebaker Automobile Company  subsidiary of a longestablished wagon and coach manufacturer  started to build cars inp.and commenced sales of electric vehicles inand gasoline vehicles in  .',\n",
              " 84: 'In Britain  there had been several attempts to build steam cars with varying degrees of success  with Thomas Rickett even attempting a production run in  .',\n",
              " 85: 'Santler from Malvern is recognized by the Veteran Car Club of Great Britain as having made the first gasolinepowered car in the country in  followed by Frederick William Lanchester in but these were both oneoffs.',\n",
              " 86: 'The first production vehicles in Great Britain came from the Daimler Company  a company founded by Harry J. Lawson in after purchasing the right to use the name of the engines.',\n",
              " 87: 'Lawsons company made its first car in and they bore the name Daimler.',\n",
              " 88: 'In German engineer Rudolf Diesel was granted a patent for a New Rational Combustion Engine.',\n",
              " 89: 'In he built the first diesel engine.',\n",
              " 90: 'Steam  electric  and gasolinepowered vehicles competed for decades  with gasoline internal combustion engines achieving dominance in the  s.',\n",
              " 91: 'Although various pistonless rotary engine designs have attempted to compete with the conventional piston and crankshaft design  only Mazdas version of the Wankel engine has had more than very limited success.',\n",
              " 92: 'All in all  it is estimated that overpatents created the modern automobile and motorcycle.',\n",
              " 93: 'Largescale  productionline manufacturing of affordable cars was started by Ransom Olds inat his Oldsmobile factory in Lansing  Michigan and based upon stationary assembly line techniques pioneered by Marc Isambard Brunel at the Portsmouth Block Mills  England  in  .',\n",
              " 94: 'The assembly line style of mass production and interchangeable parts had been pioneered in the you.S. by Thomas Blanchard in at the Springfield Armory in Springfield  Massachusetts.',\n",
              " 95: 'This concept was greatly expanded by Henry Ford  beginning inwith the worlds first moving assembly line for cars at the Highland Park Ford Plant.',\n",
              " 96: 'As a result  Fords cars came off the line in fifteenminute intervals  much faster than previous methods  increasing productivity eightfold  while using less manpower from. manhours tohour minutes.',\n",
              " 97: 'It was so successful  paint became a bottleneck.',\n",
              " 98: 'Only Japan black would dry fast enough  forcing the company to drop the variety of colors available before until fastdrying Duco lacquer was developed in  .',\n",
              " 99: 'This is the source of Fords apocryphal remark  any color as long as it is black.',\n",
              " 100: 'In an assembly line worker could buy a Model T with four months pay.',\n",
              " 101: 'Fords complex safety procedures especially assigning each worker to a specific location instead of allowing them to roam about dramatically reduced the rate of injury.',\n",
              " 102: 'citation needed  The combination of high wages and high efficiency is called Fordism  and was copied by most major industries.',\n",
              " 103: 'The efficiency gains from the assembly line also coincided with the economic rise of the United States.',\n",
              " 104: 'The assembly line forced workers to work at a certain pace with very repetitive motions which led to more output per worker while other countries were using less productive methods.',\n",
              " 105: 'In the automotive industry  its success was dominating  and quickly spread worldwide seeing the founding of Ford France and Ford Britain in Ford Denmark Ford Germanyin Citroen was the first native European manufacturer to adopt the production method.',\n",
              " 106: 'Soon  companies had to have assembly lines  or risk going broke by  companies which did not  had disappeared.',\n",
              " 107: 'Development of automotive technology was rapid  due in part to the hundreds of small manufacturers competing to gain the worlds attention.',\n",
              " 108: 'Key developments included electric ignition and the electric selfstarter both by Charles Kettering  for the Cadillac Motor Company inindependent suspension  and fourwheel brakes.',\n",
              " 109: 'Since the  s  nearly all cars have been massproduced to meet market needs  so marketing plans often have heavily influenced car design.',\n",
              " 110: 'It was Alfred P. Sloan who established the idea of different makes of cars produced by one company  called the General Motors Companion Make Program  so that buyers could move up as their fortunes improved.',\n",
              " 111: 'Reflecting the rapid pace of change  makes shared parts with one another so larger production volume resulted in lower costs for each price range.',\n",
              " 112: 'For example  in the  s  LaSalles  sold by Cadillac  used cheaper mechanical parts made by Oldsmobile in the  s  Chevrolet shared hood  doors  roof  and windows with Pontiac by the  s  corporate powertrains and shared platforms with interchangeable brakes  suspension  and other parts were common.',\n",
              " 113: 'Even so  only major makers could afford high costs  and even companies with decades of production  such as Apperson  Cole  Dorris  Haynes  or Premier  could not manage of some two hundred American car makers in existence in only survived in and with the Great Depression  by only of those were left.',\n",
              " 114: 'In Europe  much the same would happen.',\n",
              " 115: 'Morris set up its production line at Cowley in and soon outsold Ford  while beginning into follow Fords practice of vertical integration  buying Hotchkiss engines  Wrigley gearboxes  and Osberton radiators  for instance  as well as competitors  such as Wolseley in Morris had of total British car production.',\n",
              " 116: 'Most British smallcar assemblers  from Abbey to Xtra  had gone under.',\n",
              " 117: 'Citroen did the same in France  coming to cars inbetween them and other cheap cars in reply such as RenaultsCV and Peugeots  CV  they producedcars in and Mors  Hurtu  and others could not compete.',\n",
              " 118: 'Germanys first massmanufactured car  the Opel  PS Laubfrosch Tree Frog  came off the line at Russelsheim in soon making Opel the top car builder in Germany  with.  of the market.',\n",
              " 119: 'In Japan  car production was very limited before World War II.',\n",
              " 120: 'Only a handful of companies were producing vehicles in limited numbers  and these were small  threewheeled for commercial uses  like Daihatsu  or were the result of partnering with European companies  like Isuzu building the Wolseley A  in  .',\n",
              " 121: 'Mitsubishi was also partnered with Fiat and built the Mitsubishi Model A based on a Fiat vehicle.',\n",
              " 122: 'Toyota  Nissan  Suzuki  Mazda  and Honda began as companies producing nonautomotive products before the war  switching to car production during the  s.',\n",
              " 123: 'Kiichiro Toyodas decision to take Toyoda Loom Works into automobile manufacturing would create what would eventually become Toyota Motor Corporation  the largest automobile manufacturer in the world.',\n",
              " 124: 'Subaru  meanwhile  was formed from a conglomerate of six companies who banded together as Fuji Heavy Industries  as a result of having been broken up under keiretsu legislation.',\n",
              " 125: 'The transport sector is a major contributor to air pollution  noise pollution and climate change.',\n",
              " 126: 'Most cars in use in the  s run on gasoline burnt in an internal combustion engine ICE.',\n",
              " 127: 'The International Organization of Motor Vehicle Manufacturers says that  in countries that mandate low sulfur gasoline  gasolinefuelled cars built to late  s standards such as Euro  emit very little local air pollution.',\n",
              " 128: 'Some cities ban older gasolinefuelled cars and some countries plan to ban sales in future.',\n",
              " 129: 'However some environmental groups say this phaseout of fossil fuel vehicles must be brought forward to limit climate change.',\n",
              " 130: 'Production of gasoline fueled cars peaked in  .',\n",
              " 131: 'Other hydrocarbon fossil fuels also burnt by deflagration rather than detonation in ICE cars include diesel  Autogas and CNG.',\n",
              " 132: 'Removal of fossil fuel subsidies concerns about oil dependence  tightening environmental laws and restrictions on greenhouse gas emissions are propelling work on alternative power systems for cars.',\n",
              " 133: 'This includes hybrid vehicles  plugin electric vehicles and hydrogen vehicles.',\n",
              " 134: '.  million light electric vehicles of all types but mainly cars were sold in over half in China this was an increase of on the previous year  giving a global total on the road of  .  million.',\n",
              " 135: 'Vehicles using alternative fuels such as ethanol flexiblefuel vehicles and natural gas vehicles clarification needed  are also gaining popularity in some countries.',\n",
              " 136: 'citation needed  Cars for racing or speed records have sometimes employed jet or rocket engines  but these are impractical for common use.',\n",
              " 137: 'Oil consumption has increased rapidly in theth andst centuries because there are more cars the  oil glut even fuelled the sales of loweconomy vehicles in OECD countries.',\n",
              " 138: 'The BRIC countries are adding to this consumption.',\n",
              " 139: 'Cars are equipped with controls used for driving  passenger comfort  and safety  normally operated by a combination of the use of feet and hands  and occasionally by voice onstcentury cars.',\n",
              " 140: 'These controls include a steering wheel  pedals for operating the brakes and controlling the cars speed and  in a manual transmission car  a clutch pedal  a shift lever or stick for changing gears  and a number of buttons and dials for turning on lights  ventilation  and other functions.',\n",
              " 141: 'Modern cars controls are now standardized  such as the location for the accelerator and brake  but this was not always the case.',\n",
              " 142: 'Controls are evolving in response to new technologies  for example  the electric car and the integration of mobile communications.',\n",
              " 143: 'Some of the original controls are no longer required.',\n",
              " 144: 'For example  all cars once had controls for the choke valve  clutch  ignition timing  and a crank instead of an electric starter.',\n",
              " 145: 'However new controls have also been added to vehicles  making them more complex.',\n",
              " 146: 'These include air conditioning  navigation systems  and in car entertainment.',\n",
              " 147: 'Another trend is the replacement of physical knobs and switches by secondary controls with touchscreen controls such as BMWs iDrive and Fords MyFord Touch.',\n",
              " 148: 'Another change is that while early cars pedals were physically linked to the brake mechanism and throttle  in the  s  cars have increasingly replaced these physical linkages with electronic controls.',\n",
              " 149: 'Cars are typically fitted with multiple types of lights.',\n",
              " 150: 'These include headlights  which are used to illuminate the way ahead and make the car visible to other users  so that the vehicle can be used at night in some jurisdictions  daytime running lights red brake lights to indicate when the brakes are applied amber turn signal lights to indicate the turn intentions of the driver whitecolored reverse lights to illuminate the area behind the car and indicate that the driver will be or is reversing and on some vehicles  additional lights e.g.  side marker lights to increase the visibility of the car.',\n",
              " 151: 'Interior lights on the ceiling of the car are usually fitted for the driver and passengers.',\n",
              " 152: 'Some vehicles also have a trunk light and  more rarely  an engine compartment light.',\n",
              " 153: 'During the lateth and earlyst century cars increased in weight due to batteriesmodern steel safety cages  antilock brakes  airbags  and morepowerful if moreefficient engines  and  as ofupdatetypically weigh betweenandtonnes.',\n",
              " 154: 'Heavier cars are safer for the driver from a crash perspective  but more dangerous for other vehicles and road users.',\n",
              " 155: 'The weight of a car influences fuel consumption and performance  with more weight resulting in increased fuel consumption and decreased performance.',\n",
              " 156: 'The SmartFortwo  a small city car  weighskg lb.',\n",
              " 157: 'Heavier cars include fullsize cars  SUVs and extendedlength SUVs like the Suburban.',\n",
              " 158: 'According to research conducted by Julian Allwood of the University of Cambridge  global energy use could be greatly reduced by using lighter cars  and an average weight of  kg lb has been said to be well achievable.',\n",
              " 159: 'better source needed  In some competitions such as the she will Eco Marathon  average car weights of kg lb have also been achieved.',\n",
              " 160: 'These cars are only singleseaters still falling within the definition of a car  although  seater cars are more common  but they nevertheless demonstrate the amount by which car weights could still be reduced  and the subsequent lower fuel use i.e.',\n",
              " 161: 'up to a fuel use ofkml.',\n",
              " 162: 'Most cars are designed to carry multiple occupants  often with four or five seats.',\n",
              " 163: 'Cars with five seats typically seat two passengers in the front and three in the rear.',\n",
              " 164: 'Fullsize cars and large sport utility vehicles can often carry six  seven  or more occupants depending on the arrangement of the seats.',\n",
              " 165: 'On the other hand  sports cars are most often designed with only two seats.',\n",
              " 166: 'The differing needs for passenger capacity and their luggage or cargo space has resulted in the availability of a large variety of body styles to meet individual consumer requirements that include  among others  the sedansaloon  hatchback  station wagonestate  and minivan.',\n",
              " 167: 'Traffic collisions are the largest because of injuryrelated deaths worldwide.',\n",
              " 168: 'Mary Ward became one of the first documented car fatalities inin Parsonstown  Irelandand Henry Bliss one of the United States first pedestrian car casualties inin New York City.',\n",
              " 169: 'There are now standard tests for safety in new cars  such as the EuroNCAP and the US NCAP testsand insuranceindustrybacked tests by the Insurance Institute for Highway Safety IIHS.',\n",
              " 170: 'The costs of car usage  which may include the cost of acquiring the vehicle  repairs and auto maintenance  fuel  depreciation  driving time  parking fees  taxes  and insurance  are weighed against the cost of the alternatives  and the value of the benefitsperceived and realof vehicle usage.',\n",
              " 171: 'The benefits may include ondemand transportation  mobility  independence and convenience.',\n",
              " 172: 'During the  s  cars had another benefit  c ouples finally had a way to head off on unchaperoned dates  plus they had a private space to snuggle up close at the end of the night.',\n",
              " 173: 'Similarly the costs to society of car use may include maintaining roads  land use  air pollution  road congestion  public health  health care  and of disposing of the vehicle at the end of its life and can be balanced against the value of the benefits to society that car use generates.',\n",
              " 174: 'Societal benefits may include economy benefits  such as job and wealth creation  of car production and maintenance  transportation provision  society wellbeing derived from leisure and travel opportunities  and revenue generation from the tax opportunities.',\n",
              " 175: 'The ability of humans to move flexibly from place to place has farreaching implications for the nature of societies.',\n",
              " 176: 'Cars are a major because of urban air pollutionwith all types of cars producing dust from brakes  tyres and road wear.',\n",
              " 177: 'As ofupdate  the average diesel car has a worse effect on air quality than the average gasoline car  But both gasoline and diesel cars pollute more than electric cars.',\n",
              " 178: 'While there are different ways to power cars most rely on gasoline or diesel  and they consume almost a quarter of world oil production as ofupdate .',\n",
              " 179: 'Inpassenger road vehicles emitted  .  gigatonnes of carbon dioxide.',\n",
              " 180: 'As ofupdatedue to greenhouse gases emitted during battery production  electric cars must be driven tens of thousands of kilometers before their lifecycle carbon emissions are less than fossil fuel cars  but this is expected to improve in future due to longer lasting  batteries being produced in larger factoriesand lower carbon electricity.',\n",
              " 181: 'Many governments are using fiscal policies  such as road tax  to discourage the purchase and use of more polluting cars  and many cities are doing the same with lowemission zones.',\n",
              " 182: 'Fuel taxes may act as an incentive for the production of more efficient  hence less polluting  car designs e.g.',\n",
              " 183: 'hybrid vehicles and the development of alternative fuels.',\n",
              " 184: 'High fuel taxes or cultural change may provide a strong incentive for consumers to purchase lighter  smaller  more fuelefficient cars  or to not drive.',\n",
              " 185: 'The lifetime of a car built in the  s is expected to be about years  or aboutmillion kilometres  .  million miles if driven a lot.',\n",
              " 186: 'According to the International Energy Agency fuel economy improved  .  in but an annual improvement of  .  is needed to meet the Global Fuel Economy Initiativetarget.',\n",
              " 187: 'The increase in sales of SUVs is bad for fuel economy.',\n",
              " 188: 'Many cities in Europe  have banned older fossil fuel cars and all fossil fuel vehicles will be banned in Amsterdam from  .',\n",
              " 189: 'Many Chinese cities limit licensing of fossil fuel carsand many countries plan to stop selling them betweenand  .',\n",
              " 190: 'The manufacture of vehicles is resource intensive  and many manufacturers now report on the environmental performance of their factories  including energy usage  waste and water consumption.',\n",
              " 191: 'Manufacturing each kWh of battery emits a similar amount of carbon as burning through one full tank of gasoline.',\n",
              " 192: 'The growth in popularity of the car allowed cities to sprawl  therefore encouraging more travel by car resulting in inactivity and obesity  which in turn can lead to increased risk of a variety of diseases.',\n",
              " 193: 'Animals and plants are often negatively impacted by cars via habitat destruction and pollution.',\n",
              " 194: 'Over the lifetime of the average car the loss of habitat potential may be over  m sq ft based on primary production correlations.',\n",
              " 195: 'Animals are also killed every year on roads by cars  referred to as roadkill.',\n",
              " 196: 'More recent road developments are including significant environmental mitigation in their designs  such as green bridges designed to allow wildlife crossings and creating wildlife corridors.',\n",
              " 197: 'Growth in the popularity of vehicles and commuting has led to traffic congestion.',\n",
              " 198: 'Moscow  Istanbul  Bogota  Mexico City and Sao Paulo were the worlds most congested cities inaccording to INRIX  a data analytics company.',\n",
              " 199: 'Although intensive development of conventional battery electric vehicles is continuing into the  sother car propulsion technologies that are under development include wheel hub motorswireless charginghydrogen carsand hydrogenelectric hybrids.',\n",
              " 200: 'Research into alternative forms of power includes using ammonia instead of hydrogen in fuel cells.',\n",
              " 201: 'New materials  which may replace steel car bodies include duralumin  fiberglass  carbon fiber  biocomposites  and carbon nanotubes.',\n",
              " 202: 'Telematics technology is allowing more and more people to share cars  on a payasyougo basis  through car share and carpool schemes.',\n",
              " 203: 'Communication is also evolving due to connected car systems.',\n",
              " 204: 'Fully autonomous vehicles  also known as driverless cars  already exist in prototype such as the Google driverless car  but have a long way to go before they are in general use.',\n",
              " 205: 'There have been several projects aiming to develop a car on the principles of open design  an approach to designing in which the plans for the machinery and systems are publicly shared  often without monetary compensation.',\n",
              " 206: 'The projects include OScar  Riversimple throughfires.org  and c mm n.',\n",
              " 207: 'None of the projects have reached significant success in terms of developing a car as a whole both from hardware and software perspective and no mass production ready opensource based design have been introduced as of late  .',\n",
              " 208: 'Some car hacking through onboard diagnostics OBD has been done so far.',\n",
              " 209: 'Carshare arrangements and carpooling are also increasingly popular  in the US and Europe.',\n",
              " 210: 'For example  in the US  some carsharing services have experienced doubledigit growth in revenue and membership growth betweenand  .',\n",
              " 211: 'Services like car sharing offering a residents to share a vehicle rather than own a car in already congested neighborhoods.',\n",
              " 212: 'The automotive industry designs  develops  manufactures  markets  and sells the worlds motor vehicles  more than threequarters of which are cars.',\n",
              " 213: 'Inthere were million cars manufactured worldwidedownmillion from the previous year.',\n",
              " 214: 'The automotive industry in China produces by far the most million in followed by Japanmillion  Germanymillion and Indiamillion.',\n",
              " 215: 'The largest market is China  followed by the USA.',\n",
              " 216: 'Around the world there are about a billion cars on the road  they burn over a trillion liters of gasoline and diesel fuel yearly  consuming about EJ nearly  terawatthours of energy.',\n",
              " 217: 'The numbers of cars are increasing rapidly in China and India.',\n",
              " 218: 'In the opinion of some  urban transport systems based around the car have proved unsustainable  consuming excessive energy  affecting the health of populations  and delivering a declining level of service despite increasing investment.',\n",
              " 219: 'Many of these negative impacts fall disproportionately on those social groups who are also least likely to own and drive cars.',\n",
              " 220: 'The sustainable transport movement focuses on solutions to these problems.',\n",
              " 221: 'The car industry is also facing increasing competition from the public transport sector  as some people reevaluate their private vehicle usage.',\n",
              " 222: 'Established alternatives for some aspects of car use include public transport such as buses  trolleybuses  trains  subways  tramways  light rail  cycling  and walking.',\n",
              " 223: 'Bicycle sharing systems have been established in China and many European cities  including Copenhagen and Amsterdam.',\n",
              " 224: 'Similar programs have been developed in large US cities.',\n",
              " 225: 'Additional individual modes of transport  such as personal rapid transit could serve as an alternative to cars if they prove to be socially accepted.',\n",
              " 226: 'The term motorcar was formerly also used in the context of electrified rail systems to denote a car which functions as a small locomotive but also provides space for passengers and baggage.',\n",
              " 227: 'These locomotive cars were often used on suburban routes by both interurban and intercity railroad systems.',\n",
              " 228: 'General Effects Mitigation'}"
            ]
          },
          "metadata": {
            "tags": []
          },
          "execution_count": 9
        }
      ]
    },
    {
      "cell_type": "markdown",
      "metadata": {
        "id": "xsVqcfMby5qH"
      },
      "source": [
        "### Text Preprocessing\n",
        "- Converting to Lowercase\n",
        "- Tokenization & Punctuation Removal\n",
        "- Removing Stopwords\n",
        "- Lemmatization"
      ]
    },
    {
      "cell_type": "code",
      "metadata": {
        "id": "m0cF7edzyPGI"
      },
      "source": [
        "def preprocessing(sentenceDict):\n",
        "    \n",
        "    tokensDict = {}\n",
        "    \n",
        "    #Converting to Lowercase\n",
        "    for sentenceNo in sentenceDict:\n",
        "        sentence = sentenceDict[sentenceNo]\n",
        "        tokensDict[sentenceNo] = sentence.lower()\n",
        "    \n",
        "    #Tokenization\n",
        "    tokenizer = RegexpTokenizer(r'\\w+')\n",
        "    for sentenceNo in tokensDict:   \n",
        "        sentence = tokensDict[sentenceNo]\n",
        "        tokenSentenceList = tokenizer.tokenize(sentence)\n",
        "        tokensDict[sentenceNo] = tokenSentenceList\n",
        "            \n",
        "    #Removing Stopwords\n",
        "    stopwordsList = stopwords.words('english')\n",
        "    \n",
        "    for sentenceNo in tokensDict:\n",
        "        sentenceTokenList = tokensDict[sentenceNo]\n",
        "\n",
        "        for word in sentenceTokenList.copy():\n",
        "            # print(word)\n",
        "            if word in stopwordsList:\n",
        "                sentenceTokenList.remove(word)\n",
        "            \n",
        "            if word.isdigit():\n",
        "              sentenceTokenList.remove(word)\n",
        "            tokensDict[sentenceNo] = sentenceTokenList\n",
        "            \n",
        "    #Lemmatization        \n",
        "    lemmatizer = WordNetLemmatizer() \n",
        "    for sentenceNo in tokensDict:\n",
        "        tokenOutputList = []\n",
        "        sentenceTokenList = tokensDict[sentenceNo]\n",
        "\n",
        "        for word in sentenceTokenList:\n",
        "            tokenOutputList.append(lemmatizer.lemmatize(word))\n",
        "        tokensDict[sentenceNo] = tokenOutputList\n",
        "\n",
        "            \n",
        "    return tokensDict"
      ],
      "execution_count": null,
      "outputs": []
    },
    {
      "cell_type": "code",
      "metadata": {
        "id": "TL4QF0RHVyA-",
        "colab": {
          "base_uri": "https://localhost:8080/"
        },
        "outputId": "342ce374-a2ce-49f5-ac41-efaf51efb76b"
      },
      "source": [
        "line= {0:\"[13][14] It originally referred to any wheeled horse-drawn vehicle, such as a cart, carriage, or wagon.[15][16]\"}\n",
        "preprocessing(line)"
      ],
      "execution_count": null,
      "outputs": [
        {
          "output_type": "execute_result",
          "data": {
            "text/plain": [
              "{0: ['originally',\n",
              "  'referred',\n",
              "  'wheeled',\n",
              "  'horse',\n",
              "  'drawn',\n",
              "  'vehicle',\n",
              "  'cart',\n",
              "  'carriage',\n",
              "  'wagon']}"
            ]
          },
          "metadata": {
            "tags": []
          },
          "execution_count": 11
        }
      ]
    },
    {
      "cell_type": "code",
      "metadata": {
        "colab": {
          "base_uri": "https://localhost:8080/"
        },
        "id": "C8eAVHHOW3ee",
        "outputId": "3d6339f1-822f-4b5a-ff8e-fdf1dbb078d9"
      },
      "source": [
        "n =\"12\"\n",
        "n.isdigit()"
      ],
      "execution_count": null,
      "outputs": [
        {
          "output_type": "execute_result",
          "data": {
            "text/plain": [
              "True"
            ]
          },
          "metadata": {
            "tags": []
          },
          "execution_count": 12
        }
      ]
    },
    {
      "cell_type": "markdown",
      "metadata": {
        "id": "sfIYYCtzzBX4"
      },
      "source": [
        "### Creating Word Frequency Table"
      ]
    },
    {
      "cell_type": "code",
      "metadata": {
        "id": "4G4UT2WhyZQ4"
      },
      "source": [
        "def frequenctTable(tokensDict):\n",
        "    \n",
        "    for sentenceNo in tokensDict:\n",
        "        frequencyDict = {}\n",
        "        sentenceTokenList = tokensDict[sentenceNo]\n",
        "    \n",
        "        for word in sentenceTokenList:\n",
        "            if word not in frequencyDict:\n",
        "                frequencyDict[word] = 1\n",
        "            else:\n",
        "                frequencyDict[word] += 1\n",
        "        tokensDict[sentenceNo] = frequencyDict\n",
        "\n",
        "\n",
        "    return tokensDict\n"
      ],
      "execution_count": null,
      "outputs": []
    },
    {
      "cell_type": "markdown",
      "metadata": {
        "id": "XgEojys3zHAt"
      },
      "source": [
        "### Calculating Term Frequency (TF)\n"
      ]
    },
    {
      "cell_type": "code",
      "metadata": {
        "id": "fdzpp99bzA9G"
      },
      "source": [
        "def termFrequency(frequencyTable):\n",
        "    \n",
        "    tfScoresDict = {}\n",
        "    for sentenceNo in frequencyTable:\n",
        "        frequencyDict = {}\n",
        "        sentenceTokenDict = frequencyTable[sentenceNo]\n",
        "    \n",
        "        for term in sentenceTokenDict:\n",
        "            frequencyDict[term] =  frequencyTable[sentenceNo][term] / len(sentenceTokenDict)\n",
        "\n",
        "        tfScoresDict[sentenceNo] = frequencyDict\n",
        "\n",
        "    return tfScoresDict"
      ],
      "execution_count": null,
      "outputs": []
    },
    {
      "cell_type": "markdown",
      "metadata": {
        "id": "j8F-Cp3VzKjb"
      },
      "source": [
        "### Calculating Number of Sentences Containing a Word\n"
      ]
    },
    {
      "cell_type": "code",
      "metadata": {
        "id": "m-gjdMN2zI32"
      },
      "source": [
        "def sentenceContainingWord(frequencyTable):\n",
        "    \n",
        "    sentenceWordTable = {}\n",
        "    \n",
        "    for sentenceNo in frequencyTable:\n",
        "        sentenceTokenDict = frequencyTable[sentenceNo]\n",
        "        \n",
        "        for word in sentenceTokenDict:\n",
        "            if word not in sentenceWordTable:\n",
        "                sentenceWordTable[word] = 1\n",
        "            else:\n",
        "                sentenceWordTable[word] += 1\n",
        "    \n",
        "    return sentenceWordTable"
      ],
      "execution_count": null,
      "outputs": []
    },
    {
      "cell_type": "markdown",
      "metadata": {
        "id": "JsCqwOEZzQhE"
      },
      "source": [
        "### Calculating Invese Document Frequency (IDF)"
      ]
    },
    {
      "cell_type": "code",
      "metadata": {
        "id": "A2o3vofxzOj6"
      },
      "source": [
        "def inverseDf(frequencyTable, sentencesWordDict):\n",
        "    \n",
        "    inverseDfScores = {}\n",
        "    for sentenceNo in frequencyTable:\n",
        "        idfDict = {}\n",
        "        sentenceTokenDict = frequencyTable[sentenceNo]\n",
        "\n",
        "        for term in sentenceTokenDict:\n",
        "            idfDict[term] = math.log10(len(frequencyTable)/ sentencesWordDict[term])\n",
        "            \n",
        "        inverseDfScores[sentenceNo] = idfDict\n",
        "        \n",
        "    return inverseDfScores"
      ],
      "execution_count": null,
      "outputs": []
    },
    {
      "cell_type": "markdown",
      "metadata": {
        "id": "amdHhBjwzUdW"
      },
      "source": [
        "### Calculating TF-IDF"
      ]
    },
    {
      "cell_type": "code",
      "metadata": {
        "id": "WI9iQjf9zWNc"
      },
      "source": [
        "def calculateTfIdf(tfScores, inverseDfScores):\n",
        "    \n",
        "    tfidfScores = {}\n",
        "        \n",
        "    for sentenceNo in tfScores:\n",
        "        tfidfDict = {}\n",
        "        \n",
        "        tfDict = tfScores[sentenceNo]\n",
        "        idfDict = inverseDfScores[sentenceNo]\n",
        "        \n",
        "        for tf, idf in zip(tfDict, idfDict):\n",
        "            tfidfDict[tf] = tfDict[tf] * idfDict[idf]\n",
        "            \n",
        "        tfidfScores[sentenceNo] = tfidfDict\n",
        "        \n",
        "    return tfidfScores"
      ],
      "execution_count": null,
      "outputs": []
    },
    {
      "cell_type": "markdown",
      "metadata": {
        "id": "YZWigekIzaEG"
      },
      "source": [
        "### Scoring Each Sentence"
      ]
    },
    {
      "cell_type": "code",
      "metadata": {
        "id": "W_nTsgtizXxs"
      },
      "source": [
        "def sentenceScoring(tfIdfScores):\n",
        "    scoresList = []\n",
        "    \n",
        "    for sentenceNo in tfIdfScores:\n",
        "        tfIdfScoresDict = tfIdfScores[sentenceNo]\n",
        "        scoresList.append(sum(list(tfIdfScoresDict.values())) / len(tfIdfScoresDict))\n",
        "    \n",
        "    return scoresList\n"
      ],
      "execution_count": null,
      "outputs": []
    },
    {
      "cell_type": "markdown",
      "metadata": {
        "id": "C3bNa95Tzd7E"
      },
      "source": [
        "### Generating Summary"
      ]
    },
    {
      "cell_type": "code",
      "metadata": {
        "id": "h2CnhwVSzZYt"
      },
      "source": [
        "def generatingSummary(sentenceDict, sentenceScores, threshold):\n",
        "    \n",
        "    summarySentences = []\n",
        "    for scores in sentenceScores:\n",
        "        if scores > threshold:\n",
        "            summarySentences.append(sentenceScores.index(scores))\n",
        "            \n",
        "    summary = ''\n",
        "    if summarySentences:\n",
        "        for sentenceNo in summarySentences:\n",
        "            summary += sentenceDict[sentenceNo] +\" \"\n",
        "            \n",
        "    return summary.strip()\n",
        "\n",
        "    # summaryList = []\n",
        "    # if summarySentences:\n",
        "    #      for sentenceNo in summarySentences:\n",
        "    #          summaryList.append(sentenceDict[sentenceNo])\n",
        "    # return summaryList\n",
        "      \n"
      ],
      "execution_count": null,
      "outputs": []
    },
    {
      "cell_type": "code",
      "metadata": {
        "id": "TzLHpn2fzdZf"
      },
      "source": [
        "def main():\n",
        "    \n",
        "    paragraph = '''\n",
        "    \n",
        "    Those Who Are Resilient Stay In The Game Longer\n",
        "“On the mountains of truth you can never climb in vain: either you will reach a point higher up today, or you will be training your powers so that you will be able to climb higher tomorrow.” — Friedrich Nietzsche\n",
        "Challenges and setbacks are not meant to defeat you, but promote you. However, I realise after many years of defeats, it can crush your spirit and it is easier to give up than risk further setbacks and disappointments. Have you experienced this before? To be honest, I don’t have the answers. I can’t tell you what the right course of action is; only you will know. However, it’s important not to be discouraged by failure when pursuing a goal or a dream, since failure itself means different things to different people. To a person with a Fixed Mindset failure is a blow to their self-esteem, yet to a person with a Growth Mindset, it’s an opportunity to improve and find new ways to overcome their obstacles. Same failure, yet different responses. Who is right and who is wrong? Neither. Each person has a different mindset that decides their outcome. Those who are resilient stay in the game longer and draw on their inner means to succeed.\n",
        "I’ve coached mummy and mom clients who gave up after many years toiling away at their respective goal or dream. It was at that point their biggest breakthrough came. Perhaps all those years of perseverance finally paid off. It was the 19th Century’s minister Henry Ward Beecher who once said: “One’s best success comes after their greatest disappointments.” No one knows what the future holds, so your only guide is whether you can endure repeated defeats and disappointments and still pursue your dream. Consider the advice from the American academic and psychologist Angela Duckworth who writes in Grit: The Power of Passion and Perseverance: “Many of us, it seems, quit what we start far too early and far too often. Even more than the effort a gritty person puts in on a single day, what matters is that they wake up the next day, and the next, ready to get on that treadmill and keep going.”\n",
        "I know one thing for certain: don’t settle for less than what you’re capable of, but strive for something bigger. Some of you reading this might identify with this message because it resonates with you on a deeper level. For others, at the end of their tether the message might be nothing more than a trivial pep talk. What I wish to convey irrespective of where you are in your journey is: NEVER settle for less. If you settle for less, you will receive less than you deserve and convince yourself you are justified to receive it.\n",
        "“Two people on a precipice over Yosemite Valley” by Nathan Shipps on Unsplash\n",
        "Develop A Powerful Vision Of What You Want\n",
        "“Your problem is to bridge the gap which exists between where you are now and the goal you intend to reach.” — Earl Nightingale\n",
        "I recall a passage my father often used growing up in 1990s: “Don’t tell me your problems unless you’ve spent weeks trying to solve them yourself.” That advice has echoed in my mind for decades and became my motivator. Don’t leave it to other people or outside circumstances to motivate you because you will be let down every time. It must come from within you. Gnaw away at your problems until you solve them or find a solution. Problems are not stop signs, they are advising you that more work is required to overcome them. Most times, problems help you gain a skill or develop the resources to succeed later. So embrace your challenges and develop the grit to push past them instead of retreat in resignation. Where are you settling in your life right now? Could you be you playing for bigger stakes than you are? Are you willing to play bigger even if it means repeated failures and setbacks? You should ask yourself these questions to decide whether you’re willing to put yourself on the line or settle for less. And that’s fine if you’re content to receive less, as long as you’re not regretful later.\n",
        "If you have not achieved the success you deserve and are considering giving up, will you regret it in a few years or decades from now? Only you can answer that, but you should carve out time to discover your motivation for pursuing your goals. It’s a fact, if you don’t know what you want you’ll get what life hands you and it may not be in your best interest, affirms author Larry Weidel: “Winners know that if you don’t figure out what you want, you’ll get whatever life hands you.” The key is to develop a powerful vision of what you want and hold that image in your mind. Nurture it daily and give it life by taking purposeful action towards it.\n",
        "Vision + desire + dedication + patience + daily action leads to astonishing success. Are you willing to commit to this way of life or jump ship at the first sign of failure? I’m amused when I read questions written by millennials on Quora who ask how they can become rich and famous or the next Elon Musk. Success is a fickle and long game with highs and lows. Similarly, there are no assurances even if you’re an overnight sensation, to sustain it for long, particularly if you don’t have the mental and emotional means to endure it. This means you must rely on the one true constant in your favour: your personal development. The more you grow, the more you gain in terms of financial resources, status, success — simple. If you leave it to outside conditions to dictate your circumstances, you are rolling the dice on your future.\n",
        "So become intentional on what you want out of life. Commit to it. Nurture your dreams. Focus on your development and if you want to give up, know what’s involved before you take the plunge. Because I assure you, someone out there right now is working harder than you, reading more books, sleeping less and sacrificing all they have to realise their dreams and it may contest with yours. Don’t leave your dreams to chance.\n",
        "\n",
        "    '''\n",
        "\n",
        "    sentenceDict = paragraphToSentence(paragraph)\n",
        "    #print('Sentence Dictionary', sentenceDict)\n",
        "    \n",
        "    tokensDict = preprocessing(sentenceDict)\n",
        "    #print('Tokens Dictionary', tokensDict)\n",
        "\n",
        "    frequencyTable = frequenctTable(tokensDict)\n",
        "    #print('Frequency table', frequencyTable)\n",
        "    \n",
        "    tfScores = termFrequency(frequencyTable)\n",
        "    #print('TF Scores', tfScores)\n",
        "    \n",
        "    sentencesWordDict = sentenceContainingWord(frequencyTable)\n",
        "    #print('Sentence Word Dictionary', sentencesWordDict)\n",
        "\n",
        "    idfScores = inverseDf(frequencyTable, sentencesWordDict)\n",
        "    #print('IDF Scores', idfScores)\n",
        "    \n",
        "    tfIdfScores = calculateTfIdf(tfScores, idfScores)\n",
        "    #print('TF IDF Scores', tfIdfScores)\n",
        "    \n",
        "    sentenceScores = sentenceScoring(tfIdfScores)\n",
        "    #print('Sentence Scores', sentenceScores)\n",
        "    \n",
        "    threshold = sum(sentenceScores) / len(sentenceDict)\n",
        "    #print('Threshold', threshold)\n",
        "    \n",
        "    summary = generatingSummary(sentenceDict, sentenceScores, threshold)\n",
        "    print(summary)"
      ],
      "execution_count": null,
      "outputs": []
    },
    {
      "cell_type": "code",
      "metadata": {
        "id": "jdR-rtI0JNFO"
      },
      "source": [
        "paragraph = '''\n",
        "    \n",
        "    Those Who Are Resilient Stay In The Game Longer\n",
        "“On the mountains of truth you can never climb in vain: either you will reach a point higher up today, or you will be training your powers so that you will be able to climb higher tomorrow.” — Friedrich Nietzsche\n",
        "Challenges and setbacks are not meant to defeat you, but promote you. However, I realise after many years of defeats, it can crush your spirit and it is easier to give up than risk further setbacks and disappointments. Have you experienced this before? To be honest, I don’t have the answers. I can’t tell you what the right course of action is; only you will know. However, it’s important not to be discouraged by failure when pursuing a goal or a dream, since failure itself means different things to different people. To a person with a Fixed Mindset failure is a blow to their self-esteem, yet to a person with a Growth Mindset, it’s an opportunity to improve and find new ways to overcome their obstacles. Same failure, yet different responses. Who is right and who is wrong? Neither. Each person has a different mindset that decides their outcome. Those who are resilient stay in the game longer and draw on their inner means to succeed.\n",
        "I’ve coached mummy and mom clients who gave up after many years toiling away at their respective goal or dream. It was at that point their biggest breakthrough came. Perhaps all those years of perseverance finally paid off. It was the 19th Century’s minister Henry Ward Beecher who once said: “One’s best success comes after their greatest disappointments.” No one knows what the future holds, so your only guide is whether you can endure repeated defeats and disappointments and still pursue your dream. Consider the advice from the American academic and psychologist Angela Duckworth who writes in Grit: The Power of Passion and Perseverance: “Many of us, it seems, quit what we start far too early and far too often. Even more than the effort a gritty person puts in on a single day, what matters is that they wake up the next day, and the next, ready to get on that treadmill and keep going.”\n",
        "I know one thing for certain: don’t settle for less than what you’re capable of, but strive for something bigger. Some of you reading this might identify with this message because it resonates with you on a deeper level. For others, at the end of their tether the message might be nothing more than a trivial pep talk. What I wish to convey irrespective of where you are in your journey is: NEVER settle for less. If you settle for less, you will receive less than you deserve and convince yourself you are justified to receive it.\n",
        "“Two people on a precipice over Yosemite Valley” by Nathan Shipps on Unsplash\n",
        "Develop A Powerful Vision Of What You Want\n",
        "“Your problem is to bridge the gap which exists between where you are now and the goal you intend to reach.” — Earl Nightingale\n",
        "I recall a passage my father often used growing up in 1990s: “Don’t tell me your problems unless you’ve spent weeks trying to solve them yourself.” That advice has echoed in my mind for decades and became my motivator. Don’t leave it to other people or outside circumstances to motivate you because you will be let down every time. It must come from within you. Gnaw away at your problems until you solve them or find a solution. Problems are not stop signs, they are advising you that more work is required to overcome them. Most times, problems help you gain a skill or develop the resources to succeed later. So embrace your challenges and develop the grit to push past them instead of retreat in resignation. Where are you settling in your life right now? Could you be you playing for bigger stakes than you are? Are you willing to play bigger even if it means repeated failures and setbacks? You should ask yourself these questions to decide whether you’re willing to put yourself on the line or settle for less. And that’s fine if you’re content to receive less, as long as you’re not regretful later.\n",
        "If you have not achieved the success you deserve and are considering giving up, will you regret it in a few years or decades from now? Only you can answer that, but you should carve out time to discover your motivation for pursuing your goals. It’s a fact, if you don’t know what you want you’ll get what life hands you and it may not be in your best interest, affirms author Larry Weidel: “Winners know that if you don’t figure out what you want, you’ll get whatever life hands you.” The key is to develop a powerful vision of what you want and hold that image in your mind. Nurture it daily and give it life by taking purposeful action towards it.\n",
        "Vision + desire + dedication + patience + daily action leads to astonishing success. Are you willing to commit to this way of life or jump ship at the first sign of failure? I’m amused when I read questions written by millennials on Quora who ask how they can become rich and famous or the next Elon Musk. Success is a fickle and long game with highs and lows. Similarly, there are no assurances even if you’re an overnight sensation, to sustain it for long, particularly if you don’t have the mental and emotional means to endure it. This means you must rely on the one true constant in your favour: your personal development. The more you grow, the more you gain in terms of financial resources, status, success — simple. If you leave it to outside conditions to dictate your circumstances, you are rolling the dice on your future.\n",
        "So become intentional on what you want out of life. Commit to it. Nurture your dreams. Focus on your development and if you want to give up, know what’s involved before you take the plunge. Because I assure you, someone out there right now is working harder than you, reading more books, sleeping less and sacrificing all they have to realise their dreams and it may contest with yours. Don’t leave your dreams to chance.\n",
        "\n",
        "    '''\n",
        "res = requests.get(\"https://en.wikipedia.org/wiki/Car\")\n",
        "wiki = bs4.BeautifulSoup(res.text, \"lxml\")\n",
        "para = [''.join([i.getText() for i in wiki.select('p')])]"
      ],
      "execution_count": null,
      "outputs": []
    },
    {
      "cell_type": "code",
      "metadata": {
        "id": "aLeNQFEoItNP"
      },
      "source": [
        "def getSummary(paragraph):\n",
        "    sentenceDict = paragraphToSentence(paragraph)\n",
        "    #print('Sentence Dictionary', sentenceDict)\n",
        "    documentsDict = cleaning(sentenceDict)\n",
        "    \n",
        "    tokensDict = preprocessing(sentenceDict)\n",
        "    #print('Tokens Dictionary', tokensDict)\n",
        "\n",
        "    frequencyTable = frequenctTable(tokensDict)\n",
        "    #print('Frequency table', frequencyTable)\n",
        "    \n",
        "    tfScores = termFrequency(frequencyTable)\n",
        "    #print('TF Scores', tfScores)\n",
        "    \n",
        "    sentencesWordDict = sentenceContainingWord(frequencyTable)\n",
        "    #print('Sentence Word Dictionary', sentencesWordDict)\n",
        "\n",
        "    idfScores = inverseDf(frequencyTable, sentencesWordDict)\n",
        "    #print('IDF Scores', idfScores)\n",
        "    \n",
        "    tfIdfScores = calculateTfIdf(tfScores, idfScores)\n",
        "    #print('TF IDF Scores', tfIdfScores)\n",
        "    \n",
        "    sentenceScores = sentenceScoring(tfIdfScores)\n",
        "    #print('Sentence Scores', sentenceScores)\n",
        "    \n",
        "    threshold = sum(sentenceScores) / len(sentenceDict)\n",
        "    #print('Threshold', threshold)\n",
        "    \n",
        "    summary = generatingSummary(documentsDict, sentenceScores, threshold)\n",
        "    return summary"
      ],
      "execution_count": null,
      "outputs": []
    },
    {
      "cell_type": "code",
      "metadata": {
        "colab": {
          "base_uri": "https://localhost:8080/"
        },
        "id": "M4x2IK-1_VPM",
        "outputId": "cfb1977b-34ba-4c5c-b532-bed62a851ec6"
      },
      "source": [
        "# para[0]\n",
        "summary = getSummary(para[0])\n",
        "print(summary)"
      ],
      "execution_count": null,
      "outputs": [
        {
          "output_type": "stream",
          "text": [
            "A car or automobile is a wheeled motor vehicle used for transportation. Cars came into global use during theth century  and developed economies depend on them. Cars became widely available in the earlyth century. There are costs and benefits to car use. Traffic collisions are the largest because of injuryrelated deaths worldwide. The personal benefits include ondemand transportation  mobility  independence  and convenience. Peoples ability to move flexibly from place to place has farreaching implications for the nature of societies. There are aroundbillion cars in use worldwide. The numbers are increasing rapidly  especially in China  India and other newly industrialized countries. It originally referred to any wheeled horsedrawn vehicle  such as a cart  carriage  or wagon. Motor car  attested from is the usual formal term in British English. Autocar  a variant likewise attested fromand literally meaning selfpropelled car  is now considered archaic. Horseless carriage is attested from  . Both forms are still used in everyday Dutch autoautomobiel and German AutoAutomobil. It was acentimetre inlong scalemodel toy for the Kangxi Emperor that was unable to carry a driver or a passenger. It is not known with certainty if Verbiests model was successfully built or run. His inventions were  however  handicapped by problems with water supply and maintaining steam pressure. It was unable to maintain sufficient steam pressure for long periods and was of little practical use. Sentiment against them led to the Locomotive Acts of  . In Benz was granted a patent for his first engine  which had been designed in  . His first Motorwagen was built inin Mannheim  Germany. They also were powered with fourstroke engines of his own design. Because France was more open to the early cars  initially more were built and sold in France through Roger than Benz sold in Germany. It was a horsedrawn stagecoach built by another manufacturer  which they retrofitted with an engine of their design. Benz  Maybach and the Daimler team seem to have been unaware of each others early work. This was a production of a small number of vehicles for Jellinek to race and market in his country. Maybach quit DMG shortly thereafter and opened a business of his own. Rights to the Daimler brand name were sold to other manufacturers. They were attached to the first Paris Brest Paris bicycle race  but finisheddays after the winning cyclist  Charles Terront. Selden applied for a patent for a car in but the patent application expired because the vehicle was never built. His patent was challenged by Henry Ford and others  and overturned in  . Lawsons company made its first car in and they bore the name Daimler. In he built the first diesel engine. All in all  it is estimated that overpatents created the modern automobile and motorcycle. It was so successful  paint became a bottleneck. This is the source of Fords apocryphal remark  any color as long as it is black. In an assembly line worker could buy a Model T with four months pay. citation needed  The combination of high wages and high efficiency is called Fordism  and was copied by most major industries. The efficiency gains from the assembly line also coincided with the economic rise of the United States. Soon  companies had to have assembly lines  or risk going broke by  companies which did not  had disappeared. In Europe  much the same would happen. Most British smallcar assemblers  from Abbey to Xtra  had gone under. In Japan  car production was very limited before World War II. Mitsubishi was also partnered with Fiat and built the Mitsubishi Model A based on a Fiat vehicle. The transport sector is a major contributor to air pollution  noise pollution and climate change. Some cities ban older gasolinefuelled cars and some countries plan to ban sales in future. Production of gasoline fueled cars peaked in  . This includes hybrid vehicles  plugin electric vehicles and hydrogen vehicles. The BRIC countries are adding to this consumption. Modern cars controls are now standardized  such as the location for the accelerator and brake  but this was not always the case. Some of the original controls are no longer required. However new controls have also been added to vehicles  making them more complex. These include air conditioning  navigation systems  and in car entertainment. Cars are typically fitted with multiple types of lights. Interior lights on the ceiling of the car are usually fitted for the driver and passengers. Some vehicles also have a trunk light and  more rarely  an engine compartment light. The weight of a car influences fuel consumption and performance  with more weight resulting in increased fuel consumption and decreased performance. The SmartFortwo  a small city car  weighskg lb. Heavier cars include fullsize cars  SUVs and extendedlength SUVs like the Suburban. up to a fuel use ofkml. Most cars are designed to carry multiple occupants  often with four or five seats. Cars with five seats typically seat two passengers in the front and three in the rear. On the other hand  sports cars are most often designed with only two seats. Traffic collisions are the largest because of injuryrelated deaths worldwide. There are now standard tests for safety in new cars  such as the EuroNCAP and the US NCAP testsand insuranceindustrybacked tests by the Insurance Institute for Highway Safety IIHS. The benefits may include ondemand transportation  mobility  independence and convenience. The ability of humans to move flexibly from place to place has farreaching implications for the nature of societies. As ofupdate  the average diesel car has a worse effect on air quality than the average gasoline car  But both gasoline and diesel cars pollute more than electric cars. Inpassenger road vehicles emitted  .  gigatonnes of carbon dioxide. hybrid vehicles and the development of alternative fuels. The lifetime of a car built in the  s is expected to be about years  or aboutmillion kilometres  .  million miles if driven a lot. The increase in sales of SUVs is bad for fuel economy. Many cities in Europe  have banned older fossil fuel cars and all fossil fuel vehicles will be banned in Amsterdam from  . Animals and plants are often negatively impacted by cars via habitat destruction and pollution. Animals are also killed every year on roads by cars  referred to as roadkill. Growth in the popularity of vehicles and commuting has led to traffic congestion. Telematics technology is allowing more and more people to share cars  on a payasyougo basis  through car share and carpool schemes. Communication is also evolving due to connected car systems. The projects include OScar  Riversimple throughfires.org  and c mm n. Some car hacking through onboard diagnostics OBD has been done so far. Carshare arrangements and carpooling are also increasingly popular  in the US and Europe. For example  in the US  some carsharing services have experienced doubledigit growth in revenue and membership growth betweenand  . Inthere were million cars manufactured worldwidedownmillion from the previous year. The automotive industry in China produces by far the most million in followed by Japanmillion  Germanymillion and Indiamillion. The largest market is China  followed by the USA. The numbers of cars are increasing rapidly in China and India. The sustainable transport movement focuses on solutions to these problems. Similar programs have been developed in large US cities. These locomotive cars were often used on suburban routes by both interurban and intercity railroad systems. General Effects Mitigation\n"
          ],
          "name": "stdout"
        }
      ]
    },
    {
      "cell_type": "code",
      "metadata": {
        "colab": {
          "base_uri": "https://localhost:8080/"
        },
        "id": "IvAmeoeVzhJB",
        "outputId": "b7bef55a-d780-4e18-b4b7-dc4586a59b1e"
      },
      "source": [
        "if __name__ == '__main__':\n",
        "    main()\n"
      ],
      "execution_count": null,
      "outputs": [
        {
          "output_type": "stream",
          "text": [
            "Have you experienced this before? To be honest, I don’t have the answers. Same failure, yet different responses. Who is right and who is wrong? Have you experienced this before? It was at that point their biggest breakthrough came. It must come from within you. Where are you settling in your life right now? Could you be you playing for bigger stakes than you are? So become intentional on what you want out of life. Commit to it. Nurture your dreams. Don’t leave your dreams to chance.\n"
          ],
          "name": "stdout"
        }
      ]
    },
    {
      "cell_type": "markdown",
      "metadata": {
        "id": "sck4aqP8R3KY"
      },
      "source": [
        "#2. Text Summarization Graph Based Method - **TextRank**"
      ]
    },
    {
      "cell_type": "code",
      "metadata": {
        "id": "9zvQnSAAR7vB"
      },
      "source": [
        "from gensim.summarization.summarizer import summarize"
      ],
      "execution_count": null,
      "outputs": []
    },
    {
      "cell_type": "code",
      "metadata": {
        "id": "0jd_LIM045Gn"
      },
      "source": [
        "text = para[0]"
      ],
      "execution_count": null,
      "outputs": []
    },
    {
      "cell_type": "code",
      "metadata": {
        "colab": {
          "base_uri": "https://localhost:8080/",
          "height": 120
        },
        "id": "trCqcq9VSOWN",
        "outputId": "a0123993-1dc7-445c-88fd-ba52ff150357"
      },
      "source": [
        "# text = '''    \n",
        "#       Those Who Are Resilient Stay In The Game Longer\n",
        "#   “On the mountains of truth you can never climb in vain: either you will reach a point higher up today, or you will be training your powers so that you will be able to climb higher tomorrow.” — Friedrich Nietzsche\n",
        "#   Challenges and setbacks are not meant to defeat you, but promote you. However, I realise after many years of defeats, it can crush your spirit and it is easier to give up than risk further setbacks and disappointments. Have you experienced this before? To be honest, I don’t have the answers. I can’t tell you what the right course of action is; only you will know. However, it’s important not to be discouraged by failure when pursuing a goal or a dream, since failure itself means different things to different people. To a person with a Fixed Mindset failure is a blow to their self-esteem, yet to a person with a Growth Mindset, it’s an opportunity to improve and find new ways to overcome their obstacles. Same failure, yet different responses. Who is right and who is wrong? Neither. Each person has a different mindset that decides their outcome. Those who are resilient stay in the game longer and draw on their inner means to succeed.\n",
        "#   I’ve coached mummy and mom clients who gave up after many years toiling away at their respective goal or dream. It was at that point their biggest breakthrough came. Perhaps all those years of perseverance finally paid off. It was the 19th Century’s minister Henry Ward Beecher who once said: “One’s best success comes after their greatest disappointments.” No one knows what the future holds, so your only guide is whether you can endure repeated defeats and disappointments and still pursue your dream. Consider the advice from the American academic and psychologist Angela Duckworth who writes in Grit: The Power of Passion and Perseverance: “Many of us, it seems, quit what we start far too early and far too often. Even more than the effort a gritty person puts in on a single day, what matters is that they wake up the next day, and the next, ready to get on that treadmill and keep going.”\n",
        "#   I know one thing for certain: don’t settle for less than what you’re capable of, but strive for something bigger. Some of you reading this might identify with this message because it resonates with you on a deeper level. For others, at the end of their tether the message might be nothing more than a trivial pep talk. What I wish to convey irrespective of where you are in your journey is: NEVER settle for less. If you settle for less, you will receive less than you deserve and convince yourself you are justified to receive it.\n",
        "#   “Two people on a precipice over Yosemite Valley” by Nathan Shipps on Unsplash\n",
        "#   Develop A Powerful Vision Of What You Want\n",
        "#   “Your problem is to bridge the gap which exists between where you are now and the goal you intend to reach.” — Earl Nightingale\n",
        "#   I recall a passage my father often used growing up in 1990s: “Don’t tell me your problems unless you’ve spent weeks trying to solve them yourself.” That advice has echoed in my mind for decades and became my motivator. Don’t leave it to other people or outside circumstances to motivate you because you will be let down every time. It must come from within you. Gnaw away at your problems until you solve them or find a solution. Problems are not stop signs, they are advising you that more work is required to overcome them. Most times, problems help you gain a skill or develop the resources to succeed later. So embrace your challenges and develop the grit to push past them instead of retreat in resignation. Where are you settling in your life right now? Could you be you playing for bigger stakes than you are? Are you willing to play bigger even if it means repeated failures and setbacks? You should ask yourself these questions to decide whether you’re willing to put yourself on the line or settle for less. And that’s fine if you’re content to receive less, as long as you’re not regretful later.\n",
        "#   If you have not achieved the success you deserve and are considering giving up, will you regret it in a few years or decades from now? Only you can answer that, but you should carve out time to discover your motivation for pursuing your goals. It’s a fact, if you don’t know what you want you’ll get what life hands you and it may not be in your best interest, affirms author Larry Weidel: “Winners know that if you don’t figure out what you want, you’ll get whatever life hands you.” The key is to develop a powerful vision of what you want and hold that image in your mind. Nurture it daily and give it life by taking purposeful action towards it.\n",
        "#   Vision + desire + dedication + patience + daily action leads to astonishing success. Are you willing to commit to this way of life or jump ship at the first sign of failure? I’m amused when I read questions written by millennials on Quora who ask how they can become rich and famous or the next Elon Musk. Success is a fickle and long game with highs and lows. Similarly, there are no assurances even if you’re an overnight sensation, to sustain it for long, particularly if you don’t have the mental and emotional means to endure it. This means you must rely on the one true constant in your favour: your personal development. The more you grow, the more you gain in terms of financial resources, status, success — simple. If you leave it to outside conditions to dictate your circumstances, you are rolling the dice on your future.\n",
        "#   So become intentional on what you want out of life. Commit to it. Nurture your dreams. Focus on your development and if you want to give up, know what’s involved before you take the plunge. Because I assure you, someone out there right now is working harder than you, reading more books, sleeping less and sacrificing all they have to realise their dreams and it may contest with yours. Don’t leave your dreams to chance.\n",
        "\n",
        "#     '''\n",
        "\n",
        "summaryList = summarize(text, ratio = 0.05, split = '\\n')\n",
        "summaryList = ''.join(summaryList)\n",
        "summaryList"
      ],
      "execution_count": null,
      "outputs": [
        {
          "output_type": "execute_result",
          "data": {
            "application/vnd.google.colaboratory.intrinsic+json": {
              "type": "string"
            },
            "text/plain": [
              "\"Over the decades, additional features and controls have been added to vehicles, making them progressively more complex, but also more reliable and easier to operate.[citation needed] These include rear-reversing cameras, air conditioning, navigation systems, and in-car entertainment.The costs to the individual include acquiring the vehicle, interest payments (if the car is financed), repairs and maintenance, fuel, depreciation, driving time, parking fees, taxes, and insurance.[8] The costs to society include maintaining roads, land use, road congestion, air pollution, public health, healthcare, and disposing of the vehicle at the end of its life.The Niépces' Pyréolophore was fuelled by a mixture of Lycopodium powder (dried spores of the Lycopodium plant), finely crushed coal dust and resin that were mixed with oil, whereas de Rivaz used a mixture of hydrogen and oxygen.[27] Neither design was very successful, as was the case with others, such as Samuel Brown, Samuel Morey, and Etienne Lenoir with his hippomobile, who each produced vehicles (usually adapted carriages or carts) powered by internal combustion engines.[1]In November 1881, French inventor Gustave Trouvé demonstrated the first working (three-wheeled) car powered by electricity at the International Exposition of Electricity, Paris.[28] Although several other German engineers (including Gottlieb Daimler, Wilhelm Maybach, and Siegfried Marcus) were working on the problem at about the same time, Karl Benz generally is acknowledged as the inventor of the modern car.[1]The International Organization of Motor Vehicle Manufacturers says that, in countries that mandate low sulfur gasoline, gasoline-fuelled cars built to late 2010s standards (such as Euro-6) emit very little local air pollution.[39][40]  Some cities ban older gasoline-fuelled cars and some countries plan to ban sales in future.2.1 million light electric vehicles (of all types but mainly cars) were sold in 2018, over half in China: this was an increase of 64% on the previous year, giving a global total on the road of 5.4 million.[45]  Vehicles using alternative fuels such as ethanol flexible-fuel vehicles and natural gas vehicles[clarification needed] are also gaining popularity in some countries.[citation needed] Cars for racing or speed records have sometimes employed jet or rocket engines, but these are impractical for common use.Many governments are using fiscal policies, such as road tax, to discourage the purchase and use of more polluting cars;[67] and many cities are doing the same with low-emission zones.[68] Fuel taxes may act as an incentive for the production of more efficient, hence less polluting, car designs (e.g. hybrid vehicles) and the development of alternative fuels.The automotive industry designs, develops, manufactures, markets, and sells the world's motor vehicles, more than three-quarters of which are cars.\""
            ]
          },
          "metadata": {
            "tags": []
          },
          "execution_count": 19
        }
      ]
    },
    {
      "cell_type": "code",
      "metadata": {
        "id": "5At219j1Sd4U"
      },
      "source": [
        ""
      ],
      "execution_count": null,
      "outputs": []
    },
    {
      "cell_type": "code",
      "metadata": {
        "id": "04jL8moNTX1o"
      },
      "source": [
        ""
      ],
      "execution_count": null,
      "outputs": []
    },
    {
      "cell_type": "code",
      "metadata": {
        "id": "5YoVWEyoW08E"
      },
      "source": [
        ""
      ],
      "execution_count": null,
      "outputs": []
    },
    {
      "cell_type": "code",
      "metadata": {
        "id": "NeyzW3F9On9A"
      },
      "source": [
        "res = requests.get(\"https://en.wikipedia.org/wiki/Car\")\n",
        "wiki = bs4.BeautifulSoup(res.text, \"lxml\")\n",
        "para = [''.join([i.getText() for i in wiki.select('p')])]\n",
        "# para[0]"
      ],
      "execution_count": null,
      "outputs": []
    },
    {
      "cell_type": "code",
      "metadata": {
        "colab": {
          "base_uri": "https://localhost:8080/",
          "height": 205
        },
        "id": "6hCGviySSfIg",
        "outputId": "5cf9b287-f9b3-4d0e-df3a-0d770b13e10d"
      },
      "source": [
        "para[0]"
      ],
      "execution_count": null,
      "outputs": [
        {
          "output_type": "execute_result",
          "data": {
            "application/vnd.google.colaboratory.intrinsic+json": {
              "type": "string"
            },
            "text/plain": [
              "'\\nA car (or automobile) is a wheeled motor vehicle used for transportation. Most definitions of cars say that they run primarily on roads, seat one to eight people, have four wheels, and mainly transport people rather than goods.[2][3]\\nCars came into global use during the 20th century, and developed economies depend on them. The year 1886 is regarded as the birth year of the modern car when German inventor Karl Benz patented his Benz Patent-Motorwagen. Cars became widely available in the early 20th century. One of the first cars accessible to the masses was the 1908 Model T, an American car manufactured by the Ford Motor Company. Cars were rapidly adopted in the US, where they replaced animal-drawn carriages and carts, but took much longer to be accepted in Western Europe and other parts of the world.[citation needed]\\nCars have controls for driving, parking, passenger comfort, and a variety of lights. Over the decades, additional features and controls have been added to vehicles, making them progressively more complex, but also more reliable and easier to operate.[citation needed] These include rear-reversing cameras, air conditioning, navigation systems, and in-car entertainment. Most cars in use in the 2010s are propelled by an internal combustion engine, fueled by the combustion of fossil fuels. Electric cars, which were invented early in the history of the car, became commercially available in the 2000s and are predicted to cost less to buy than gasoline cars before 2025.[4][5] The transition from fossil fuels to electric cars features prominently in most climate change mitigation scenarios,[6] such as Project Drawdown\\'s 100 actionable solutions for climate change.[7]\\nThere are costs and benefits to car use. The costs to the individual include acquiring the vehicle, interest payments (if the car is financed), repairs and maintenance, fuel, depreciation, driving time, parking fees, taxes, and insurance.[8] The costs to society include maintaining roads, land use, road congestion, air pollution, public health, healthcare, and disposing of the vehicle at the end of its life. Traffic collisions are the largest cause of injury-related deaths worldwide.[9]\\nThe personal benefits include on-demand transportation, mobility, independence, and convenience.[10] The societal benefits include economic benefits, such as job and wealth creation from the automotive industry, transportation provision, societal well-being from leisure and travel opportunities, and revenue generation from the taxes. People\\'s ability to move flexibly from place to place has far-reaching implications for the nature of societies.[11] There are around 1 billion cars in use worldwide. The numbers are increasing rapidly, especially in China, India and other newly industrialized countries.[12]\\nThe English word car is believed to originate from Latin carrus/carrum \"wheeled vehicle\" or (via Old North French) Middle English carre \"two-wheeled cart,\" both of which in turn derive from Gaulish karros \"chariot.\"[13][14] It originally referred to any wheeled horse-drawn vehicle, such as a cart, carriage, or wagon.[15][16]\\n\"Motor car,\" attested from 1895, is the usual formal term in British English.[3] \"Autocar,\" a variant likewise attested from 1895 and literally meaning \"self-propelled car,\" is now considered archaic.[17] \"Horseless carriage\" is attested from 1895.[18]\\n\"Automobile,\" a classical compound derived from Ancient Greek autós (αὐτός) \"self\" and Latin mobilis \"movable,\" entered English from French and was first adopted by the Automobile Club of Great Britain in 1897.[19] It fell out of favour in Britain and is now used chiefly in North America,[20] where the abbreviated form \"auto\" commonly appears as an adjective in compound formations like \"auto industry\" and \"auto mechanic\".[21][22] Both forms are still used in everyday Dutch (auto/automobiel) and German (Auto/Automobil).[citation needed]\\nThe first working steam-powered vehicle was designed—and quite possibly built—by Ferdinand Verbiest, a Flemish member of a Jesuit mission in China around 1672. It was a 65-centimetre (26\\xa0in)-long scale-model toy for the Kangxi Emperor that was unable to carry a driver or a passenger.[10][23][24] It is not known with certainty if Verbiest\\'s model was successfully built or run.[24]\\nNicolas-Joseph Cugnot is widely credited with building the first full-scale, self-propelled mechanical vehicle or car in about 1769; he created a steam-powered tricycle.[25]  He also constructed two steam tractors for the French Army, one of which is preserved in the French National Conservatory of Arts and Crafts.[26] His inventions were, however, handicapped by problems with water supply and maintaining steam pressure.[26] In 1801, Richard Trevithick built and demonstrated his Puffing Devil road locomotive, believed by many to be the first demonstration of a steam-powered road vehicle. It was unable to maintain sufficient steam pressure for long periods and was of little practical use.\\nThe development of external combustion engines is detailed as part of the history of the car but often treated separately from the development of true cars.  A variety of steam-powered road vehicles were used during the first part of the 19th century, including steam cars, steam buses, phaetons, and steam rollers.  Sentiment against them led to the Locomotive Acts of 1865.\\nIn 1807, Nicéphore Niépce and his brother Claude created what was probably the world\\'s first internal combustion engine (which they called a Pyréolophore), but they chose to install it in a boat on the river Saone in France.[27] Coincidentally, in 1807 the Swiss inventor François Isaac de Rivaz designed his own \\'de Rivaz internal combustion engine\\' and used it to develop the world\\'s first vehicle to be powered by such an engine. The Niépces\\' Pyréolophore was fuelled by a mixture of Lycopodium powder (dried spores of the Lycopodium plant), finely crushed coal dust and resin that were mixed with oil, whereas de Rivaz used a mixture of hydrogen and oxygen.[27] Neither design was very successful, as was the case with others, such as Samuel Brown, Samuel Morey, and Etienne Lenoir with his hippomobile, who each produced vehicles (usually adapted carriages or carts) powered by internal combustion engines.[1]\\nIn November 1881, French inventor Gustave Trouvé demonstrated the first working (three-wheeled) car powered by electricity at the International Exposition of Electricity, Paris.[28] Although several other German engineers (including Gottlieb Daimler, Wilhelm Maybach, and Siegfried Marcus) were working on the problem at about the same time, Karl Benz generally is acknowledged as the inventor of the modern car.[1]\\nIn 1879, Benz was granted a patent for his first engine, which had been designed in 1878. Many of his other inventions made the use of the internal combustion engine feasible for powering a vehicle. His first Motorwagen was built in 1885 in Mannheim, Germany. He was awarded the patent for its invention as of his application on 29 January 1886 (under the auspices of his major company, Benz & Cie., which was founded in 1883). Benz began promotion of the vehicle on 3 July 1886, and about 25 Benz vehicles were sold between 1888 and 1893, when his first four-wheeler was introduced along with a cheaper model. They also were powered with four-stroke engines of his own design. Emile Roger of France, already producing Benz engines under license, now added the Benz car to his line of products. Because France was more open to the early cars, initially more were built and sold in France through Roger than Benz sold in Germany. In August 1888 Bertha Benz, the wife of Karl Benz, undertook the first road trip by car, to prove the road-worthiness of her husband\\'s invention.\\nIn 1896, Benz designed and patented the first internal-combustion flat engine, called boxermotor. During the last years of the nineteenth century, Benz was the largest car company in the world with 572 units produced in 1899 and, because of its size, Benz & Cie., became a joint-stock company. The first motor car in central Europe and one of the first factory-made cars in the world, was produced by Czech company Nesselsdorfer Wagenbau (later renamed to Tatra) in 1897, the Präsident automobil.\\nDaimler and Maybach founded Daimler Motoren Gesellschaft (DMG) in Cannstatt in 1890, and sold their first car in 1892 under the brand name Daimler. It was a horse-drawn stagecoach built by another manufacturer, which they retrofitted with an engine of their design. By 1895 about 30 vehicles had been built by Daimler and Maybach, either at the Daimler works or in the Hotel Hermann, where they set up shop after disputes with their backers. Benz, Maybach and the Daimler team seem to have been unaware of each other\\'s early work. They never worked together; by the time of the merger of the two companies, Daimler and Maybach were no longer part of DMG. Daimler died in 1900 and later that year, Maybach designed an engine named Daimler-Mercedes that was placed in a specially ordered model built to specifications set by Emil Jellinek. This was a production of a small number of vehicles for Jellinek to race and market in his country. Two years later, in 1902, a new model DMG car was produced and the model was named Mercedes after the Maybach engine, which generated 35\\xa0hp. Maybach quit DMG shortly thereafter and opened a business of his own. Rights to the Daimler brand name were sold to other manufacturers.\\nKarl Benz proposed co-operation between DMG and Benz & Cie. when economic conditions began to deteriorate in Germany following the First World War, but the directors of DMG refused to consider it initially. Negotiations between the two companies resumed several years later when these conditions worsened, and in 1924, they signed an Agreement of Mutual Interest, valid until the year 2000. Both enterprises standardized design, production, purchasing, and sales and they advertised or marketed their car models jointly, although keeping their respective brands. On 28 June 1926, Benz & Cie. and DMG finally merged as the Daimler-Benz company, baptizing all of its cars Mercedes Benz, as a brand honoring the most important model of the DMG cars, the Maybach design later referred to as the 1902 Mercedes-35\\xa0hp, along with the Benz name. Karl Benz remained a member of the board of directors of Daimler-Benz until his death in 1929, and at times, his two sons also participated in the management of the company.\\nIn 1890, Émile Levassor and Armand Peugeot of France began producing vehicles with Daimler engines, and so laid the foundation of the automotive industry in France. In 1891, Auguste Doriot and his Peugeot colleague Louis Rigoulot completed the longest trip by a gasoline-powered vehicle when their self-designed and built Daimler powered Peugeot Type 3 completed 2,100\\xa0km (1,300 miles) from Valentigney to Paris and Brest and back again. They were attached to the first Paris–Brest–Paris bicycle race, but finished 6 days after the winning cyclist, Charles Terront.\\nThe first design for an American car with a gasoline internal combustion engine was made in 1877 by George Selden of Rochester, New York. Selden applied for a patent for a car in 1879, but the patent application expired because the vehicle was never built. After a delay of sixteen years and a series of attachments to his application, on 5 November 1895, Selden was granted a United States patent (U.S. Patent 549,160) for a two-stroke car engine, which hindered, more than encouraged, development of cars in the United States. His patent was challenged by Henry Ford and others, and overturned in 1911.\\nIn 1893, the first running, gasoline-powered American car was built and road-tested by the Duryea brothers of Springfield, Massachusetts. The first public run of the Duryea Motor Wagon took place on 21 September 1893, on Taylor Street in Metro Center Springfield.[29][30] The Studebaker Automobile Company, subsidiary of a long-established wagon and coach manufacturer, started to build cars in 1897[31]:p.66 and commenced sales of electric vehicles in 1902 and gasoline vehicles in 1904.[32]\\nIn Britain, there had been several attempts to build steam cars with varying degrees of success, with Thomas Rickett even attempting a production run in 1860.[33] Santler from Malvern is recognized by the Veteran Car Club of Great Britain as having made the first gasoline-powered car in the country in 1894,[34] followed by Frederick William Lanchester in 1895, but these were both one-offs.[34] The first production vehicles in Great Britain came from the Daimler Company, a company founded by Harry J. Lawson in 1896, after purchasing the right to use the name of the engines. Lawson\\'s company made its first car in 1897, and they bore the name Daimler.[34]\\nIn 1892, German engineer Rudolf Diesel was granted a patent for a \"New Rational Combustion Engine\". In 1897, he built the first diesel engine.[1] Steam-, electric-, and gasoline-powered vehicles competed for decades, with gasoline internal combustion engines achieving dominance in the 1910s. Although various pistonless rotary engine designs have attempted to compete with the conventional piston and crankshaft design, only Mazda\\'s version of the Wankel engine has had more than very limited success.\\nAll in all, it is estimated that over 100,000 patents created the modern automobile and motorcycle.[35]\\nLarge-scale, production-line manufacturing of affordable cars was started by Ransom Olds in 1901 at his Oldsmobile factory in Lansing, Michigan and based upon stationary assembly line techniques pioneered by Marc Isambard Brunel at the Portsmouth Block Mills, England, in 1802. The assembly line style of mass production and interchangeable parts had been pioneered in the U.S. by Thomas Blanchard in 1821, at the Springfield Armory in Springfield, Massachusetts.[36] This concept was greatly expanded by Henry Ford, beginning in 1913 with the world\\'s first moving assembly line for cars at the Highland Park Ford Plant.\\nAs a result, Ford\\'s cars came off the line in fifteen-minute intervals, much faster than previous methods, increasing productivity eightfold, while using less manpower (from 12.5-man-hours to 1 hour 33 minutes).[37] It was so successful, paint became a bottleneck. Only Japan black would dry fast enough, forcing the company to drop the variety of colors available before 1913, until fast-drying Duco lacquer was developed in 1926. This is the source of Ford\\'s apocryphal remark, \"any color as long as it\\'s black\".[37] In 1914, an assembly line worker could buy a Model T with four months\\' pay.[37]\\nFord\\'s complex safety procedures—especially assigning each worker to a specific location instead of allowing them to roam about—dramatically reduced the rate of injury.[citation needed] The combination of high wages and high efficiency is called \"Fordism,\" and was copied by most major industries. The efficiency gains from the assembly line also coincided with the economic rise of the United States. The assembly line forced workers to work at a certain pace with very repetitive motions which led to more output per worker while other countries were using less productive methods.\\nIn the automotive industry, its success was dominating, and quickly spread worldwide seeing the founding of Ford France and Ford Britain in 1911, Ford Denmark 1923, Ford Germany 1925; in 1921, Citroen was the first native European manufacturer to adopt the production method. Soon, companies had to have assembly lines, or risk going broke; by 1930, 250 companies which did not, had disappeared.[37]\\nDevelopment of automotive technology was rapid, due in part to the hundreds of small manufacturers competing to gain the world\\'s attention. Key developments included electric ignition and the electric self-starter (both by Charles Kettering, for the Cadillac Motor Company in 1910–1911), independent suspension, and four-wheel brakes.\\nSince the 1920s, nearly all cars have been mass-produced to meet market needs, so marketing plans often have heavily influenced car design. It was Alfred P. Sloan who established the idea of different makes of cars produced by one company, called the General Motors Companion Make Program, so that buyers could \"move up\" as their fortunes improved.\\nReflecting the rapid pace of change, makes shared parts with one another so larger production volume resulted in lower costs for each price range. For example, in the 1930s, LaSalles, sold by Cadillac, used cheaper mechanical parts made by Oldsmobile; in the 1950s, Chevrolet shared hood, doors, roof, and windows with Pontiac; by the 1990s, corporate powertrains and shared platforms (with interchangeable brakes, suspension, and other parts) were common. Even so, only major makers could afford high costs, and even companies with decades of production, such as Apperson, Cole, Dorris, Haynes, or Premier, could not manage: of some two hundred American car makers in existence in 1920, only 43 survived in 1930, and with the Great Depression, by 1940, only 17 of those were left.[37]\\nIn Europe, much the same would happen. Morris set up its production line at Cowley in 1924, and soon outsold Ford, while beginning in 1923 to follow Ford\\'s practice of vertical integration, buying Hotchkiss (engines), Wrigley (gearboxes), and Osberton (radiators), for instance, as well as competitors, such as Wolseley: in 1925, Morris had 41% of total British car production. Most British small-car assemblers, from Abbey to Xtra, had gone under. Citroen did the same in France, coming to cars in 1919; between them and other cheap cars in reply such as Renault\\'s 10CV and Peugeot\\'s 5CV, they produced 550,000 cars in 1925, and Mors, Hurtu, and others could not compete.[37] Germany\\'s first mass-manufactured car, the Opel 4PS Laubfrosch (Tree Frog), came off the line at Russelsheim in 1924, soon making Opel the top car builder in Germany, with 37.5% of the market.[37]\\nIn Japan, car production was very limited before World War II. Only a handful of companies were producing vehicles in limited numbers, and these were small, three-wheeled for commercial uses, like Daihatsu, or were the result of partnering with European companies, like Isuzu building the Wolseley A-9 in 1922. Mitsubishi was also partnered with Fiat and built the Mitsubishi Model A based on a Fiat vehicle. Toyota, Nissan, Suzuki, Mazda, and Honda began as companies producing non-automotive products before the war, switching to car production during the 1950s. Kiichiro Toyoda\\'s decision to take Toyoda Loom Works into automobile manufacturing would create what would eventually become Toyota Motor Corporation, the largest automobile manufacturer in the world. Subaru, meanwhile, was formed from a conglomerate of six companies who banded together as Fuji Heavy Industries, as a result of having been broken up under keiretsu legislation.\\nThe transport sector is a major contributor to air pollution, noise pollution and climate change.[38]\\nMost cars in use in the 2010s run on gasoline burnt in an internal combustion engine (ICE). The International Organization of Motor Vehicle Manufacturers says that, in countries that mandate low sulfur gasoline, gasoline-fuelled cars built to late 2010s standards (such as Euro-6) emit very little local air pollution.[39][40]  Some cities ban older gasoline-fuelled cars and some countries plan to ban sales in future. However some environmental groups say this phase-out of fossil fuel vehicles must be brought forward to limit climate change. Production of gasoline fueled cars peaked in 2017.[41][42]\\nOther hydrocarbon fossil fuels also burnt by deflagration (rather than detonation) in ICE cars include diesel, Autogas and CNG. Removal of fossil fuel subsidies,[43][44] concerns about oil dependence, tightening environmental laws and restrictions on greenhouse gas emissions are propelling work on alternative power systems for cars. This includes hybrid vehicles, plug-in electric vehicles and hydrogen vehicles. 2.1 million light electric vehicles (of all types but mainly cars) were sold in 2018, over half in China: this was an increase of 64% on the previous year, giving a global total on the road of 5.4 million.[45]  Vehicles using alternative fuels such as ethanol flexible-fuel vehicles and natural gas vehicles[clarification needed] are also gaining popularity in some countries.[citation needed] Cars for racing or speed records have sometimes employed jet or rocket engines, but these are impractical for common use.\\nOil consumption has increased rapidly in the 20th and 21st centuries because there are more cars; the 1985–2003 oil glut even fuelled the sales of low-economy vehicles in OECD countries. The BRIC countries are adding to this consumption.\\nCars are equipped with controls used for driving, passenger comfort, and safety, normally operated by a combination of the use of feet and hands, and occasionally by voice on 21st-century cars. These controls include a steering wheel, pedals for operating the brakes and controlling the car\\'s speed (and, in a manual transmission car, a clutch pedal), a shift lever or stick for changing gears, and a number of buttons and dials for turning on lights, ventilation, and other functions. Modern cars\\' controls are now standardized, such as the location for the accelerator and brake, but this was not always the case. Controls are evolving in response to new technologies, for example, the electric car and the integration of mobile communications.\\nSome of the original controls are no longer required. For example, all cars once had controls for the choke valve, clutch, ignition timing, and a crank instead of an electric starter. However new controls have also been added to vehicles, making them more complex. These include air conditioning, navigation systems, and in car entertainment. Another trend is the replacement of physical knobs and switches by secondary controls with touchscreen controls such as BMW\\'s iDrive and Ford\\'s MyFord Touch. Another change is that while early cars\\' pedals were physically linked to the brake mechanism and throttle, in the 2010s, cars have increasingly replaced these physical linkages with electronic controls.\\nCars are typically fitted with multiple types of lights. These include headlights, which are used to illuminate the way ahead and make the car visible to other users, so that the vehicle can be used at night; in some jurisdictions, daytime running lights; red brake lights to indicate when the brakes are applied; amber turn signal lights to indicate the turn intentions of the driver; white-colored reverse lights to illuminate the area behind the car (and indicate that the driver will be or is reversing); and on some vehicles, additional lights (e.g., side marker lights) to increase the visibility of the car. Interior lights on the ceiling of the car are usually fitted for the driver and passengers. Some vehicles also have a trunk light and, more rarely, an engine compartment light.\\nDuring the late 20th and early 21st century cars increased in weight due to batteries,[47] modern steel safety cages, anti-lock brakes, airbags, and \"more-powerful—if more-efficient—engines\"[48] and, as of 2019[update], typically weigh between 1 and 3 tonnes.[49] Heavier cars are safer for the driver from a crash perspective, but more dangerous for other vehicles and road users.[48] The weight of a car influences fuel consumption and performance, with more weight resulting in increased fuel consumption and decreased performance. The SmartFortwo, a small city car, weighs 750–795\\xa0kg (1,655–1,755\\xa0lb). Heavier cars include full-size cars, SUVs and extended-length SUVs like the Suburban.\\nAccording to research conducted by Julian Allwood of the University of Cambridge, global energy use could be greatly reduced by using lighter cars, and an average weight of 500\\xa0kg (1,100\\xa0lb) has been said to be well achievable.[50][better\\xa0source\\xa0needed] In some competitions such as the Shell Eco Marathon, average car weights of 45\\xa0kg (99\\xa0lb) have also been achieved.[51] These cars are only single-seaters (still falling within the definition of a car, although 4-seater cars are more common), but they nevertheless demonstrate the amount by which car weights could still be reduced, and the subsequent lower fuel use (i.e. up to a fuel use of 2560\\xa0km/l).[52]\\nMost cars are designed to carry multiple occupants, often with four or five seats. Cars with five seats typically seat two passengers in the front and three in the rear. Full-size cars and large sport utility vehicles can often carry six, seven, or more occupants depending on the arrangement of the seats. On the other hand, sports cars are most often designed with only two seats. The differing needs for passenger capacity and their luggage or cargo space has resulted in the availability of a large variety of body styles to meet individual consumer requirements that include, among others, the sedan/saloon, hatchback, station wagon/estate, and minivan.\\nTraffic collisions are the largest cause of injury-related deaths worldwide.[9] Mary Ward became one of the first documented car fatalities in 1869 in Parsonstown, Ireland,[53] and Henry Bliss one of the United States\\' first pedestrian car casualties in 1899 in New York City.[54]\\nThere are now standard tests for safety in new cars, such as the EuroNCAP and the US NCAP tests,[55] and insurance-industry-backed tests by the Insurance Institute for Highway Safety (IIHS).[56]\\nThe costs of car usage, which may include the cost of: acquiring the vehicle, repairs and auto maintenance, fuel, depreciation, driving time, parking fees, taxes, and insurance,[8] are weighed against the cost of the alternatives, and the value of the benefits\\xa0– perceived and real\\xa0– of vehicle usage. The benefits may include on-demand transportation, mobility, independence and convenience.[10] During the 1920s, cars had another benefit: \"[c]ouples finally had a way to head off on unchaperoned dates, plus they had a private space to snuggle up close at the end of the night.\"[58]\\nSimilarly the costs to society of car use may include; maintaining roads, land use, air pollution, road congestion, public health, health care, and of disposing of the vehicle at the end of its life; and can be balanced against the value of the benefits to society that car use generates. Societal benefits may include: economy benefits, such as job and wealth creation, of car production and maintenance, transportation provision, society wellbeing derived from leisure and travel opportunities, and revenue generation from the tax opportunities. The ability of humans to move flexibly from place to place has far-reaching implications for the nature of societies.[11]\\nCars are a major cause of urban air pollution,[59] with all types of cars producing dust from brakes, tyres and road wear.[60]  As of 2018[update] the average diesel car has a worse effect on air quality than the average gasoline car[61] But both gasoline and diesel cars pollute more than electric cars.[62] While there are different ways to power cars most rely on gasoline or diesel, and they consume almost a quarter of world oil production as of 2019[update].[41] In 2018 passenger road vehicles emitted 3.6 gigatonnes of carbon dioxide.[63] As of 2019[update], due to greenhouse gases emitted during battery production, electric cars must be driven tens of thousands of kilometers before their lifecycle carbon emissions are less than fossil fuel cars:[64] but this is expected to improve in future due to longer lasting[65] batteries being produced in larger factories,[66] and lower carbon electricity. Many governments are using fiscal policies, such as road tax, to discourage the purchase and use of more polluting cars;[67] and many cities are doing the same with low-emission zones.[68] Fuel taxes may act as an incentive for the production of more efficient, hence less polluting, car designs (e.g. hybrid vehicles) and the development of alternative fuels. High fuel taxes or cultural change may provide a strong incentive for consumers to purchase lighter, smaller, more fuel-efficient cars, or to not drive.[68]\\nThe lifetime of a car built in the 2020s is expected to be about 16 years, or about 2 million kilometres (1.2 million miles) if driven a lot.[69] According to the International Energy Agency fuel economy improved 0.7% in 2017, but an annual improvement of 3.7% is needed to meet the Global Fuel Economy Initiative 2030 target.[70] The increase in sales of SUVs is bad for fuel economy.[41] Many cities in Europe, have banned older fossil fuel cars and all fossil fuel vehicles will be banned in Amsterdam from 2030.[71] Many Chinese cities limit licensing of fossil fuel cars,[72] and many countries plan to stop selling them between 2025 and 2050.[73]\\nThe manufacture of vehicles is resource intensive, and many manufacturers now report on the environmental performance of their factories, including energy usage, waste and water consumption.[74] Manufacturing each kWh of battery emits a similar amount of carbon as burning through one full tank of gasoline.[75] The growth in popularity of the car allowed cities to sprawl, therefore encouraging more travel by car resulting in inactivity and obesity, which in turn can lead to increased risk of a variety of diseases.[76]\\nAnimals and plants are often negatively impacted by cars via habitat destruction and pollution. Over the lifetime of the average car the \"loss of habitat potential\" may be over 50,000\\xa0m2 (540,000\\xa0sq\\xa0ft) based on primary production correlations.[77] Animals are also killed every year on roads by cars, referred to as roadkill. More recent road developments are including significant environmental mitigation in their designs, such as green bridges (designed to allow wildlife crossings) and creating wildlife corridors.\\nGrowth in the popularity of vehicles and commuting has led to traffic congestion. Moscow, Istanbul, Bogota, Mexico City and Sao Paulo were the world\\'s most congested cities in 2018 according to INRIX, a data analytics company.[78]\\nAlthough intensive development of  conventional battery electric vehicles is continuing into the 2020s,[79] other car propulsion technologies that are under development include wheel hub motors,[80] wireless charging,[81] hydrogen cars,[82] and hydrogen/electric hybrids.[83] Research into alternative forms of power includes using ammonia instead of hydrogen in fuel cells.[84]\\nNew materials[85] which may replace steel car bodies include duralumin, fiberglass, carbon fiber, biocomposites, and carbon nanotubes. Telematics technology is allowing more and more people to share cars, on a pay-as-you-go basis, through car share and carpool schemes. Communication is also evolving due to connected car systems.[86]\\nFully autonomous vehicles, also known as driverless cars, already exist in prototype (such as the Google driverless car), but have a long way to go before they are in general use.\\nThere have been several projects aiming to develop a car on the principles of open design, an approach to designing in which the plans for the machinery and systems are publicly shared, often without monetary compensation. The projects include OScar, Riversimple (through 40fires.org)[87] and c,mm,n.[88] None of the projects have reached significant success in terms of developing a car as a whole both from hardware and software perspective and no mass production ready open-source based design have been introduced as of late 2009. Some car hacking through on-board diagnostics (OBD) has been done so far.[89]\\nCar-share arrangements and carpooling are also increasingly popular, in the US and Europe.[90] For example, in the US, some car-sharing services have experienced double-digit growth in revenue and membership growth between 2006 and 2007. Services like car sharing offering a residents to \"share\" a vehicle rather than own a car in already congested neighborhoods.[91]\\nThe automotive industry designs, develops, manufactures, markets, and sells the world\\'s motor vehicles, more than three-quarters of which are cars. In 2018 there were 70 million cars manufactured worldwide,[92] down 2 million from the previous year.[93]\\nThe automotive industry in China produces by far the most (24 million in 2018), followed by Japan (8 million), Germany (5 million) and India (4 million).[92] The largest market is China, followed by the USA.\\nAround the world there are about a billion cars on the road;[94] they burn over a trillion liters of gasoline and diesel fuel yearly, consuming about 50 EJ (nearly 300 terawatt-hours) of energy.[95] The numbers of cars are increasing rapidly in China and India.[12] In the opinion of some, urban transport systems based around the car have proved unsustainable, consuming excessive energy, affecting the health of populations, and delivering a declining level of service despite increasing investment. Many of these negative impacts fall disproportionately on those social groups who are also least likely to own and drive cars.[96][97] The sustainable transport movement focuses on solutions to these problems. The car industry is also facing increasing competition from the public transport sector, as some people re-evaluate their private vehicle usage.\\nEstablished alternatives for some aspects of car use include public transport such as buses, trolleybuses, trains, subways, tramways, light rail, cycling, and walking. Bicycle sharing systems have been established in China and many European cities, including Copenhagen and Amsterdam. Similar programs have been developed in large US cities.[99][100] Additional individual modes of transport, such as personal rapid transit could serve as an alternative to cars if they prove to be socially accepted.[101]\\nThe term motorcar was formerly also used in the context of electrified rail systems to denote a car which functions as a small locomotive but also provides space for passengers and baggage.  These locomotive cars were often used on suburban routes by both interurban and intercity railroad systems.[102]\\nGeneral:\\n\\nEffects:\\n\\nMitigation:\\n\\n'"
            ]
          },
          "metadata": {
            "tags": []
          },
          "execution_count": 28
        }
      ]
    },
    {
      "cell_type": "code",
      "metadata": {
        "colab": {
          "base_uri": "https://localhost:8080/"
        },
        "id": "Y9tI7bAStdt3",
        "outputId": "3cd232cd-1cf1-4aa1-afc2-30c22704640a"
      },
      "source": [
        "summaryList = summarize(para[0], ratio = 0.05, split = '\\n')\n",
        "\n",
        "print('\\n'.join(summaryList))\n"
      ],
      "execution_count": null,
      "outputs": [
        {
          "output_type": "stream",
          "text": [
            "Over the decades, additional features and controls have been added to vehicles, making them progressively more complex, but also more reliable and easier to operate.[citation needed] These include rear-reversing cameras, air conditioning, navigation systems, and in-car entertainment.\n",
            "The costs to the individual include acquiring the vehicle, interest payments (if the car is financed), repairs and maintenance, fuel, depreciation, driving time, parking fees, taxes, and insurance.[8] The costs to society include maintaining roads, land use, road congestion, air pollution, public health, healthcare, and disposing of the vehicle at the end of its life.\n",
            "The Niépces' Pyréolophore was fuelled by a mixture of Lycopodium powder (dried spores of the Lycopodium plant), finely crushed coal dust and resin that were mixed with oil, whereas de Rivaz used a mixture of hydrogen and oxygen.[27] Neither design was very successful, as was the case with others, such as Samuel Brown, Samuel Morey, and Etienne Lenoir with his hippomobile, who each produced vehicles (usually adapted carriages or carts) powered by internal combustion engines.[1]\n",
            "In November 1881, French inventor Gustave Trouvé demonstrated the first working (three-wheeled) car powered by electricity at the International Exposition of Electricity, Paris.[28] Although several other German engineers (including Gottlieb Daimler, Wilhelm Maybach, and Siegfried Marcus) were working on the problem at about the same time, Karl Benz generally is acknowledged as the inventor of the modern car.[1]\n",
            "The International Organization of Motor Vehicle Manufacturers says that, in countries that mandate low sulfur gasoline, gasoline-fuelled cars built to late 2010s standards (such as Euro-6) emit very little local air pollution.[39][40]  Some cities ban older gasoline-fuelled cars and some countries plan to ban sales in future.\n",
            "2.1 million light electric vehicles (of all types but mainly cars) were sold in 2018, over half in China: this was an increase of 64% on the previous year, giving a global total on the road of 5.4 million.[45]  Vehicles using alternative fuels such as ethanol flexible-fuel vehicles and natural gas vehicles[clarification needed] are also gaining popularity in some countries.[citation needed] Cars for racing or speed records have sometimes employed jet or rocket engines, but these are impractical for common use.\n",
            "Many governments are using fiscal policies, such as road tax, to discourage the purchase and use of more polluting cars;[67] and many cities are doing the same with low-emission zones.[68] Fuel taxes may act as an incentive for the production of more efficient, hence less polluting, car designs (e.g. hybrid vehicles) and the development of alternative fuels.\n",
            "The automotive industry designs, develops, manufactures, markets, and sells the world's motor vehicles, more than three-quarters of which are cars.\n"
          ],
          "name": "stdout"
        }
      ]
    },
    {
      "cell_type": "markdown",
      "metadata": {
        "id": "1N2DZ7WNTzDv"
      },
      "source": [
        "#3. Abstractive Text Summarization"
      ]
    },
    {
      "cell_type": "code",
      "metadata": {
        "id": "oX-BnLHUT3yu",
        "colab": {
          "base_uri": "https://localhost:8080/"
        },
        "outputId": "21a6ee6b-dbaf-49ae-ae10-45b72998f81c"
      },
      "source": [
        "!pip install bert-extractive-summarizer"
      ],
      "execution_count": null,
      "outputs": [
        {
          "output_type": "stream",
          "text": [
            "Collecting bert-extractive-summarizer\n",
            "  Downloading https://files.pythonhosted.org/packages/1a/07/fdb05f9e18b6f641499ef56737126fbd2fafe1cdc1a04ba069d5aa205901/bert_extractive_summarizer-0.7.1-py3-none-any.whl\n",
            "Requirement already satisfied: spacy in /usr/local/lib/python3.7/dist-packages (from bert-extractive-summarizer) (2.2.4)\n",
            "Collecting transformers\n",
            "\u001b[?25l  Downloading https://files.pythonhosted.org/packages/d8/b2/57495b5309f09fa501866e225c84532d1fd89536ea62406b2181933fb418/transformers-4.5.1-py3-none-any.whl (2.1MB)\n",
            "\u001b[K     |████████████████████████████████| 2.1MB 32.1MB/s \n",
            "\u001b[?25hRequirement already satisfied: scikit-learn in /usr/local/lib/python3.7/dist-packages (from bert-extractive-summarizer) (0.22.2.post1)\n",
            "Requirement already satisfied: preshed<3.1.0,>=3.0.2 in /usr/local/lib/python3.7/dist-packages (from spacy->bert-extractive-summarizer) (3.0.5)\n",
            "Requirement already satisfied: catalogue<1.1.0,>=0.0.7 in /usr/local/lib/python3.7/dist-packages (from spacy->bert-extractive-summarizer) (1.0.0)\n",
            "Requirement already satisfied: cymem<2.1.0,>=2.0.2 in /usr/local/lib/python3.7/dist-packages (from spacy->bert-extractive-summarizer) (2.0.5)\n",
            "Requirement already satisfied: setuptools in /usr/local/lib/python3.7/dist-packages (from spacy->bert-extractive-summarizer) (56.1.0)\n",
            "Requirement already satisfied: plac<1.2.0,>=0.9.6 in /usr/local/lib/python3.7/dist-packages (from spacy->bert-extractive-summarizer) (1.1.3)\n",
            "Requirement already satisfied: thinc==7.4.0 in /usr/local/lib/python3.7/dist-packages (from spacy->bert-extractive-summarizer) (7.4.0)\n",
            "Requirement already satisfied: murmurhash<1.1.0,>=0.28.0 in /usr/local/lib/python3.7/dist-packages (from spacy->bert-extractive-summarizer) (1.0.5)\n",
            "Requirement already satisfied: blis<0.5.0,>=0.4.0 in /usr/local/lib/python3.7/dist-packages (from spacy->bert-extractive-summarizer) (0.4.1)\n",
            "Requirement already satisfied: requests<3.0.0,>=2.13.0 in /usr/local/lib/python3.7/dist-packages (from spacy->bert-extractive-summarizer) (2.23.0)\n",
            "Requirement already satisfied: wasabi<1.1.0,>=0.4.0 in /usr/local/lib/python3.7/dist-packages (from spacy->bert-extractive-summarizer) (0.8.2)\n",
            "Requirement already satisfied: tqdm<5.0.0,>=4.38.0 in /usr/local/lib/python3.7/dist-packages (from spacy->bert-extractive-summarizer) (4.41.1)\n",
            "Requirement already satisfied: numpy>=1.15.0 in /usr/local/lib/python3.7/dist-packages (from spacy->bert-extractive-summarizer) (1.19.5)\n",
            "Requirement already satisfied: srsly<1.1.0,>=1.0.2 in /usr/local/lib/python3.7/dist-packages (from spacy->bert-extractive-summarizer) (1.0.5)\n",
            "Collecting tokenizers<0.11,>=0.10.1\n",
            "\u001b[?25l  Downloading https://files.pythonhosted.org/packages/ae/04/5b870f26a858552025a62f1649c20d29d2672c02ff3c3fb4c688ca46467a/tokenizers-0.10.2-cp37-cp37m-manylinux2010_x86_64.whl (3.3MB)\n",
            "\u001b[K     |████████████████████████████████| 3.3MB 45.0MB/s \n",
            "\u001b[?25hRequirement already satisfied: importlib-metadata; python_version < \"3.8\" in /usr/local/lib/python3.7/dist-packages (from transformers->bert-extractive-summarizer) (3.10.1)\n",
            "Collecting sacremoses\n",
            "\u001b[?25l  Downloading https://files.pythonhosted.org/packages/75/ee/67241dc87f266093c533a2d4d3d69438e57d7a90abb216fa076e7d475d4a/sacremoses-0.0.45-py3-none-any.whl (895kB)\n",
            "\u001b[K     |████████████████████████████████| 901kB 34.1MB/s \n",
            "\u001b[?25hRequirement already satisfied: packaging in /usr/local/lib/python3.7/dist-packages (from transformers->bert-extractive-summarizer) (20.9)\n",
            "Requirement already satisfied: filelock in /usr/local/lib/python3.7/dist-packages (from transformers->bert-extractive-summarizer) (3.0.12)\n",
            "Requirement already satisfied: regex!=2019.12.17 in /usr/local/lib/python3.7/dist-packages (from transformers->bert-extractive-summarizer) (2019.12.20)\n",
            "Requirement already satisfied: joblib>=0.11 in /usr/local/lib/python3.7/dist-packages (from scikit-learn->bert-extractive-summarizer) (1.0.1)\n",
            "Requirement already satisfied: scipy>=0.17.0 in /usr/local/lib/python3.7/dist-packages (from scikit-learn->bert-extractive-summarizer) (1.4.1)\n",
            "Requirement already satisfied: urllib3!=1.25.0,!=1.25.1,<1.26,>=1.21.1 in /usr/local/lib/python3.7/dist-packages (from requests<3.0.0,>=2.13.0->spacy->bert-extractive-summarizer) (1.24.3)\n",
            "Requirement already satisfied: idna<3,>=2.5 in /usr/local/lib/python3.7/dist-packages (from requests<3.0.0,>=2.13.0->spacy->bert-extractive-summarizer) (2.10)\n",
            "Requirement already satisfied: certifi>=2017.4.17 in /usr/local/lib/python3.7/dist-packages (from requests<3.0.0,>=2.13.0->spacy->bert-extractive-summarizer) (2020.12.5)\n",
            "Requirement already satisfied: chardet<4,>=3.0.2 in /usr/local/lib/python3.7/dist-packages (from requests<3.0.0,>=2.13.0->spacy->bert-extractive-summarizer) (3.0.4)\n",
            "Requirement already satisfied: typing-extensions>=3.6.4; python_version < \"3.8\" in /usr/local/lib/python3.7/dist-packages (from importlib-metadata; python_version < \"3.8\"->transformers->bert-extractive-summarizer) (3.7.4.3)\n",
            "Requirement already satisfied: zipp>=0.5 in /usr/local/lib/python3.7/dist-packages (from importlib-metadata; python_version < \"3.8\"->transformers->bert-extractive-summarizer) (3.4.1)\n",
            "Requirement already satisfied: click in /usr/local/lib/python3.7/dist-packages (from sacremoses->transformers->bert-extractive-summarizer) (7.1.2)\n",
            "Requirement already satisfied: six in /usr/local/lib/python3.7/dist-packages (from sacremoses->transformers->bert-extractive-summarizer) (1.15.0)\n",
            "Requirement already satisfied: pyparsing>=2.0.2 in /usr/local/lib/python3.7/dist-packages (from packaging->transformers->bert-extractive-summarizer) (2.4.7)\n",
            "Installing collected packages: tokenizers, sacremoses, transformers, bert-extractive-summarizer\n",
            "Successfully installed bert-extractive-summarizer-0.7.1 sacremoses-0.0.45 tokenizers-0.10.2 transformers-4.5.1\n"
          ],
          "name": "stdout"
        }
      ]
    },
    {
      "cell_type": "code",
      "metadata": {
        "id": "ROvOuCdX_m98",
        "colab": {
          "base_uri": "https://localhost:8080/"
        },
        "outputId": "af7f9b2a-9d6b-40ba-e20f-04ca0a726d50"
      },
      "source": [
        "!pip install transformers==2.2.0"
      ],
      "execution_count": null,
      "outputs": [
        {
          "output_type": "stream",
          "text": [
            "Collecting transformers==2.2.0\n",
            "\u001b[?25l  Downloading https://files.pythonhosted.org/packages/ec/e7/0a1babead1b79afabb654fbec0a052e0d833ba4205a6dfd98b1aeda9c82e/transformers-2.2.0-py3-none-any.whl (360kB)\n",
            "\r\u001b[K     |█                               | 10kB 15.2MB/s eta 0:00:01\r\u001b[K     |█▉                              | 20kB 21.7MB/s eta 0:00:01\r\u001b[K     |██▊                             | 30kB 26.5MB/s eta 0:00:01\r\u001b[K     |███▋                            | 40kB 30.3MB/s eta 0:00:01\r\u001b[K     |████▌                           | 51kB 27.7MB/s eta 0:00:01\r\u001b[K     |█████▌                          | 61kB 29.2MB/s eta 0:00:01\r\u001b[K     |██████▍                         | 71kB 26.8MB/s eta 0:00:01\r\u001b[K     |███████▎                        | 81kB 22.4MB/s eta 0:00:01\r\u001b[K     |████████▏                       | 92kB 23.6MB/s eta 0:00:01\r\u001b[K     |█████████                       | 102kB 23.6MB/s eta 0:00:01\r\u001b[K     |██████████                      | 112kB 23.6MB/s eta 0:00:01\r\u001b[K     |███████████                     | 122kB 23.6MB/s eta 0:00:01\r\u001b[K     |███████████▉                    | 133kB 23.6MB/s eta 0:00:01\r\u001b[K     |████████████▊                   | 143kB 23.6MB/s eta 0:00:01\r\u001b[K     |█████████████▋                  | 153kB 23.6MB/s eta 0:00:01\r\u001b[K     |██████████████▌                 | 163kB 23.6MB/s eta 0:00:01\r\u001b[K     |███████████████▌                | 174kB 23.6MB/s eta 0:00:01\r\u001b[K     |████████████████▍               | 184kB 23.6MB/s eta 0:00:01\r\u001b[K     |█████████████████▎              | 194kB 23.6MB/s eta 0:00:01\r\u001b[K     |██████████████████▏             | 204kB 23.6MB/s eta 0:00:01\r\u001b[K     |███████████████████             | 215kB 23.6MB/s eta 0:00:01\r\u001b[K     |████████████████████            | 225kB 23.6MB/s eta 0:00:01\r\u001b[K     |█████████████████████           | 235kB 23.6MB/s eta 0:00:01\r\u001b[K     |█████████████████████▉          | 245kB 23.6MB/s eta 0:00:01\r\u001b[K     |██████████████████████▊         | 256kB 23.6MB/s eta 0:00:01\r\u001b[K     |███████████████████████▋        | 266kB 23.6MB/s eta 0:00:01\r\u001b[K     |████████████████████████▌       | 276kB 23.6MB/s eta 0:00:01\r\u001b[K     |█████████████████████████▍      | 286kB 23.6MB/s eta 0:00:01\r\u001b[K     |██████████████████████████▍     | 296kB 23.6MB/s eta 0:00:01\r\u001b[K     |███████████████████████████▎    | 307kB 23.6MB/s eta 0:00:01\r\u001b[K     |████████████████████████████▏   | 317kB 23.6MB/s eta 0:00:01\r\u001b[K     |█████████████████████████████   | 327kB 23.6MB/s eta 0:00:01\r\u001b[K     |██████████████████████████████  | 337kB 23.6MB/s eta 0:00:01\r\u001b[K     |███████████████████████████████ | 348kB 23.6MB/s eta 0:00:01\r\u001b[K     |███████████████████████████████▉| 358kB 23.6MB/s eta 0:00:01\r\u001b[K     |████████████████████████████████| 368kB 23.6MB/s \n",
            "\u001b[?25hRequirement already satisfied: sacremoses in /usr/local/lib/python3.7/dist-packages (from transformers==2.2.0) (0.0.45)\n",
            "Collecting boto3\n",
            "\u001b[?25l  Downloading https://files.pythonhosted.org/packages/11/2d/804332ee1eaf36c8be737e9c44da2f2aa449339c220a96b9a15ae7f61443/boto3-1.17.69-py2.py3-none-any.whl (131kB)\n",
            "\u001b[K     |████████████████████████████████| 133kB 52.4MB/s \n",
            "\u001b[?25hCollecting sentencepiece\n",
            "\u001b[?25l  Downloading https://files.pythonhosted.org/packages/f5/99/e0808cb947ba10f575839c43e8fafc9cc44e4a7a2c8f79c60db48220a577/sentencepiece-0.1.95-cp37-cp37m-manylinux2014_x86_64.whl (1.2MB)\n",
            "\u001b[K     |████████████████████████████████| 1.2MB 35.3MB/s \n",
            "\u001b[?25hRequirement already satisfied: requests in /usr/local/lib/python3.7/dist-packages (from transformers==2.2.0) (2.23.0)\n",
            "Requirement already satisfied: regex in /usr/local/lib/python3.7/dist-packages (from transformers==2.2.0) (2019.12.20)\n",
            "Requirement already satisfied: tqdm in /usr/local/lib/python3.7/dist-packages (from transformers==2.2.0) (4.41.1)\n",
            "Requirement already satisfied: numpy in /usr/local/lib/python3.7/dist-packages (from transformers==2.2.0) (1.19.5)\n",
            "Requirement already satisfied: six in /usr/local/lib/python3.7/dist-packages (from sacremoses->transformers==2.2.0) (1.15.0)\n",
            "Requirement already satisfied: joblib in /usr/local/lib/python3.7/dist-packages (from sacremoses->transformers==2.2.0) (1.0.1)\n",
            "Requirement already satisfied: click in /usr/local/lib/python3.7/dist-packages (from sacremoses->transformers==2.2.0) (7.1.2)\n",
            "Collecting jmespath<1.0.0,>=0.7.1\n",
            "  Downloading https://files.pythonhosted.org/packages/07/cb/5f001272b6faeb23c1c9e0acc04d48eaaf5c862c17709d20e3469c6e0139/jmespath-0.10.0-py2.py3-none-any.whl\n",
            "Collecting botocore<1.21.0,>=1.20.69\n",
            "\u001b[?25l  Downloading https://files.pythonhosted.org/packages/10/bb/06710dce8770adf852785785df7e15fc1363596b712766898b1c529e358e/botocore-1.20.69-py2.py3-none-any.whl (7.5MB)\n",
            "\u001b[K     |████████████████████████████████| 7.5MB 37.4MB/s \n",
            "\u001b[?25hCollecting s3transfer<0.5.0,>=0.4.0\n",
            "\u001b[?25l  Downloading https://files.pythonhosted.org/packages/63/d0/693477c688348654ddc21dcdce0817653a294aa43f41771084c25e7ff9c7/s3transfer-0.4.2-py2.py3-none-any.whl (79kB)\n",
            "\u001b[K     |████████████████████████████████| 81kB 7.4MB/s \n",
            "\u001b[?25hRequirement already satisfied: urllib3!=1.25.0,!=1.25.1,<1.26,>=1.21.1 in /usr/local/lib/python3.7/dist-packages (from requests->transformers==2.2.0) (1.24.3)\n",
            "Requirement already satisfied: chardet<4,>=3.0.2 in /usr/local/lib/python3.7/dist-packages (from requests->transformers==2.2.0) (3.0.4)\n",
            "Requirement already satisfied: idna<3,>=2.5 in /usr/local/lib/python3.7/dist-packages (from requests->transformers==2.2.0) (2.10)\n",
            "Requirement already satisfied: certifi>=2017.4.17 in /usr/local/lib/python3.7/dist-packages (from requests->transformers==2.2.0) (2020.12.5)\n",
            "Requirement already satisfied: python-dateutil<3.0.0,>=2.1 in /usr/local/lib/python3.7/dist-packages (from botocore<1.21.0,>=1.20.69->boto3->transformers==2.2.0) (2.8.1)\n",
            "\u001b[31mERROR: botocore 1.20.69 has requirement urllib3<1.27,>=1.25.4, but you'll have urllib3 1.24.3 which is incompatible.\u001b[0m\n",
            "Installing collected packages: jmespath, botocore, s3transfer, boto3, sentencepiece, transformers\n",
            "  Found existing installation: transformers 4.5.1\n",
            "    Uninstalling transformers-4.5.1:\n",
            "      Successfully uninstalled transformers-4.5.1\n",
            "Successfully installed boto3-1.17.69 botocore-1.20.69 jmespath-0.10.0 s3transfer-0.4.2 sentencepiece-0.1.95 transformers-2.2.0\n"
          ],
          "name": "stdout"
        }
      ]
    },
    {
      "cell_type": "code",
      "metadata": {
        "id": "AHIBdqE0_vQ_"
      },
      "source": [
        ""
      ],
      "execution_count": null,
      "outputs": []
    },
    {
      "cell_type": "code",
      "metadata": {
        "id": "6qMM0bVACPD2",
        "colab": {
          "base_uri": "https://localhost:8080/"
        },
        "outputId": "58000881-ef83-4358-b628-7ad542b9342e"
      },
      "source": [
        "!pip uninstall thinc\n",
        "!pip uninstall cymem\n",
        "!pip install spacy"
      ],
      "execution_count": null,
      "outputs": [
        {
          "output_type": "stream",
          "text": [
            "Uninstalling thinc-7.4.0:\n",
            "  Would remove:\n",
            "    /usr/local/lib/python3.7/dist-packages/thinc-7.4.0.dist-info/*\n",
            "    /usr/local/lib/python3.7/dist-packages/thinc/*\n",
            "Proceed (y/n)? y\n",
            "  Successfully uninstalled thinc-7.4.0\n",
            "Uninstalling cymem-2.0.5:\n",
            "  Would remove:\n",
            "    /usr/local/lib/python3.7/dist-packages/cymem-2.0.5.dist-info/*\n",
            "    /usr/local/lib/python3.7/dist-packages/cymem/*\n",
            "Proceed (y/n)? y\n",
            "  Successfully uninstalled cymem-2.0.5\n",
            "Requirement already satisfied: spacy in /usr/local/lib/python3.7/dist-packages (2.2.4)\n",
            "Requirement already satisfied: wasabi<1.1.0,>=0.4.0 in /usr/local/lib/python3.7/dist-packages (from spacy) (0.8.2)\n",
            "Requirement already satisfied: preshed<3.1.0,>=3.0.2 in /usr/local/lib/python3.7/dist-packages (from spacy) (3.0.5)\n",
            "Requirement already satisfied: plac<1.2.0,>=0.9.6 in /usr/local/lib/python3.7/dist-packages (from spacy) (1.1.3)\n",
            "Requirement already satisfied: blis<0.5.0,>=0.4.0 in /usr/local/lib/python3.7/dist-packages (from spacy) (0.4.1)\n",
            "Requirement already satisfied: setuptools in /usr/local/lib/python3.7/dist-packages (from spacy) (56.1.0)\n",
            "Collecting cymem<2.1.0,>=2.0.2\n",
            "  Downloading https://files.pythonhosted.org/packages/b6/34/40547e057c1b31080c1d78f6accf9f1ed6ee46e3fc7ebd8599197915ef89/cymem-2.0.5-cp37-cp37m-manylinux2014_x86_64.whl\n",
            "Requirement already satisfied: tqdm<5.0.0,>=4.38.0 in /usr/local/lib/python3.7/dist-packages (from spacy) (4.41.1)\n",
            "Requirement already satisfied: srsly<1.1.0,>=1.0.2 in /usr/local/lib/python3.7/dist-packages (from spacy) (1.0.5)\n",
            "Requirement already satisfied: murmurhash<1.1.0,>=0.28.0 in /usr/local/lib/python3.7/dist-packages (from spacy) (1.0.5)\n",
            "Requirement already satisfied: requests<3.0.0,>=2.13.0 in /usr/local/lib/python3.7/dist-packages (from spacy) (2.23.0)\n",
            "Requirement already satisfied: numpy>=1.15.0 in /usr/local/lib/python3.7/dist-packages (from spacy) (1.19.5)\n",
            "Requirement already satisfied: catalogue<1.1.0,>=0.0.7 in /usr/local/lib/python3.7/dist-packages (from spacy) (1.0.0)\n",
            "Collecting thinc==7.4.0\n",
            "\u001b[?25l  Downloading https://files.pythonhosted.org/packages/86/23/2061ed61a37e2385647542eb2be12e7da1fe0cf5c82d154971e5bbafa4ca/thinc-7.4.0-cp37-cp37m-manylinux1_x86_64.whl (2.2MB)\n",
            "\u001b[K     |████████████████████████████████| 2.2MB 20.4MB/s \n",
            "\u001b[?25hRequirement already satisfied: idna<3,>=2.5 in /usr/local/lib/python3.7/dist-packages (from requests<3.0.0,>=2.13.0->spacy) (2.10)\n",
            "Requirement already satisfied: certifi>=2017.4.17 in /usr/local/lib/python3.7/dist-packages (from requests<3.0.0,>=2.13.0->spacy) (2020.12.5)\n",
            "Requirement already satisfied: chardet<4,>=3.0.2 in /usr/local/lib/python3.7/dist-packages (from requests<3.0.0,>=2.13.0->spacy) (3.0.4)\n",
            "Requirement already satisfied: urllib3!=1.25.0,!=1.25.1,<1.26,>=1.21.1 in /usr/local/lib/python3.7/dist-packages (from requests<3.0.0,>=2.13.0->spacy) (1.24.3)\n",
            "Requirement already satisfied: importlib-metadata>=0.20; python_version < \"3.8\" in /usr/local/lib/python3.7/dist-packages (from catalogue<1.1.0,>=0.0.7->spacy) (3.10.1)\n",
            "Requirement already satisfied: typing-extensions>=3.6.4; python_version < \"3.8\" in /usr/local/lib/python3.7/dist-packages (from importlib-metadata>=0.20; python_version < \"3.8\"->catalogue<1.1.0,>=0.0.7->spacy) (3.7.4.3)\n",
            "Requirement already satisfied: zipp>=0.5 in /usr/local/lib/python3.7/dist-packages (from importlib-metadata>=0.20; python_version < \"3.8\"->catalogue<1.1.0,>=0.0.7->spacy) (3.4.1)\n",
            "Installing collected packages: cymem, thinc\n",
            "Successfully installed cymem-2.0.5 thinc-7.4.0\n"
          ],
          "name": "stdout"
        }
      ]
    },
    {
      "cell_type": "code",
      "metadata": {
        "id": "8ijLIIUk_22f"
      },
      "source": [
        "from summarizer import Summarizer,TransformerSummarizer\n",
        "import transformers\n",
        "from transformers import XLMWithLMHeadModel, XLMTokenizer"
      ],
      "execution_count": null,
      "outputs": []
    },
    {
      "cell_type": "code",
      "metadata": {
        "id": "D3jujHT9_-q3"
      },
      "source": [
        "text = '''    \n",
        "      Those Who Are Resilient Stay In The Game Longer\n",
        "  “On the mountains of truth you can never climb in vain: either you will reach a point higher up today, or you will be training your powers so that you will be able to climb higher tomorrow.” — Friedrich Nietzsche\n",
        "  Challenges and setbacks are not meant to defeat you, but promote you. However, I realise after many years of defeats, it can crush your spirit and it is easier to give up than risk further setbacks and disappointments. Have you experienced this before? To be honest, I don’t have the answers. I can’t tell you what the right course of action is; only you will know. However, it’s important not to be discouraged by failure when pursuing a goal or a dream, since failure itself means different things to different people. To a person with a Fixed Mindset failure is a blow to their self-esteem, yet to a person with a Growth Mindset, it’s an opportunity to improve and find new ways to overcome their obstacles. Same failure, yet different responses. Who is right and who is wrong? Neither. Each person has a different mindset that decides their outcome. Those who are resilient stay in the game longer and draw on their inner means to succeed.\n",
        "  I’ve coached mummy and mom clients who gave up after many years toiling away at their respective goal or dream. It was at that point their biggest breakthrough came. Perhaps all those years of perseverance finally paid off. It was the 19th Century’s minister Henry Ward Beecher who once said: “One’s best success comes after their greatest disappointments.” No one knows what the future holds, so your only guide is whether you can endure repeated defeats and disappointments and still pursue your dream. Consider the advice from the American academic and psychologist Angela Duckworth who writes in Grit: The Power of Passion and Perseverance: “Many of us, it seems, quit what we start far too early and far too often. Even more than the effort a gritty person puts in on a single day, what matters is that they wake up the next day, and the next, ready to get on that treadmill and keep going.”\n",
        "  I know one thing for certain: don’t settle for less than what you’re capable of, but strive for something bigger. Some of you reading this might identify with this message because it resonates with you on a deeper level. For others, at the end of their tether the message might be nothing more than a trivial pep talk. What I wish to convey irrespective of where you are in your journey is: NEVER settle for less. If you settle for less, you will receive less than you deserve and convince yourself you are justified to receive it.\n",
        "  “Two people on a precipice over Yosemite Valley” by Nathan Shipps on Unsplash\n",
        "  Develop A Powerful Vision Of What You Want\n",
        "  “Your problem is to bridge the gap which exists between where you are now and the goal you intend to reach.” — Earl Nightingale\n",
        "  I recall a passage my father often used growing up in 1990s: “Don’t tell me your problems unless you’ve spent weeks trying to solve them yourself.” That advice has echoed in my mind for decades and became my motivator. Don’t leave it to other people or outside circumstances to motivate you because you will be let down every time. It must come from within you. Gnaw away at your problems until you solve them or find a solution. Problems are not stop signs, they are advising you that more work is required to overcome them. Most times, problems help you gain a skill or develop the resources to succeed later. So embrace your challenges and develop the grit to push past them instead of retreat in resignation. Where are you settling in your life right now? Could you be you playing for bigger stakes than you are? Are you willing to play bigger even if it means repeated failures and setbacks? You should ask yourself these questions to decide whether you’re willing to put yourself on the line or settle for less. And that’s fine if you’re content to receive less, as long as you’re not regretful later.\n",
        "  If you have not achieved the success you deserve and are considering giving up, will you regret it in a few years or decades from now? Only you can answer that, but you should carve out time to discover your motivation for pursuing your goals. It’s a fact, if you don’t know what you want you’ll get what life hands you and it may not be in your best interest, affirms author Larry Weidel: “Winners know that if you don’t figure out what you want, you’ll get whatever life hands you.” The key is to develop a powerful vision of what you want and hold that image in your mind. Nurture it daily and give it life by taking purposeful action towards it.\n",
        "  Vision + desire + dedication + patience + daily action leads to astonishing success. Are you willing to commit to this way of life or jump ship at the first sign of failure? I’m amused when I read questions written by millennials on Quora who ask how they can become rich and famous or the next Elon Musk. Success is a fickle and long game with highs and lows. Similarly, there are no assurances even if you’re an overnight sensation, to sustain it for long, particularly if you don’t have the mental and emotional means to endure it. This means you must rely on the one true constant in your favour: your personal development. The more you grow, the more you gain in terms of financial resources, status, success — simple. If you leave it to outside conditions to dictate your circumstances, you are rolling the dice on your future.\n",
        "  So become intentional on what you want out of life. Commit to it. Nurture your dreams. Focus on your development and if you want to give up, know what’s involved before you take the plunge. Because I assure you, someone out there right now is working harder than you, reading more books, sleeping less and sacrificing all they have to realise their dreams and it may contest with yours. Don’t leave your dreams to chance.\n",
        "\n",
        "    '''"
      ],
      "execution_count": null,
      "outputs": []
    },
    {
      "cell_type": "markdown",
      "metadata": {
        "id": "f2wbJQVzkoCh"
      },
      "source": [
        "### XLNet"
      ]
    },
    {
      "cell_type": "code",
      "metadata": {
        "id": "LnwWkLaVu7LD"
      },
      "source": [
        "text = clean(para[0])"
      ],
      "execution_count": null,
      "outputs": []
    },
    {
      "cell_type": "code",
      "metadata": {
        "id": "TjumKF88C8nM",
        "colab": {
          "base_uri": "https://localhost:8080/",
          "height": 170
        },
        "outputId": "dd4eb43c-f33e-4381-c34e-a9bac3955c29"
      },
      "source": [
        "XLNet_model = TransformerSummarizer(transformer_type=\"XLNet\",transformer_model_key=\"xlnet-base-cased\") #XLNet Model\n",
        "def XLNet_fun(XLNet_model,text):\n",
        "  full_text = ''.join(XLNet_model(text, min_length=60))\n",
        "  return full_text\n",
        "sum_XLNet = XLNet_fun(XLNet_model,text)\n",
        "sum_XLNet"
      ],
      "execution_count": null,
      "outputs": [
        {
          "output_type": "stream",
          "text": [
            "100%|██████████| 760/760 [00:00<00:00, 222323.27B/s]\n",
            "100%|██████████| 467042463/467042463 [00:10<00:00, 46582081.04B/s]\n",
            "100%|██████████| 798011/798011 [00:00<00:00, 22047233.34B/s]\n"
          ],
          "name": "stderr"
        },
        {
          "output_type": "execute_result",
          "data": {
            "application/vnd.google.colaboratory.intrinsic+json": {
              "type": "string"
            },
            "text/plain": [
              "'A car or automobile is a wheeled motor vehicle used for transportation. Cars came into global use during the 20th century and developed economies depend on them. The transition from fossil fuels to electric cars features prominently in most climate change mitigation scenarios such as Project Drawdowns 100 actionable solutions for climate change. Traffic collisions are the largest because of injuryrelated deaths worldwide. The personal benefits include ondemand transportation mobility independence and convenience. The societal benefits include economic benefits such as job and wealth creation from the automotive industry transportation provision societal wellbeing from leisure and travel opportunities and revenue generation from the taxes. The numbers are increasing rapidly especially in China India and other newly industrialized countries. citation needed  The first working steampowered vehicle was designed and quite possibly built by Ferdinand Verbiest a Flemish member of a Jesuit mission in China around 1672. It was unable to maintain sufficient steam pressure for long periods and was of little practical use. A variety of steampowered road vehicles were used during the first part of the 19th century including steam cars steam buses phaetons and steam rollers. In 1807 Nic phore Ni pce and his brother Claude created what was probably the worlds first internal combustion engine which they called a Pyr olophore but they chose to install it in a boat on the river Saone in France. Many of his other inventions made the use of the internal combustion engine feasible for powering a vehicle. He was awarded the patent for its invention as of his application on 29 January 1886 under the auspices of his major company Benz Cie. In 1896 Benz designed and patented the first internalcombustion flat engine called boxermotor. The first motor car in central Europe and one of the first factorymade cars in the world was produced by Czech company Nesselsdorfer Wagenbau later renamed to Tatra in 1897 the Pr sident automobil. Daimler died in 1900 and later that year Maybach designed an engine named DaimlerMercedes that was placed in a specially ordered model built to specifications set by Emil Jellinek. This was a production of a small number of vehicles for Jellinek to race and market in his country. Both enterprises standardized design production purchasing and sales and they advertised or marketed their car models jointly although keeping their respective brands. In 1890  mile Levassor and Armand Peugeot of France began producing vehicles with Daimler engines and so laid the foundation of the automotive industry in France. Steam electric and gasolinepowered vehicles competed for decades with gasoline internal combustion engines achieving dominance in the 1910s. This is the source of Fords apocryphal remark any color as long as it is black. Soon companies had to have assembly lines or risk going broke by 1930 250 companies which did not had disappeared. Since the 1920s nearly all cars have been massproduced to meet market needs so marketing plans often have heavily influenced car design. It was Alfred P. Sloan who established the idea of different makes of cars produced by one company called the General Motors Companion Make Program so that buyers could move up as their fortunes improved. Morris set up its production line at Cowley in 1924 and soon outsold Ford while beginning in 1923 to follow Fords practice of vertical integration buying Hotchkiss engines Wrigley gearboxes and Osberton radiators for instance as well as competitors such as Wolseley in 1925 Morris had 41 of total British car production. Most British smallcar assemblers from Abbey to Xtra had gone under. The transport sector is a major contributor to air pollution noise pollution and climate change. Most cars in use in the 2010s run on gasoline burnt in an internal combustion engine ICE. citation needed  Cars for racing or speed records have sometimes employed jet or rocket engines but these are impractical for common use. These include air conditioning navigation systems and in car entertainment. Another trend is the replacement of physical knobs and switches by secondary controls with touchscreen controls such as BMWs iDrive and Fords MyFord Touch. Interior lights on the ceiling of the car are usually fitted for the driver and passengers. These cars are only singleseaters still falling within the definition of a car although 4seater cars are more common but they nevertheless demonstrate the amount by which car weights could still be reduced and the subsequent lower fuel use i.e. up to a fuel use of 2560 kml. On the other hand sports cars are most often designed with only two seats. The differing needs for passenger capacity and their luggage or cargo space has resulted in the availability of a large variety of body styles to meet individual consumer requirements that include among others the sedansaloon hatchback station wagonestate and minivan. The costs of car usage which may include the cost of acquiring the vehicle repairs and auto maintenance fuel depreciation driving time parking fees taxes and insurance are weighed against the cost of the alternatives and the value of the benefits   perceived and real   of vehicle usage. During the 1920s cars had another benefit  c ouples finally had a way to head off on unchaperoned dates plus they had a private space to snuggle up close at the end of the night. Fuel taxes may act as an incentive for the production of more efficient hence less polluting car designs e.g. hybrid vehicles and the development of alternative fuels. Many cities in Europe have banned older fossil fuel cars and all fossil fuel vehicles will be banned in Amsterdam from 2030. In 2018 there were 70 million cars manufactured worldwide down 2 million from the previous year. Around the world there are about a billion cars on the road they burn over a trillion liters of gasoline and diesel fuel yearly consuming about 50 EJ nearly 300 terawatthours of energy. In the opinion of some urban transport systems based around the car have proved unsustainable consuming excessive energy affecting the health of populations and delivering a declining level of service despite increasing investment. The term motorcar was formerly also used in the context of electrified rail systems to denote a car which functions as a small locomotive but also provides space for passengers and baggage.'"
            ]
          },
          "metadata": {
            "tags": []
          },
          "execution_count": 32
        }
      ]
    },
    {
      "cell_type": "code",
      "metadata": {
        "id": "xpYgo0OMzfAw"
      },
      "source": [
        "para[0]"
      ],
      "execution_count": null,
      "outputs": []
    },
    {
      "cell_type": "code",
      "metadata": {
        "id": "M5J5NLdKzZ1m"
      },
      "source": [
        "text"
      ],
      "execution_count": null,
      "outputs": []
    },
    {
      "cell_type": "code",
      "metadata": {
        "id": "Ag1GenywvfV1"
      },
      "source": [
        "def XLNet_fun(XLNet_model,text):\n",
        "  full_text = ''.join(XLNet_model(text, min_length=60,max_length=150))\n",
        "  return full_text\n",
        "sum_XLNet = XLNet_fun(XLNet_model,text)\n",
        "sum_XLNet"
      ],
      "execution_count": null,
      "outputs": []
    },
    {
      "cell_type": "markdown",
      "metadata": {
        "id": "yk6RHsRQDh0e"
      },
      "source": [
        "### BERT "
      ]
    },
    {
      "cell_type": "code",
      "metadata": {
        "id": "Ml7mT4ozCw1X",
        "colab": {
          "base_uri": "https://localhost:8080/",
          "height": 170
        },
        "outputId": "5fbf0e07-5a8c-4d09-a5ad-c57f52bb03f9"
      },
      "source": [
        "Bert_model = Summarizer()\n",
        "def bert_fun(Bert_model,text):\n",
        "  bert_summary = ''.join(Bert_model(text, min_length=60))\n",
        "  return bert_summary\n",
        "sum_bert = bert_fun(Bert_model,text)\n",
        "sum_bert"
      ],
      "execution_count": null,
      "outputs": [
        {
          "output_type": "stream",
          "text": [
            "100%|██████████| 434/434 [00:00<00:00, 105160.48B/s]\n",
            "100%|██████████| 1344997306/1344997306 [00:28<00:00, 46820046.36B/s]\n",
            "100%|██████████| 231508/231508 [00:00<00:00, 19432346.66B/s]\n"
          ],
          "name": "stderr"
        },
        {
          "output_type": "execute_result",
          "data": {
            "application/vnd.google.colaboratory.intrinsic+json": {
              "type": "string"
            },
            "text/plain": [
              "'A car or automobile is a wheeled motor vehicle used for transportation. Cars came into global use during the 20th century and developed economies depend on them. citation needed  These include rearreversing cameras air conditioning navigation systems and incar entertainment. The costs to the individual include acquiring the vehicle interest payments if the car is financed repairs and maintenance fuel depreciation driving time parking fees taxes and insurance. Traffic collisions are the largest because of injuryrelated deaths worldwide. The personal benefits include ondemand transportation mobility independence and convenience. The societal benefits include economic benefits such as job and wealth creation from the automotive industry transportation provision societal wellbeing from leisure and travel opportunities and revenue generation from the taxes. It originally referred to any wheeled horsedrawn vehicle such as a cart carriage or wagon. Autocar a variant likewise attested from 1895 and literally meaning selfpropelled car is now considered archaic. Both forms are still used in everyday Dutch autoautomobiel and German AutoAutomobil. It was a 65centimetre 26 inlong scalemodel toy for the Kangxi Emperor that was unable to carry a driver or a passenger. He also constructed two steam tractors for the French Army one of which is preserved in the French National Conservatory of Arts and Crafts. His inventions were however handicapped by problems with water supply and maintaining steam pressure. Many of his other inventions made the use of the internal combustion engine feasible for powering a vehicle. By 1895 about 30 vehicles had been built by Daimler and Maybach either at the Daimler works or in the Hotel Hermann where they set up shop after disputes with their backers. Rights to the Daimler brand name were sold to other manufacturers. and DMG finally merged as the DaimlerBenz company baptizing all of its cars Mercedes Benz as a brand honoring the most important model of the DMG cars the Maybach design later referred to as the 1902 Mercedes35 hp along with the Benz name. In 1890  mile Levassor and Armand Peugeot of France began producing vehicles with Daimler engines and so laid the foundation of the automotive industry in France. S. Patent 549160 for a twostroke car engine which hindered more than encouraged development of cars in the United States. In 1892 German engineer Rudolf Diesel was granted a patent for a New Rational Combustion Engine. The efficiency gains from the assembly line also coincided with the economic rise of the United States. In the automotive industry its success was dominating and quickly spread worldwide seeing the founding of Ford France and Ford Britain in 1911 Ford Denmark 1923 Ford Germany 1925 in 1921 Citroen was the first native European manufacturer to adopt the production method. Reflecting the rapid pace of change makes shared parts with one another so larger production volume resulted in lower costs for each price range. Toyota Nissan Suzuki Mazda and Honda began as companies producing nonautomotive products before the war switching to car production during the 1950s. The transport sector is a major contributor to air pollution noise pollution and climate change. However some environmental groups say this phaseout of fossil fuel vehicles must be brought forward to limit climate change. 2.1 million light electric vehicles of all types but mainly cars were sold in 2018 over half in China this was an increase of 64 on the previous year giving a global total on the road of 5.4 million. These controls include a steering wheel pedals for operating the brakes and controlling the cars speed and in a manual transmission car a clutch pedal a shift lever or stick for changing gears and a number of buttons and dials for turning on lights ventilation and other functions. However new controls have also been added to vehicles making them more complex. Interior lights on the ceiling of the car are usually fitted for the driver and passengers. During the late 20th and early 21st century cars increased in weight due to batteries modern steel safety cages antilock brakes airbags and morepowerful if moreefficient engines and as of 2019 update  typically weigh between 1 and 3 tonnes. Heavier cars are safer for the driver from a crash perspective but more dangerous for other vehicles and road users. The SmartFortwo a small city car weighs 750 795 kg 1655 1755 lb. Most cars are designed to carry multiple occupants often with four or five seats. Cars are a major because of urban air pollution with all types of cars producing dust from brakes tyres and road wear. In 2018 passenger road vehicles emitted 3.6 gigatonnes of carbon dioxide. Many governments are using fiscal policies such as road tax to discourage the purchase and use of more polluting cars and many cities are doing the same with lowemission zones. Animals and plants are often negatively impacted by cars via habitat destruction and pollution. Animals are also killed every year on roads by cars referred to as roadkill. Moscow Istanbul Bogota Mexico City and Sao Paulo were the worlds most congested cities in 2018 according to INRIX a data analytics company. The projects include OScar Riversimple through 40fires.org and cmmn. In the opinion of some urban transport systems based around the car have proved unsustainable consuming excessive energy affecting the health of populations and delivering a declining level of service despite increasing investment. Many of these negative impacts fall disproportionately on those social groups who are also least likely to own and drive cars.'"
            ]
          },
          "metadata": {
            "tags": []
          },
          "execution_count": 34
        }
      ]
    },
    {
      "cell_type": "code",
      "metadata": {
        "id": "gYEOMzZewTLm"
      },
      "source": [
        "def bert_fun(Bert_model,text):\n",
        "  bert_summary = ''.join(Bert_model(text, min_length=60,max_length=300))\n",
        "  return bert_summary\n",
        "sum_bert = bert_fun(Bert_model,text)\n",
        "sum_bert"
      ],
      "execution_count": null,
      "outputs": []
    },
    {
      "cell_type": "markdown",
      "metadata": {
        "id": "j3bkpryfkqH3"
      },
      "source": [
        "### GPT - 2"
      ]
    },
    {
      "cell_type": "code",
      "metadata": {
        "id": "bx1chnRU97I3"
      },
      "source": [
        "def gpt2(gpt2Model, textAfterPreprocessing):\n",
        "  summary = (gpt2Model(textAfterPreprocessing, min_length=60))\n",
        "  print(summary)\n",
        "  return summary"
      ],
      "execution_count": null,
      "outputs": []
    },
    {
      "cell_type": "code",
      "metadata": {
        "id": "Po1ZH7CRoK3E",
        "colab": {
          "base_uri": "https://localhost:8080/"
        },
        "outputId": "a18366c0-1773-4f1e-f7a1-bf2edad46f3b"
      },
      "source": [
        "def gpt2(gpt2Model, textAfterPreprocessing):\n",
        "  summary = (gpt2Model(textAfterPreprocessing, min_length=60))\n",
        "  print(summary)\n",
        "  return summary\n",
        "\n",
        "#Keep me global \n",
        "gpt2Model = TransformerSummarizer(transformer_type = 'GPT2', transformer_model_key = 'gpt2-medium')\n",
        "\n",
        "sum_gpt2 = gpt2(gpt2Model, text)\n",
        "sum_gpt2\n",
        "print(sum_gpt2)"
      ],
      "execution_count": null,
      "outputs": [
        {
          "output_type": "stream",
          "text": [
            "100%|██████████| 718/718 [00:00<00:00, 144340.02B/s]\n",
            "100%|██████████| 1520013706/1520013706 [00:38<00:00, 39300957.32B/s]\n",
            "100%|██████████| 1042301/1042301 [00:00<00:00, 40413097.67B/s]\n",
            "100%|██████████| 456318/456318 [00:00<00:00, 22133853.11B/s]\n"
          ],
          "name": "stderr"
        },
        {
          "output_type": "stream",
          "text": [
            "A car or automobile is a wheeled motor vehicle used for transportation. citation needed  Cars have controls for driving parking passenger comfort and a variety of lights. Electric cars which were invented early in the history of the car became commercially available in the 2000s and are predicted to cost less to buy than gasoline cars before 2025. The transition from fossil fuels to electric cars features prominently in most climate change mitigation scenarios such as Project Drawdowns 100 actionable solutions for climate change. Traffic collisions are the largest because of injuryrelated deaths worldwide. The personal benefits include ondemand transportation mobility independence and convenience. The societal benefits include economic benefits such as job and wealth creation from the automotive industry transportation provision societal wellbeing from leisure and travel opportunities and revenue generation from the taxes. Peoples ability to move flexibly from place to place has farreaching implications for the nature of societies. The numbers are increasing rapidly especially in China India and other newly industrialized countries. Autocar a variant likewise attested from 1895 and literally meaning selfpropelled car is now considered archaic. Automobile a classical compound derived from Ancient Greek aut s       self and Latin mobilis movable entered English from French and was first adopted by the Automobile Club of Great Britain in 1897. Coincidentally in 1807 the Swiss inventor Fran ois Isaac de Rivaz designed his own de Rivaz internal combustion engine and used it to develop the worlds first vehicle to be powered by such an engine. They also were powered with fourstroke engines of his own design. The first design for an American car with a gasoline internal combustion engine was made in 1877 by George Selden of Rochester New York. Selden applied for a patent for a car in 1879 but the patent application expired because the vehicle was never built. The first public run of the Duryea Motor Wagon took place on 21 September 1893 on Taylor Street in Metro Center Springfield. Santler from Malvern is recognized by the Veteran Car Club of Great Britain as having made the first gasolinepowered car in the country in 1894 followed by Frederick William Lanchester in 1895 but these were both oneoffs. Largescale productionline manufacturing of affordable cars was started by Ransom Olds in 1901 at his Oldsmobile factory in Lansing Michigan and based upon stationary assembly line techniques pioneered by Marc Isambard Brunel at the Portsmouth Block Mills England in 1802. The assembly line style of mass production and interchangeable parts had been pioneered in the you. Reflecting the rapid pace of change makes shared parts with one another so larger production volume resulted in lower costs for each price range. Germanys first massmanufactured car the Opel 4PS Laubfrosch Tree Frog came off the line at Russelsheim in 1924 soon making Opel the top car builder in Germany with 37.5 of the market. Only a handful of companies were producing vehicles in limited numbers and these were small threewheeled for commercial uses like Daihatsu or were the result of partnering with European companies like Isuzu building the Wolseley A9 in 1922. The transport sector is a major contributor to air pollution noise pollution and climate change. Most cars in use in the 2010s run on gasoline burnt in an internal combustion engine ICE. This includes hybrid vehicles plugin electric vehicles and hydrogen vehicles. 2.1 million light electric vehicles of all types but mainly cars were sold in 2018 over half in China this was an increase of 64 on the previous year giving a global total on the road of 5.4 million. Another change is that while early cars pedals were physically linked to the brake mechanism and throttle in the 2010s cars have increasingly replaced these physical linkages with electronic controls. These include headlights which are used to illuminate the way ahead and make the car visible to other users so that the vehicle can be used at night in some jurisdictions daytime running lights red brake lights to indicate when the brakes are applied amber turn signal lights to indicate the turn intentions of the driver whitecolored reverse lights to illuminate the area behind the car and indicate that the driver will be or is reversing and on some vehicles additional lights e.g. side marker lights to increase the visibility of the car. Some vehicles also have a trunk light and more rarely an engine compartment light. Heavier cars include fullsize cars SUVs and extendedlength SUVs like the Suburban. Most cars are designed to carry multiple occupants often with four or five seats. The costs of car usage which may include the cost of acquiring the vehicle repairs and auto maintenance fuel depreciation driving time parking fees taxes and insurance are weighed against the cost of the alternatives and the value of the benefits   perceived and real   of vehicle usage. Cars are a major because of urban air pollution with all types of cars producing dust from brakes tyres and road wear. While there are different ways to power cars most rely on gasoline or diesel and they consume almost a quarter of world oil production as of 2019 update . In 2018 passenger road vehicles emitted 3.6 gigatonnes of carbon dioxide. Many Chinese cities limit licensing of fossil fuel cars and many countries plan to stop selling them between 2025 and 2050. The manufacture of vehicles is resource intensive and many manufacturers now report on the environmental performance of their factories including energy usage waste and water consumption. Animals and plants are often negatively impacted by cars via habitat destruction and pollution. Over the lifetime of the average car the loss of habitat potential may be over 50000 m2 540000 sq ft based on primary production correlations. Growth in the popularity of vehicles and commuting has led to traffic congestion. New materials which may replace steel car bodies include duralumin fiberglass carbon fiber biocomposites and carbon nanotubes. Telematics technology is allowing more and more people to share cars on a payasyougo basis through car share and carpool schemes. In the opinion of some urban transport systems based around the car have proved unsustainable consuming excessive energy affecting the health of populations and delivering a declining level of service despite increasing investment.\n",
            "None\n"
          ],
          "name": "stdout"
        }
      ]
    },
    {
      "cell_type": "code",
      "metadata": {
        "id": "eahsHnjT9xNI"
      },
      "source": [
        "text"
      ],
      "execution_count": null,
      "outputs": []
    },
    {
      "cell_type": "code",
      "metadata": {
        "colab": {
          "base_uri": "https://localhost:8080/",
          "height": 274
        },
        "id": "R5UAA0Fm9dAk",
        "outputId": "d8dd1279-8767-435b-bf3c-c676672f6d78"
      },
      "source": [
        "sum_gpt2 = gpt2(gpt2Model, text)\n",
        "sum_gpt2"
      ],
      "execution_count": null,
      "outputs": [
        {
          "output_type": "stream",
          "text": [
            "A car or automobile is a wheeled motor vehicle used for transportation. citation needed  Cars have controls for driving parking passenger comfort and a variety of lights. Electric cars which were invented early in the history of the car became commercially available in the 2000s and are predicted to cost less to buy than gasoline cars before 2025. The transition from fossil fuels to electric cars features prominently in most climate change mitigation scenarios such as Project Drawdowns 100 actionable solutions for climate change. Traffic collisions are the largest because of injuryrelated deaths worldwide. The personal benefits include ondemand transportation mobility independence and convenience. The societal benefits include economic benefits such as job and wealth creation from the automotive industry transportation provision societal wellbeing from leisure and travel opportunities and revenue generation from the taxes. Peoples ability to move flexibly from place to place has farreaching implications for the nature of societies. The numbers are increasing rapidly especially in China India and other newly industrialized countries. Autocar a variant likewise attested from 1895 and literally meaning selfpropelled car is now considered archaic. Automobile a classical compound derived from Ancient Greek aut s       self and Latin mobilis movable entered English from French and was first adopted by the Automobile Club of Great Britain in 1897. Coincidentally in 1807 the Swiss inventor Fran ois Isaac de Rivaz designed his own de Rivaz internal combustion engine and used it to develop the worlds first vehicle to be powered by such an engine. They also were powered with fourstroke engines of his own design. The first design for an American car with a gasoline internal combustion engine was made in 1877 by George Selden of Rochester New York. Selden applied for a patent for a car in 1879 but the patent application expired because the vehicle was never built. The first public run of the Duryea Motor Wagon took place on 21 September 1893 on Taylor Street in Metro Center Springfield. Santler from Malvern is recognized by the Veteran Car Club of Great Britain as having made the first gasolinepowered car in the country in 1894 followed by Frederick William Lanchester in 1895 but these were both oneoffs. Largescale productionline manufacturing of affordable cars was started by Ransom Olds in 1901 at his Oldsmobile factory in Lansing Michigan and based upon stationary assembly line techniques pioneered by Marc Isambard Brunel at the Portsmouth Block Mills England in 1802. The assembly line style of mass production and interchangeable parts had been pioneered in the you. Reflecting the rapid pace of change makes shared parts with one another so larger production volume resulted in lower costs for each price range. Germanys first massmanufactured car the Opel 4PS Laubfrosch Tree Frog came off the line at Russelsheim in 1924 soon making Opel the top car builder in Germany with 37.5 of the market. Only a handful of companies were producing vehicles in limited numbers and these were small threewheeled for commercial uses like Daihatsu or were the result of partnering with European companies like Isuzu building the Wolseley A9 in 1922. The transport sector is a major contributor to air pollution noise pollution and climate change. Most cars in use in the 2010s run on gasoline burnt in an internal combustion engine ICE. This includes hybrid vehicles plugin electric vehicles and hydrogen vehicles. 2.1 million light electric vehicles of all types but mainly cars were sold in 2018 over half in China this was an increase of 64 on the previous year giving a global total on the road of 5.4 million. Another change is that while early cars pedals were physically linked to the brake mechanism and throttle in the 2010s cars have increasingly replaced these physical linkages with electronic controls. These include headlights which are used to illuminate the way ahead and make the car visible to other users so that the vehicle can be used at night in some jurisdictions daytime running lights red brake lights to indicate when the brakes are applied amber turn signal lights to indicate the turn intentions of the driver whitecolored reverse lights to illuminate the area behind the car and indicate that the driver will be or is reversing and on some vehicles additional lights e.g. side marker lights to increase the visibility of the car. Some vehicles also have a trunk light and more rarely an engine compartment light. Heavier cars include fullsize cars SUVs and extendedlength SUVs like the Suburban. Most cars are designed to carry multiple occupants often with four or five seats. The costs of car usage which may include the cost of acquiring the vehicle repairs and auto maintenance fuel depreciation driving time parking fees taxes and insurance are weighed against the cost of the alternatives and the value of the benefits   perceived and real   of vehicle usage. Cars are a major because of urban air pollution with all types of cars producing dust from brakes tyres and road wear. While there are different ways to power cars most rely on gasoline or diesel and they consume almost a quarter of world oil production as of 2019 update . In 2018 passenger road vehicles emitted 3.6 gigatonnes of carbon dioxide. Many Chinese cities limit licensing of fossil fuel cars and many countries plan to stop selling them between 2025 and 2050. The manufacture of vehicles is resource intensive and many manufacturers now report on the environmental performance of their factories including energy usage waste and water consumption. Animals and plants are often negatively impacted by cars via habitat destruction and pollution. Over the lifetime of the average car the loss of habitat potential may be over 50000 m2 540000 sq ft based on primary production correlations. Growth in the popularity of vehicles and commuting has led to traffic congestion. New materials which may replace steel car bodies include duralumin fiberglass carbon fiber biocomposites and carbon nanotubes. Telematics technology is allowing more and more people to share cars on a payasyougo basis through car share and carpool schemes. In the opinion of some urban transport systems based around the car have proved unsustainable consuming excessive energy affecting the health of populations and delivering a declining level of service despite increasing investment.\n"
          ],
          "name": "stdout"
        },
        {
          "output_type": "execute_result",
          "data": {
            "application/vnd.google.colaboratory.intrinsic+json": {
              "type": "string"
            },
            "text/plain": [
              "'A car or automobile is a wheeled motor vehicle used for transportation. citation needed  Cars have controls for driving parking passenger comfort and a variety of lights. Electric cars which were invented early in the history of the car became commercially available in the 2000s and are predicted to cost less to buy than gasoline cars before 2025. The transition from fossil fuels to electric cars features prominently in most climate change mitigation scenarios such as Project Drawdowns 100 actionable solutions for climate change. Traffic collisions are the largest because of injuryrelated deaths worldwide. The personal benefits include ondemand transportation mobility independence and convenience. The societal benefits include economic benefits such as job and wealth creation from the automotive industry transportation provision societal wellbeing from leisure and travel opportunities and revenue generation from the taxes. Peoples ability to move flexibly from place to place has farreaching implications for the nature of societies. The numbers are increasing rapidly especially in China India and other newly industrialized countries. Autocar a variant likewise attested from 1895 and literally meaning selfpropelled car is now considered archaic. Automobile a classical compound derived from Ancient Greek aut s       self and Latin mobilis movable entered English from French and was first adopted by the Automobile Club of Great Britain in 1897. Coincidentally in 1807 the Swiss inventor Fran ois Isaac de Rivaz designed his own de Rivaz internal combustion engine and used it to develop the worlds first vehicle to be powered by such an engine. They also were powered with fourstroke engines of his own design. The first design for an American car with a gasoline internal combustion engine was made in 1877 by George Selden of Rochester New York. Selden applied for a patent for a car in 1879 but the patent application expired because the vehicle was never built. The first public run of the Duryea Motor Wagon took place on 21 September 1893 on Taylor Street in Metro Center Springfield. Santler from Malvern is recognized by the Veteran Car Club of Great Britain as having made the first gasolinepowered car in the country in 1894 followed by Frederick William Lanchester in 1895 but these were both oneoffs. Largescale productionline manufacturing of affordable cars was started by Ransom Olds in 1901 at his Oldsmobile factory in Lansing Michigan and based upon stationary assembly line techniques pioneered by Marc Isambard Brunel at the Portsmouth Block Mills England in 1802. The assembly line style of mass production and interchangeable parts had been pioneered in the you. Reflecting the rapid pace of change makes shared parts with one another so larger production volume resulted in lower costs for each price range. Germanys first massmanufactured car the Opel 4PS Laubfrosch Tree Frog came off the line at Russelsheim in 1924 soon making Opel the top car builder in Germany with 37.5 of the market. Only a handful of companies were producing vehicles in limited numbers and these were small threewheeled for commercial uses like Daihatsu or were the result of partnering with European companies like Isuzu building the Wolseley A9 in 1922. The transport sector is a major contributor to air pollution noise pollution and climate change. Most cars in use in the 2010s run on gasoline burnt in an internal combustion engine ICE. This includes hybrid vehicles plugin electric vehicles and hydrogen vehicles. 2.1 million light electric vehicles of all types but mainly cars were sold in 2018 over half in China this was an increase of 64 on the previous year giving a global total on the road of 5.4 million. Another change is that while early cars pedals were physically linked to the brake mechanism and throttle in the 2010s cars have increasingly replaced these physical linkages with electronic controls. These include headlights which are used to illuminate the way ahead and make the car visible to other users so that the vehicle can be used at night in some jurisdictions daytime running lights red brake lights to indicate when the brakes are applied amber turn signal lights to indicate the turn intentions of the driver whitecolored reverse lights to illuminate the area behind the car and indicate that the driver will be or is reversing and on some vehicles additional lights e.g. side marker lights to increase the visibility of the car. Some vehicles also have a trunk light and more rarely an engine compartment light. Heavier cars include fullsize cars SUVs and extendedlength SUVs like the Suburban. Most cars are designed to carry multiple occupants often with four or five seats. The costs of car usage which may include the cost of acquiring the vehicle repairs and auto maintenance fuel depreciation driving time parking fees taxes and insurance are weighed against the cost of the alternatives and the value of the benefits   perceived and real   of vehicle usage. Cars are a major because of urban air pollution with all types of cars producing dust from brakes tyres and road wear. While there are different ways to power cars most rely on gasoline or diesel and they consume almost a quarter of world oil production as of 2019 update . In 2018 passenger road vehicles emitted 3.6 gigatonnes of carbon dioxide. Many Chinese cities limit licensing of fossil fuel cars and many countries plan to stop selling them between 2025 and 2050. The manufacture of vehicles is resource intensive and many manufacturers now report on the environmental performance of their factories including energy usage waste and water consumption. Animals and plants are often negatively impacted by cars via habitat destruction and pollution. Over the lifetime of the average car the loss of habitat potential may be over 50000 m2 540000 sq ft based on primary production correlations. Growth in the popularity of vehicles and commuting has led to traffic congestion. New materials which may replace steel car bodies include duralumin fiberglass carbon fiber biocomposites and carbon nanotubes. Telematics technology is allowing more and more people to share cars on a payasyougo basis through car share and carpool schemes. In the opinion of some urban transport systems based around the car have proved unsustainable consuming excessive energy affecting the health of populations and delivering a declining level of service despite increasing investment.'"
            ]
          },
          "metadata": {
            "tags": []
          },
          "execution_count": 46
        }
      ]
    },
    {
      "cell_type": "markdown",
      "metadata": {
        "id": "Utjf3iZhkv4C"
      },
      "source": [
        "### XLM Transformer"
      ]
    },
    {
      "cell_type": "code",
      "metadata": {
        "id": "kjz8LjKDrL9E",
        "colab": {
          "base_uri": "https://localhost:8080/"
        },
        "outputId": "d10a8a93-f587-4cea-b675-7c9eb804b539"
      },
      "source": [
        "XLM_model = XLMWithLMHeadModel.from_pretrained('xlm-mlm-en-2048') #XLM Model\n",
        "XLM_model.config.max_length = 512\n",
        "tokenizer = XLMTokenizer.from_pretrained('xlm-mlm-en-2048')"
      ],
      "execution_count": null,
      "outputs": [
        {
          "output_type": "stream",
          "text": [
            "100%|██████████| 840/840 [00:00<00:00, 227377.56B/s]\n",
            "100%|██████████| 2668507970/2668507970 [00:59<00:00, 44883810.22B/s]\n",
            "100%|██████████| 646181/646181 [00:00<00:00, 32333363.79B/s]\n",
            "100%|██████████| 486639/486639 [00:00<00:00, 27571788.14B/s]\n"
          ],
          "name": "stderr"
        }
      ]
    },
    {
      "cell_type": "code",
      "metadata": {
        "colab": {
          "base_uri": "https://localhost:8080/"
        },
        "id": "rvIQN5IaFqBv",
        "outputId": "bbde648c-2205-4071-8f34-3f9b2301ed6a"
      },
      "source": [
        ""
      ],
      "execution_count": null,
      "outputs": [
        {
          "output_type": "execute_result",
          "data": {
            "text/plain": [
              "<transformers.tokenization_xlm.XLMTokenizer at 0x7f0e781a8c10>"
            ]
          },
          "metadata": {
            "tags": []
          },
          "execution_count": 50
        }
      ]
    },
    {
      "cell_type": "code",
      "metadata": {
        "id": "aLe1c7g-lp8J"
      },
      "source": [
        "def XLM_Transformer_fun(text,model):\n",
        "  inputs = tokenizer.batch_encode_plus([text], return_tensors='pt',max_length=511)\n",
        "  sum_xlm_ids = model.generate(inputs['input_ids'])\n",
        "  sum_xlm = tokenizer.decode(sum_xlm_ids[0], skip_special_tokens=True)\n",
        "  return sum_xlm\n",
        "sum_xlm = XLM_Transformer_fun(text,XLM_model)\n",
        "sum_xlm"
      ],
      "execution_count": null,
      "outputs": []
    },
    {
      "cell_type": "markdown",
      "metadata": {
        "id": "7xrvk5oYhcsu"
      },
      "source": [
        "# Question Answering"
      ]
    },
    {
      "cell_type": "code",
      "metadata": {
        "id": "CO5TxssSacbI"
      },
      "source": [
        "from transformers import pipeline"
      ],
      "execution_count": null,
      "outputs": []
    },
    {
      "cell_type": "code",
      "metadata": {
        "id": "S1_YCcWncrjf"
      },
      "source": [
        "!pip install git+https://github.com/huggingface/transformers"
      ],
      "execution_count": null,
      "outputs": []
    },
    {
      "cell_type": "code",
      "metadata": {
        "id": "LcXmPAMO-Du3"
      },
      "source": [
        "question = \"What is the capital of the Netherlands?\"\n",
        "context = r\"The four largest cities in the Netherlands are Amsterdam, Rotterdam, The Hague and Utrecht.[17] Amsterdam is the country's most populous city and nominal capital,[18] while The Hague holds the seat of the States General, Cabinet and Supreme Court.[19] The Port of Rotterdam is the busiest seaport in Europe, and the busiest in any country outside East Asia and Southeast Asia, behind only China and Singapore.\"\n",
        "\n",
        "# Generating an answer to the question in context\n",
        "qa = pipeline(\"question-answering\")\n",
        "answer = qa(question=question, context=context)\n",
        "\n",
        "# Print the answer\n",
        "print(f\"Question: {question}\")\n",
        "print(f\"Answer: '{answer['answer']}' with score {answer['score']}\")"
      ],
      "execution_count": null,
      "outputs": []
    },
    {
      "cell_type": "code",
      "metadata": {
        "id": "TyFN_VfddOiQ"
      },
      "source": [
        "question_answerer = pipeline('question-answering')\n",
        "question_answerer({\n",
        "    'question': 'What is the Newtons third law of motion?',\n",
        "    'context': 'Newton’s third law of motion states that, \"For every action there is equal and opposite reaction\"'})"
      ],
      "execution_count": null,
      "outputs": []
    },
    {
      "cell_type": "code",
      "metadata": {
        "id": "p1G0uVhfeUFJ"
      },
      "source": [
        "question_answerer({\n",
        "    'question': 'What is blackhole?',\n",
        "    'context': 'Newton’s third law of motion states that, \"For every action there is equal and opposite reaction\"'})"
      ],
      "execution_count": null,
      "outputs": []
    },
    {
      "cell_type": "code",
      "metadata": {
        "id": "g0Nhs4eOeb5p"
      },
      "source": [
        "question = \"What is the capital of the India?\"\n",
        "context = r\"The four largest cities in the Netherlands are Amsterdam, Rotterdam, The Hague and Utrecht.[17] Amsterdam is the country's most populous city and nominal capital,[18] while The Hague holds the seat of the States General, Cabinet and Supreme Court.[19] The Port of Rotterdam is the busiest seaport in Europe, and the busiest in any country outside East Asia and Southeast Asia, behind only China and Singapore.\""
      ],
      "execution_count": null,
      "outputs": []
    },
    {
      "cell_type": "code",
      "metadata": {
        "id": "_APVWLiCeoPK"
      },
      "source": [
        "qa = pipeline(\"question-answering\")\n",
        "answer = qa(question=question, context=context)\n",
        "print(f\"Question: {question}\")\n",
        "print(f\"Answer: '{answer['answer']}' with score {answer['score']}\")"
      ],
      "execution_count": null,
      "outputs": []
    },
    {
      "cell_type": "code",
      "metadata": {
        "id": "niynTyORC1H3"
      },
      "source": [
        "answer['answer']"
      ],
      "execution_count": null,
      "outputs": []
    },
    {
      "cell_type": "code",
      "metadata": {
        "id": "v1EvZ2WjC7Hb"
      },
      "source": [
        "# question = request.json['query']\n",
        "# context = request.json['paragraph']\n",
        "qa = pipeline(\"question-answering\")\n",
        "answer = qa(question=question, context=context)\n",
        "\n",
        "output = {\n",
        "          'result': answer['answer']\n",
        "          }"
      ],
      "execution_count": null,
      "outputs": []
    },
    {
      "cell_type": "code",
      "metadata": {
        "id": "3kt_LMfWD7Da"
      },
      "source": [
        "from flask import request, jsonify\n",
        "import requests\n",
        "import bs4"
      ],
      "execution_count": null,
      "outputs": []
    },
    {
      "cell_type": "code",
      "metadata": {
        "id": "1cpZMc09D0gN"
      },
      "source": [
        "output = {'acd' : 'xyz' }"
      ],
      "execution_count": null,
      "outputs": []
    },
    {
      "cell_type": "code",
      "metadata": {
        "id": "pYqqVlTJD1X8"
      },
      "source": [
        "res = requests.get(\"https://en.wikipedia.org/wiki/\"+'Car')\n",
        "wiki = bs4.BeautifulSoup(res.text, \"lxml\")\n",
        "para = [''.join([i.getText() for i in wiki.select('p')])]\n",
        "summary = getSummary(para[0])"
      ],
      "execution_count": null,
      "outputs": []
    },
    {
      "cell_type": "code",
      "metadata": {
        "id": "Wx-1iiWrD-yY"
      },
      "source": [
        ""
      ],
      "execution_count": null,
      "outputs": []
    },
    {
      "cell_type": "code",
      "metadata": {
        "id": "CS2tsZhPHdIx"
      },
      "source": [
        ""
      ],
      "execution_count": null,
      "outputs": []
    },
    {
      "cell_type": "code",
      "metadata": {
        "id": "2Yqsm1JQHdLd"
      },
      "source": [
        ""
      ],
      "execution_count": null,
      "outputs": []
    },
    {
      "cell_type": "code",
      "metadata": {
        "id": "NbGp-jRFHdPB"
      },
      "source": [
        ""
      ],
      "execution_count": null,
      "outputs": []
    },
    {
      "cell_type": "code",
      "metadata": {
        "id": "xbLEwFccHdRZ",
        "colab": {
          "base_uri": "https://localhost:8080/"
        },
        "outputId": "b00881bb-3d78-47c4-e241-ba35a6d08a1a"
      },
      "source": [
        "!pip install rouge-score"
      ],
      "execution_count": null,
      "outputs": [
        {
          "output_type": "stream",
          "text": [
            "Collecting rouge-score\n",
            "  Downloading https://files.pythonhosted.org/packages/1f/56/a81022436c08b9405a5247b71635394d44fe7e1dbedc4b28c740e09c2840/rouge_score-0.0.4-py2.py3-none-any.whl\n",
            "Requirement already satisfied: absl-py in /usr/local/lib/python3.7/dist-packages (from rouge-score) (0.12.0)\n",
            "Requirement already satisfied: nltk in /usr/local/lib/python3.7/dist-packages (from rouge-score) (3.2.5)\n",
            "Requirement already satisfied: numpy in /usr/local/lib/python3.7/dist-packages (from rouge-score) (1.19.5)\n",
            "Requirement already satisfied: six>=1.14.0 in /usr/local/lib/python3.7/dist-packages (from rouge-score) (1.15.0)\n",
            "Installing collected packages: rouge-score\n",
            "Successfully installed rouge-score-0.0.4\n"
          ],
          "name": "stdout"
        }
      ]
    },
    {
      "cell_type": "code",
      "metadata": {
        "id": "N4tztyXh5R6y"
      },
      "source": [
        "from rouge_score import rouge_scorer\n",
        "scorer = rouge_scorer.RougeScorer(['rouge1', 'rougeL'], use_stemmer=True)"
      ],
      "execution_count": null,
      "outputs": []
    },
    {
      "cell_type": "code",
      "metadata": {
        "colab": {
          "base_uri": "https://localhost:8080/"
        },
        "id": "ncoKPzP_5UXT",
        "outputId": "06a27250-f201-4e01-e59f-2eeee7f07fa8"
      },
      "source": [
        "summary = getSummary(para[0])\n",
        "scores_tf_idf = scorer.score(para[0],summary)\n",
        "print(\"Scores tf-idf using rouge1:\",scores_tf_idf['rouge1'])\n",
        "print(\"Scores tf-idf using rougeL:\",scores_tf_idf['rougeL'])\n"
      ],
      "execution_count": null,
      "outputs": [
        {
          "output_type": "stream",
          "text": [
            "Scores tf-idf using rouge1: Score(precision=0.9619520264681555, recall=0.20686588402703665, fmeasure=0.3405065144195579)\n",
            "Scores tf-idf using rougeL: Score(precision=0.9586435070306039, recall=0.20615439345428674, fmeasure=0.3393353828136437)\n"
          ],
          "name": "stdout"
        }
      ]
    },
    {
      "cell_type": "code",
      "metadata": {
        "colab": {
          "base_uri": "https://localhost:8080/"
        },
        "id": "qJiMfAoB5h8w",
        "outputId": "6c84b4c3-9b6b-4834-a5b1-d95adff7c84d"
      },
      "source": [
        "\n",
        "#text_Rank\n",
        "summaryList = summarize(text, ratio = 0.05, split = '\\n')\n",
        "summaryList2 = \"\"\n",
        "for i in summaryList:\n",
        "  summaryList2 += i\n",
        "scores_text_Rank = scorer.score(str(text),summaryList2)\n",
        "print(\"\\nScores Text Rank using rouge1:\",scores_text_Rank['rouge1'])\n",
        "print(\"Scores Text Rank using rougeL:\",scores_text_Rank['rougeL'])"
      ],
      "execution_count": null,
      "outputs": [
        {
          "output_type": "stream",
          "text": [
            "\n",
            "Scores Text Rank using rouge1: Score(precision=1.0, recall=0.0654484430356144, fmeasure=0.12285614280714036)\n",
            "Scores Text Rank using rougeL: Score(precision=1.0, recall=0.0654484430356144, fmeasure=0.12285614280714036)\n"
          ],
          "name": "stdout"
        }
      ]
    },
    {
      "cell_type": "code",
      "metadata": {
        "colab": {
          "base_uri": "https://localhost:8080/"
        },
        "id": "c7q__WA96gYO",
        "outputId": "f811fb46-9d53-46f6-ec25-8982f58b499c"
      },
      "source": [
        "\n",
        "# sum_XLNet = XLNet_fun(XLNet_model,text)\n",
        "scores_XL_net = scorer.score(text,sum_XLNet)\n",
        "print(\"\\nScores XL net using rouge1:\",scores_XL_net['rouge1'])\n",
        "print(\"Scores XL net using rougeL:\",scores_XL_net['rougeL'])"
      ],
      "execution_count": null,
      "outputs": [
        {
          "output_type": "stream",
          "text": [
            "\n",
            "Scores XL net using rouge1: Score(precision=1.0, recall=0.194107775498788, fmeasure=0.3251093066833229)\n",
            "Scores XL net using rougeL: Score(precision=1.0, recall=0.194107775498788, fmeasure=0.3251093066833229)\n"
          ],
          "name": "stdout"
        }
      ]
    },
    {
      "cell_type": "code",
      "metadata": {
        "colab": {
          "base_uri": "https://localhost:8080/"
        },
        "id": "1E16asyP6wif",
        "outputId": "7d048251-0c4c-424e-d3f8-669190931261"
      },
      "source": [
        "scores_Bert = scorer.score(text,sum_bert)\n",
        "print(\"\\nScores Bert using rouge1:\",scores_Bert['rouge1'])\n",
        "print(\"Scores Bert using rougeL:\",scores_Bert['rougeL'])"
      ],
      "execution_count": null,
      "outputs": [
        {
          "output_type": "stream",
          "text": [
            "\n",
            "Scores Bert using rouge1: Score(precision=1.0, recall=0.1698676114115234, fmeasure=0.2904048453936882)\n",
            "Scores Bert using rougeL: Score(precision=1.0, recall=0.1698676114115234, fmeasure=0.2904048453936882)\n"
          ],
          "name": "stdout"
        }
      ]
    },
    {
      "cell_type": "code",
      "metadata": {
        "colab": {
          "base_uri": "https://localhost:8080/"
        },
        "id": "RNgICBJt8RjS",
        "outputId": "42ea7612-f8bf-4269-c8cf-988238fdf399"
      },
      "source": [
        "scores_gpt2 = scorer.score(text,sum_gpt2)\n",
        "print(\"\\nScores Bert using rouge1:\",scores_gpt2['rouge1'])\n",
        "print(\"Scores Bert using rougeL:\",scores_gpt2['rougeL'])"
      ],
      "execution_count": null,
      "outputs": [
        {
          "output_type": "stream",
          "text": [
            "\n",
            "Scores Bert using rouge1: Score(precision=1.0, recall=0.194107775498788, fmeasure=0.3251093066833229)\n",
            "Scores Bert using rougeL: Score(precision=1.0, recall=0.194107775498788, fmeasure=0.3251093066833229)\n"
          ],
          "name": "stdout"
        }
      ]
    },
    {
      "cell_type": "code",
      "metadata": {
        "id": "Suyrz7kt_CZ1"
      },
      "source": [
        "scores_xlm = scorer.score(text,sum_xlm)\n",
        "print(\"\\nScores Bert using rouge1:\",scores_xlm['rouge1'])\n",
        "print(\"Scores Bert using rougeL:\",scores_xlm['rougeL'])"
      ],
      "execution_count": null,
      "outputs": []
    },
    {
      "cell_type": "code",
      "metadata": {
        "id": "BVzdmW_1K9S8"
      },
      "source": [
        "#source code of rouge_score can be found here : https://github.com/google-research/google-research/blob/master/rouge/rouge_scorer.py\n",
        "from rouge_score import rouge_scorer\n",
        "scorer = rouge_scorer.RougeScorer(['rouge1', 'rougeL'], use_stemmer=True)\n",
        "\n",
        "#tf-idf \n",
        "summary = getSummary(para[0])\n",
        "scores_tf_idf = scorer.score(para[0],summary)\n",
        "print(\"Scores tf-idf using rouge1:\",scores_tf_idf['rouge1'])\n",
        "print(\"Scores tf-idf using rougeL:\",scores_tf_idf['rougeL'])\n",
        "\n",
        "#text_Rank\n",
        "summaryList = summarize(text, ratio = 0.05, split = '\\n')\n",
        "summaryList2 = \"\"\n",
        "for i in summaryList:\n",
        "  summaryList2 += i\n",
        "scores_text_Rank = scorer.score(str(text),summaryList2)\n",
        "print(\"\\nScores Text Rank using rouge1:\",scores_text_Rank['rouge1'])\n",
        "print(\"Scores Text Rank using rougeL:\",scores_text_Rank['rougeL'])\n",
        "\n",
        "#XL_net\n",
        "text = clean(para[0])\n",
        "# sum_XLNet = XLNet_fun(XLNet_model,text)\n",
        "scores_XL_net = scorer.score(text,sum_XLNet)\n",
        "print(\"\\nScores XL net using rouge1:\",scores_XL_net['rouge1'])\n",
        "print(\"Scores XL net using rougeL:\",scores_XL_net['rougeL'])\n",
        "\n",
        "#Bert\n",
        "# sum_bert = bert_fun(Bert_model,text)\n",
        "# print(text)\n",
        "scores_Bert = scorer.score(text,sum_bert)\n",
        "print(\"\\nScores Bert using rouge1:\",scores_Bert['rouge1'])\n",
        "print(\"Scores Bert using rougeL:\",scores_Bert['rougeL'])\n",
        "\n",
        "#GPT 2\n",
        "# sum_gpt2 = gpt2(gpt2Model, text)\n",
        "print((sum_gpt2))\n",
        "\n",
        "scores_gpt2 = scorer.score(text,sum_gpt2)\n",
        "print(\"\\nScores Bert using rouge1:\",scores_gpt2['rouge1'])\n",
        "print(\"Scores Bert using rougeL:\",scores_gpt2['rougeL'])\n",
        "\n",
        "#xlm\n",
        "# print(type(scores_xlm))\n",
        "\n",
        "scores_xlm = scorer.score(text,sum_xlm)\n",
        "print(\"\\nScores Bert using rouge1:\",scores_xlm['rouge1'])\n",
        "print(\"Scores Bert using rougeL:\",scores_xlm['rougeL'])\n",
        "\n"
      ],
      "execution_count": null,
      "outputs": []
    },
    {
      "cell_type": "code",
      "metadata": {
        "id": "x9AjdrhlKyUP"
      },
      "source": [
        "summaryList\n"
      ],
      "execution_count": null,
      "outputs": []
    },
    {
      "cell_type": "code",
      "metadata": {
        "id": "TzRFYSunHmrn"
      },
      "source": [
        "!pip install rouge"
      ],
      "execution_count": null,
      "outputs": []
    },
    {
      "cell_type": "code",
      "metadata": {
        "id": "PzLazUSDIJRC"
      },
      "source": [
        "from rouge import Rouge"
      ],
      "execution_count": null,
      "outputs": []
    },
    {
      "cell_type": "code",
      "metadata": {
        "id": "Yy65JXP4ImHm"
      },
      "source": [
        "rouge = Rouge()"
      ],
      "execution_count": null,
      "outputs": []
    },
    {
      "cell_type": "code",
      "metadata": {
        "id": "qgGDoMgjI-rm"
      },
      "source": [
        "\n",
        "model_out = \"he began by starting a five person war cabinet and included chamberlain as lord president of the council\"\n",
        "\n",
        "reference = \"he began his premiership by forming a five-man war cabinet which included chamberlain as lord president of the council\""
      ],
      "execution_count": null,
      "outputs": []
    },
    {
      "cell_type": "code",
      "metadata": {
        "id": "T-6-u9YrImKM"
      },
      "source": [
        "rouge.get_scores(model_out, reference)"
      ],
      "execution_count": null,
      "outputs": []
    },
    {
      "cell_type": "code",
      "metadata": {
        "id": "4_s8Jn4kImMM"
      },
      "source": [
        ""
      ],
      "execution_count": null,
      "outputs": []
    }
  ]
}